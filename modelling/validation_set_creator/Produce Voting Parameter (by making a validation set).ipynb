{
 "cells": [
  {
   "cell_type": "code",
   "execution_count": 1,
   "metadata": {},
   "outputs": [],
   "source": [
    "import pandas as pd\n",
    "import datetime\n",
    "import json\n",
    "import numpy as np"
   ]
  },
  {
   "cell_type": "code",
   "execution_count": 2,
   "metadata": {},
   "outputs": [],
   "source": [
    "blurb = pd.read_csv('blurb_validation_df.csv', index_col='Unnamed: 0')"
   ]
  },
  {
   "cell_type": "code",
   "execution_count": 3,
   "metadata": {},
   "outputs": [],
   "source": [
    "oi = pd.read_csv('projects_fin.csv', index_col='Unnamed: 0')"
   ]
  },
  {
   "cell_type": "code",
   "execution_count": 4,
   "metadata": {},
   "outputs": [],
   "source": [
    "projects = pd.merge(blurb, oi, left_on = 'name', right_on = 'name', how='inner')"
   ]
  },
  {
   "cell_type": "code",
   "execution_count": 5,
   "metadata": {},
   "outputs": [
    {
     "data": {
      "text/plain": [
       "<function matplotlib.pyplot.show(*args, **kw)>"
      ]
     },
     "execution_count": 5,
     "metadata": {},
     "output_type": "execute_result"
    }
   ],
   "source": [
    "import matplotlib.pyplot as plt\n",
    "fig = plt.figure(figsize=(8,6))\n",
    "projects.groupby('state_new').blurb.count().plot.bar(ylim=0)\n",
    "plt.show"
   ]
  },
  {
   "cell_type": "markdown",
   "metadata": {},
   "source": [
    "This menas that if the model has no predicting power the accuracy should be "
   ]
  },
  {
   "cell_type": "markdown",
   "metadata": {},
   "source": [
    "# Basic preprocessing"
   ]
  },
  {
   "cell_type": "code",
   "execution_count": 6,
   "metadata": {},
   "outputs": [],
   "source": [
    "projects['launched_year'] = projects.apply(lambda x: x['launched'].split(\" \")[0].split(\"-\")[0], axis = 1)\n",
    "projects['launched_month'] = projects.apply(lambda x: x['launched'].split(\" \")[0].split(\"-\")[1], axis = 1)\n",
    "projects['launched_day'] = projects.apply(lambda x: x['launched'].split(\" \")[0].split(\"-\")[2], axis = 1)\n",
    "projects['launched_date'] = projects.apply(lambda x: x['launched'].split(\" \")[0].split(\"-\")[1] + x['launched'].split(\" \")[0].split(\"-\")[2], axis = 1)"
   ]
  },
  {
   "cell_type": "code",
   "execution_count": 7,
   "metadata": {},
   "outputs": [],
   "source": [
    "projects['deadline_dt'] = projects.apply(lambda x: datetime.datetime.strptime(x['deadline'], \"%Y-%m-%d\").date(), axis = 1)\n",
    "projects['launched_dt'] = projects.apply(lambda x: datetime.datetime.strptime(x['launched'].split(\" \")[0], \"%Y-%m-%d\").date(), axis = 1)"
   ]
  },
  {
   "cell_type": "code",
   "execution_count": 8,
   "metadata": {},
   "outputs": [],
   "source": [
    "projects['term'] = projects.apply(lambda x: int(str(x['deadline_dt'] - x['launched_dt']).split(\" \")[0]), axis = 1)\n",
    "projects['term_str'] = projects.apply(lambda x: str(x['term']), axis = 1)"
   ]
  },
  {
   "cell_type": "code",
   "execution_count": 9,
   "metadata": {},
   "outputs": [],
   "source": [
    "# launch 날짜가 1970년으로 되어있는 row는 삭제\n",
    "projects_new = projects[lambda x: x['term'] < 100]"
   ]
  },
  {
   "cell_type": "code",
   "execution_count": 10,
   "metadata": {},
   "outputs": [],
   "source": [
    "projects_new = projects_new.reset_index().drop(['index'], axis = 1)"
   ]
  },
  {
   "cell_type": "code",
   "execution_count": 11,
   "metadata": {},
   "outputs": [],
   "source": [
    "projects_new['term_str'] = projects_new.apply(lambda x: x['term_str'] if len(x['term_str']) != 1\n",
    "                                             else '0' + x['term_str'], axis = 1)"
   ]
  },
  {
   "cell_type": "code",
   "execution_count": 12,
   "metadata": {},
   "outputs": [],
   "source": [
    "# binnarize the dependent variable\n",
    "projects_new['state_bin'] = projects_new['state_new'].apply(lambda x: 0 if x == 'failed' else 1)"
   ]
  },
  {
   "cell_type": "code",
   "execution_count": 13,
   "metadata": {},
   "outputs": [],
   "source": [
    "# 10만원 이하로 펀딩 받는 경우는 지움\n",
    "projects_fin = projects_new[projects_new['usd_goal_real'] > 100]"
   ]
  },
  {
   "cell_type": "markdown",
   "metadata": {},
   "source": [
    "# Precise Preprocessing\n",
    "- dtype conversion\n",
    "- category labeling"
   ]
  },
  {
   "cell_type": "code",
   "execution_count": 14,
   "metadata": {},
   "outputs": [],
   "source": [
    "train_data = projects_fin[['category', 'main_category', 'currency', 'country', 'usd_goal_real', 'state_bin', 'launched_year', 'launched_month', 'term', 'blurb']]"
   ]
  },
  {
   "cell_type": "code",
   "execution_count": 15,
   "metadata": {},
   "outputs": [],
   "source": [
    "train = pd.DataFrame()"
   ]
  },
  {
   "cell_type": "code",
   "execution_count": 16,
   "metadata": {},
   "outputs": [],
   "source": [
    "# lode vectorizatino labeling\n",
    "with open('../non_nlp/cat_labels.json') as json_file:\n",
    "    data = json.load(json_file)"
   ]
  },
  {
   "cell_type": "code",
   "execution_count": 17,
   "metadata": {},
   "outputs": [],
   "source": [
    "# Assigning a categorical type to categorical varibles and vectorizing the categories for simplification\n",
    "\n",
    "train['category'] = train_data['category'].map(data['category'])\n",
    "train['main_category'] = train_data['main_category'].map(data['main_category'])\n",
    "train['currency'] = train_data['currency'].map(data['currency'])\n",
    "train['country'] = train_data['country'].map(data['country'])"
   ]
  },
  {
   "cell_type": "code",
   "execution_count": 18,
   "metadata": {},
   "outputs": [],
   "source": [
    "train[['usd_goal_real', 'launched_year', 'launched_month', 'term', 'state', 'blurb']] = train_data[['usd_goal_real', 'launched_year', 'launched_month', 'term', 'state_bin', 'blurb']]"
   ]
  },
  {
   "cell_type": "code",
   "execution_count": 19,
   "metadata": {},
   "outputs": [],
   "source": [
    "# remove NA values\n",
    "train = train.dropna()"
   ]
  },
  {
   "cell_type": "code",
   "execution_count": 20,
   "metadata": {},
   "outputs": [],
   "source": [
    "# turn categories into integer\n",
    "train['category'] = train['category'].astype('int16')\n",
    "train['main_category'] = train['main_category'].astype('int8')\n",
    "train['currency'] = train['currency'].astype('int8')\n",
    "train['country'] = train['country'].astype('int8')"
   ]
  },
  {
   "cell_type": "code",
   "execution_count": 21,
   "metadata": {},
   "outputs": [],
   "source": [
    "train['launched_year'] = (train['launched_year']).astype('int')\n",
    "train['launched_month'] = (train['launched_month']).astype('int')"
   ]
  },
  {
   "cell_type": "markdown",
   "metadata": {},
   "source": [
    "# Test Data form"
   ]
  },
  {
   "cell_type": "code",
   "execution_count": 22,
   "metadata": {},
   "outputs": [],
   "source": [
    "col = list(train.columns)\n",
    "col.remove('blurb')\n",
    "\n",
    "x = train[col]\n",
    "y_test = train['state']"
   ]
  },
  {
   "cell_type": "markdown",
   "metadata": {},
   "source": [
    "# non-NLP Model"
   ]
  },
  {
   "cell_type": "code",
   "execution_count": 23,
   "metadata": {},
   "outputs": [],
   "source": [
    "import pickle"
   ]
  },
  {
   "cell_type": "code",
   "execution_count": 24,
   "metadata": {},
   "outputs": [],
   "source": [
    "cb_clf = pickle.load(open('../non_nlp/Non_nlp_model', 'rb'))"
   ]
  },
  {
   "cell_type": "code",
   "execution_count": 25,
   "metadata": {},
   "outputs": [],
   "source": [
    "y_pred = cb_clf.predict(x)"
   ]
  },
  {
   "cell_type": "code",
   "execution_count": 26,
   "metadata": {},
   "outputs": [],
   "source": [
    "from sklearn.metrics import accuracy_score, f1_score"
   ]
  },
  {
   "cell_type": "code",
   "execution_count": 27,
   "metadata": {},
   "outputs": [
    {
     "data": {
      "text/plain": [
       "(0.5510428100987926, 0.689445709946849)"
      ]
     },
     "execution_count": 27,
     "metadata": {},
     "output_type": "execute_result"
    }
   ],
   "source": [
    "f1_score(y_test, y_pred), accuracy_score(y_test, y_pred)"
   ]
  },
  {
   "cell_type": "markdown",
   "metadata": {},
   "source": [
    "# Creating the Vectorizer Fit for the Existing Model"
   ]
  },
  {
   "cell_type": "code",
   "execution_count": 28,
   "metadata": {},
   "outputs": [],
   "source": [
    "peta = pd.read_csv(\"df_text_eng.csv\")"
   ]
  },
  {
   "cell_type": "code",
   "execution_count": 29,
   "metadata": {},
   "outputs": [],
   "source": [
    "del peta['Unnamed: 0'] \n",
    "from io import StringIO\n",
    "peta['state_id'] = peta['state'].factorize()[0]\n",
    "state_id_df = peta[['state', 'state_id']].drop_duplicates().sort_values('state_id')\n",
    "state_to_id = dict(state_id_df.values)\n",
    "id_to_state = dict(state_id_df[['state_id', 'state']].values)"
   ]
  },
  {
   "cell_type": "code",
   "execution_count": 30,
   "metadata": {},
   "outputs": [],
   "source": [
    "import re\n",
    "def clean(text):\n",
    "    text = str(text)\n",
    "    text = re.findall(r'\\w+', text)\n",
    "    return ' '.join(text)\n",
    "peta['blurb'] = peta['blurb'].apply(lambda x: clean(x))"
   ]
  },
  {
   "cell_type": "code",
   "execution_count": 31,
   "metadata": {},
   "outputs": [],
   "source": [
    "from sklearn.model_selection import train_test_split\n",
    "from sklearn.feature_extraction.text import TfidfVectorizer\n",
    "x_train, x_zeta, y_zeta, y_peta = train_test_split(peta['blurb'], peta['state'], train_size=0.7, random_state=42)\n",
    "vectorizer = TfidfVectorizer().fit(x_train)"
   ]
  },
  {
   "cell_type": "markdown",
   "metadata": {},
   "source": [
    "# NLP Model"
   ]
  },
  {
   "cell_type": "code",
   "execution_count": 32,
   "metadata": {},
   "outputs": [],
   "source": [
    "import re\n",
    "def clean(text):\n",
    "    text = str(text)\n",
    "    text = re.findall(r'\\w+', text)\n",
    "    return ' '.join(text)\n",
    "train['blurb'] = train['blurb'].apply(lambda x: clean(x))"
   ]
  },
  {
   "cell_type": "code",
   "execution_count": 33,
   "metadata": {},
   "outputs": [],
   "source": [
    "x_blurb = train['blurb'].copy()\n",
    "\n",
    "x_blurb_vec = vectorizer.transform(x_blurb)"
   ]
  },
  {
   "cell_type": "code",
   "execution_count": 34,
   "metadata": {},
   "outputs": [],
   "source": [
    "lg_clf = pickle.load(open('../nlp/nlp_model.sav', 'rb'))"
   ]
  },
  {
   "cell_type": "code",
   "execution_count": 35,
   "metadata": {},
   "outputs": [],
   "source": [
    "result = pd.DataFrame(lg_clf.predict(x_blurb_vec))"
   ]
  },
  {
   "cell_type": "code",
   "execution_count": 127,
   "metadata": {},
   "outputs": [],
   "source": [
    "y_pred = result[0].apply(lambda x: 0 if x == 'failed' else 1)"
   ]
  },
  {
   "cell_type": "code",
   "execution_count": 37,
   "metadata": {},
   "outputs": [
    {
     "data": {
      "text/plain": [
       "(0.63919259882254, 0.6742596810933941)"
      ]
     },
     "execution_count": 37,
     "metadata": {},
     "output_type": "execute_result"
    }
   ],
   "source": [
    "f1_score(y_test, y_pred), accuracy_score(y_test, y_pred)"
   ]
  },
  {
   "cell_type": "markdown",
   "metadata": {},
   "source": [
    "# Voting Parameter"
   ]
  },
  {
   "cell_type": "code",
   "execution_count": 86,
   "metadata": {},
   "outputs": [],
   "source": [
    "ratio = np.arange(0, 1.01, 0.01)\n",
    "y_ratio_pred = np.arange(0, 1.01, 0.01)\n",
    "x1 = np.arange(0, 1.01, 0.01)\n",
    "y2 = np.arange(0, 1.01, 0.01)\n",
    "z2 = np.arange(0, 1.01, 0.01)\n",
    "\n",
    "for r in ratio:\n",
    "    y_ratio_pred = (cb_clf.predict_proba(x)*r + lg_clf.predict_proba(x_blurb_vec)*(1-r))[:,1]\n",
    "    y_ratio_pred = (y_ratio_pred > 0.5).astype(int)\n",
    "    y2[int(r*100)] = accuracy_score(y_test, y_ratio_pred)\n",
    "    z2[int(r*100)] = f1_score(y_test, y_ratio_pred)"
   ]
  },
  {
   "cell_type": "code",
   "execution_count": 87,
   "metadata": {},
   "outputs": [
    {
     "data": {
      "image/png": "[encoded data removed]",
      "text/plain": [
       "<Figure size 432x288 with 1 Axes>"
      ]
     },
     "metadata": {
      "needs_background": "light"
     },
     "output_type": "display_data"
    }
   ],
   "source": [
    "ax = plt.subplot(111)\n",
    "\n",
    "ax.plot(x1, y2, label='acc')\n",
    "ax.plot(x1, z2, label='f1')\n",
    "\n",
    "ax.set(xlabel='proba', ylabel='score', title='Parameter Tuning')\n",
    "ax.legend(loc='lower left')\n",
    "ax.grid()"
   ]
  },
  {
   "cell_type": "code",
   "execution_count": 88,
   "metadata": {},
   "outputs": [
    {
     "data": {
      "text/plain": [
       "(0.724373576309795, 0.6617100371747211)"
      ]
     },
     "execution_count": 88,
     "metadata": {},
     "output_type": "execute_result"
    }
   ],
   "source": [
    "max(y2), max(z2)"
   ]
  },
  {
   "cell_type": "code",
   "execution_count": 117,
   "metadata": {},
   "outputs": [],
   "source": [
    "y_ratio_pred = (cb_clf.predict_proba(x)*0.34 + lg_clf.predict_proba(x_blurb_vec)*(0.66))[:,1] > 0.5"
   ]
  },
  {
   "cell_type": "code",
   "execution_count": 118,
   "metadata": {},
   "outputs": [],
   "source": [
    "y_ratio_pred = y_ratio_pred.astype(int)"
   ]
  },
  {
   "cell_type": "code",
   "execution_count": 119,
   "metadata": {},
   "outputs": [
    {
     "data": {
      "text/plain": [
       "(0.724373576309795, 0.6616961789375583)"
      ]
     },
     "execution_count": 119,
     "metadata": {},
     "output_type": "execute_result"
    }
   ],
   "source": [
    "accuracy_score(y_test, y_ratio_pred), f1_score(y_test, y_ratio_pred)"
   ]
  },
  {
   "cell_type": "markdown",
   "metadata": {},
   "source": [
    "### Proba Manipulation of 33:67"
   ]
  },
  {
   "cell_type": "code",
   "execution_count": 136,
   "metadata": {},
   "outputs": [],
   "source": [
    "x1 = np.arange(0, 1.01, 0.01)\n",
    "y1 = np.arange(0, 1.01, 0.01)\n",
    "z1 = np.arange(0, 1.01, 0.01)\n",
    "r1 = np.full((101, ), 0.6)\n",
    "\n",
    "from sklearn.metrics import accuracy_score, f1_score\n",
    "\n",
    "for i in np.arange(0, 1.01, 0.01):\n",
    "    y_proba = ((y_final_pred) > i).astype(int)\n",
    "    y1[int(i*100)] = accuracy_score(y_test, y_proba)\n",
    "    z1[int(i*100)] = f1_score(y_test, y_proba)"
   ]
  },
  {
   "cell_type": "code",
   "execution_count": 137,
   "metadata": {},
   "outputs": [
    {
     "data": {
      "image/png": "[encoded data removed]",
      "text/plain": [
       "<Figure size 432x288 with 1 Axes>"
      ]
     },
     "metadata": {
      "needs_background": "light"
     },
     "output_type": "display_data"
    }
   ],
   "source": [
    "ax = plt.subplot(111)\n",
    "\n",
    "ax.plot(x1, y1, label='acc')\n",
    "ax.plot(x1, z1, label='f1')\n",
    "ax.plot(x1, r1, label='acc low bound')\n",
    "\n",
    "ax.set(xlabel='proba', ylabel='score', title='Parameter Tuning')\n",
    "ax.legend(loc='lower left')\n",
    "ax.grid()"
   ]
  },
  {
   "cell_type": "code",
   "execution_count": 138,
   "metadata": {},
   "outputs": [
    {
     "name": "stdout",
     "output_type": "stream",
     "text": [
      "max accuracy: 0.724373576309795\n",
      "max f1 score: 0.6789272030651341\n"
     ]
    }
   ],
   "source": [
    "print('max accuracy:', max(y1))\n",
    "print('max f1 score:', max(z1))"
   ]
  },
  {
   "cell_type": "markdown",
   "metadata": {},
   "source": [
    "# Simple 1:1 voting"
   ]
  },
  {
   "cell_type": "code",
   "execution_count": 139,
   "metadata": {},
   "outputs": [],
   "source": [
    "y_final_pred = (cb_clf.predict_proba(x) + lg_clf.predict_proba(x_blurb_vec))[:,1] /2"
   ]
  },
  {
   "cell_type": "code",
   "execution_count": 140,
   "metadata": {},
   "outputs": [],
   "source": [
    "x1 = np.arange(0, 1.01, 0.01)\n",
    "y1 = np.arange(0, 1.01, 0.01)\n",
    "z1 = np.arange(0, 1.01, 0.01)\n",
    "r1 = np.full((101, ), 0.6)\n",
    "\n",
    "from sklearn.metrics import accuracy_score, f1_score\n",
    "\n",
    "for i in np.arange(0, 1.01, 0.01):\n",
    "    y_proba = ((y_final_pred) > i).astype(int)\n",
    "    y1[int(i*100)] = accuracy_score(y_test, y_proba)\n",
    "    z1[int(i*100)] = f1_score(y_test, y_proba)"
   ]
  },
  {
   "cell_type": "code",
   "execution_count": 141,
   "metadata": {},
   "outputs": [
    {
     "data": {
      "image/png": "[encoded data removed]",
      "text/plain": [
       "<Figure size 432x288 with 1 Axes>"
      ]
     },
     "metadata": {
      "needs_background": "light"
     },
     "output_type": "display_data"
    }
   ],
   "source": [
    "ax = plt.subplot(111)\n",
    "\n",
    "ax.plot(x1, y1, label='acc')\n",
    "ax.plot(x1, z1, label='f1')\n",
    "ax.plot(x1, r1, label='acc low bound')\n",
    "\n",
    "ax.set(xlabel='proba', ylabel='score', title='Parameter Tuning')\n",
    "ax.legend(loc='lower left')\n",
    "ax.grid()"
   ]
  },
  {
   "cell_type": "code",
   "execution_count": 135,
   "metadata": {},
   "outputs": [
    {
     "name": "stdout",
     "output_type": "stream",
     "text": [
      "max accuracy: 0.724373576309795\n",
      "max f1 score: 0.6789272030651341\n"
     ]
    }
   ],
   "source": [
    "print('max accuracy:', max(y1))\n",
    "print('max f1 score:', max(z1))"
   ]
  }
 ],
 "metadata": {
  "kernelspec": {
   "display_name": "Python 3",
   "language": "python",
   "name": "python3"
  },
  "language_info": {
   "codemirror_mode": {
    "name": "ipython",
    "version": 3
   },
   "file_extension": ".py",
   "mimetype": "text/x-python",
   "name": "python",
   "nbconvert_exporter": "python",
   "pygments_lexer": "ipython3",
   "version": "3.7.3"
  }
 },
 "nbformat": 4,
 "nbformat_minor": 2
}
