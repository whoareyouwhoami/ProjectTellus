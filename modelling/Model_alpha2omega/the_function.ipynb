{
 "cells": [
  {
   "cell_type": "markdown",
   "metadata": {},
   "source": [
    "# Input format: change x into pandas dataframe\n",
    "\n",
    "x = {'main_category': 'Publishing', 'currency' : 'GBP', 'deadline' : '2015-10-09', 'launched' :'2015-08-11 12:12:28', 'country' :'UK', 'usd_goal_real': 1533.95, 'blurb': 'Using their own character, users go on educational quests around a virtual world leveling up subject-oriented skills (ie Physics).'}\n"
   ]
  },
  {
   "cell_type": "code",
   "execution_count": 1,
   "metadata": {},
   "outputs": [],
   "source": [
    "import json\n",
    "import pickle\n",
    "import datetime"
   ]
  },
  {
   "cell_type": "code",
   "execution_count": 2,
   "metadata": {},
   "outputs": [],
   "source": [
    "# load model\n",
    "cb_clf = pickle.load(open('Non_nlp_model', 'rb'))\n",
    "lg_clf = pickle.load(open('nlp_model.sav', 'rb'))"
   ]
  },
  {
   "cell_type": "code",
   "execution_count": 16,
   "metadata": {},
   "outputs": [],
   "source": [
    "# Assuming that the input from the Web is sent as a dict format\n",
    "# a function that preprocess the input\n",
    "def preprocess_nnlp(project):\n",
    "    # turn the input into adequate variables\n",
    "    project['launched_year'] = project.apply(lambda x: x['launched'].split(\" \")[0].split(\"-\")[0], axis = 1)\n",
    "    project['launched_month'] = project.apply(lambda x: x['launched'].split(\" \")[0].split(\"-\")[1], axis = 1)\n",
    "    project['launched_day'] = project.apply(lambda x: x['launched'].split(\" \")[0].split(\"-\")[2], axis = 1)\n",
    "    project['launched_date'] = project.apply(lambda x: x['launched'].split(\" \")[0].split(\"-\")[1] + x['launched'].split(\" \")[0].split(\"-\")[2], axis = 1)\n",
    "    project['deadline_dt'] = project.apply(lambda x: datetime.datetime.strptime(x['deadline'], \"%Y-%m-%d\").date(), axis = 1)\n",
    "    project['launched_dt'] = project.apply(lambda x: datetime.datetime.strptime(x['launched'].split(\" \")[0], \"%Y-%m-%d\").date(), axis = 1)\n",
    "    project['term'] = project.apply(lambda x: int(str(x['deadline_dt'] - x['launched_dt']).split(\" \")[0]), axis = 1)\n",
    "    project['term_str'] = project.apply(lambda x: str(x['term']), axis = 1)\n",
    "    \n",
    "    #select required columns\n",
    "    train_data = project[['main_category', 'currency', 'country', 'usd_goal_real', 'launched_year', 'launched_month', 'term', 'blurb']]\n",
    "    \n",
    "    # Assigning a categorical type to categorical varibles and vectorizing the categories for simplification\n",
    "    with open('cat_labels.json') as json_file:\n",
    "        data = json.load(json_file)\n",
    "    \n",
    "    train = pd.DataFrame()\n",
    "    \n",
    "    train['main_category'] = train_data['main_category'].map(data['main_category'])\n",
    "    train['currency'] = train_data['currency'].map(data['currency'])\n",
    "    train['country'] = train_data['country'].map(data['country'])\n",
    "    \n",
    "    # get the remaing variables\n",
    "    train[['usd_goal_real', 'launched_year', 'launched_month', 'term']] = train_data[['usd_goal_real', 'launched_year', 'launched_month', 'term']]\n",
    "    \n",
    "    # turn categories into integer\n",
    "    train['main_category'] = train['main_category'].astype('int8')\n",
    "    train['currency'] = train['currency'].astype('int8')\n",
    "    train['country'] = train['country'].astype('int8')\n",
    "    \n",
    "    # turning into right variables\n",
    "    train['launched_year'] = (train['launched_year']).astype('int')\n",
    "    train['launched_month'] = (train['launched_month']).astype('int')\n",
    "    \n",
    "    return train"
   ]
  },
  {
   "cell_type": "code",
   "execution_count": 17,
   "metadata": {},
   "outputs": [],
   "source": [
    "def preprocess_nlp(project):\n",
    "    # import vectorizer\n",
    "    vectorizer = pickle.load(open('vectorizer.sav', 'rb'))\n",
    "    \n",
    "    return vectorizer.transform(project['blurb'])"
   ]
  },
  {
   "cell_type": "markdown",
   "metadata": {},
   "source": [
    "# The function that retuns the probability"
   ]
  },
  {
   "cell_type": "code",
   "execution_count": 70,
   "metadata": {},
   "outputs": [],
   "source": [
    "# Assuming that the input from the Web is sent as a dict format\n",
    "\n",
    "def the_function(iw):\n",
    "    # predict\n",
    "    nnlp_pred = cb_clf.predict_proba(preprocess_nnlp(iw))\n",
    "    nlp_pred = lg_clf.predict_proba(preprocess_nlp(iw))\n",
    "\n",
    "    # final probability\n",
    "    return (nnlp_pred + nlp_pred)[0,1] / 2"
   ]
  }
 ],
 "metadata": {
  "kernelspec": {
   "display_name": "Python 3",
   "language": "python",
   "name": "python3"
  },
  "language_info": {
   "codemirror_mode": {
    "name": "ipython",
    "version": 3
   },
   "file_extension": ".py",
   "mimetype": "text/x-python",
   "name": "python",
   "nbconvert_exporter": "python",
   "pygments_lexer": "ipython3",
   "version": "3.7.3"
  }
 },
 "nbformat": 4,
 "nbformat_minor": 2
}
