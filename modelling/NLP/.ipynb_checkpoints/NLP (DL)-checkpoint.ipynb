{
 "cells": [
  {
   "cell_type": "code",
   "execution_count": 0,
   "metadata": {
    "colab": {},
    "colab_type": "code",
    "id": "uUAiY628tW04"
   },
   "outputs": [],
   "source": [
    "# Import a Pretrained WordVector(Word2Vec) from Google\n",
    "import gensim"
   ]
  },
  {
   "cell_type": "code",
   "execution_count": 0,
   "metadata": {
    "colab": {},
    "colab_type": "code",
    "id": "sNA2mXfvtW07"
   },
   "outputs": [],
   "source": [
    "import pandas as pd\n",
    "import numpy as np\n",
    "from tqdm import tqdm"
   ]
  },
  {
   "cell_type": "code",
   "execution_count": 43,
   "metadata": {
    "colab": {
     "base_uri": "https://localhost:8080/",
     "height": 35
    },
    "colab_type": "code",
    "executionInfo": {
     "elapsed": 2037,
     "status": "ok",
     "timestamp": 1574772718453,
     "user": {
      "displayName": "Hee Young Jung",
      "photoUrl": "",
      "userId": "18220564098792029540"
     },
     "user_tz": -540
    },
    "id": "N5NnHjTmtvqK",
    "outputId": "3b83fcba-5c09-4845-bf0e-c6f080ab0f79"
   },
   "outputs": [
    {
     "name": "stdout",
     "output_type": "stream",
     "text": [
      "Mounted at /content/drive\n"
     ]
    }
   ],
   "source": [
    "from google.colab import drive\n",
    "drive.mount('/content/drive', force_remount=True)"
   ]
  },
  {
   "cell_type": "code",
   "execution_count": 0,
   "metadata": {
    "colab": {},
    "colab_type": "code",
    "id": "dnH-0STxtW1B"
   },
   "outputs": [],
   "source": [
    "ds = pd.read_csv('/content/drive/My Drive/df_text_eng.csv', index_col='Unnamed: 0')"
   ]
  },
  {
   "cell_type": "code",
   "execution_count": 0,
   "metadata": {
    "colab": {},
    "colab_type": "code",
    "id": "4TUywEQ5tW1D",
    "outputId": "54814746-6da0-4d90-cee2-af07f0c32a04"
   },
   "outputs": [
    {
     "data": {
      "text/html": [
       "<div>\n",
       "<style scoped>\n",
       "    .dataframe tbody tr th:only-of-type {\n",
       "        vertical-align: middle;\n",
       "    }\n",
       "\n",
       "    .dataframe tbody tr th {\n",
       "        vertical-align: top;\n",
       "    }\n",
       "\n",
       "    .dataframe thead th {\n",
       "        text-align: right;\n",
       "    }\n",
       "</style>\n",
       "<table border=\"1\" class=\"dataframe\">\n",
       "  <thead>\n",
       "    <tr style=\"text-align: right;\">\n",
       "      <th></th>\n",
       "      <th>blurb</th>\n",
       "      <th>state</th>\n",
       "    </tr>\n",
       "  </thead>\n",
       "  <tbody>\n",
       "    <tr>\n",
       "      <th>1</th>\n",
       "      <td>Using their own character, users go on educati...</td>\n",
       "      <td>0</td>\n",
       "    </tr>\n",
       "    <tr>\n",
       "      <th>2</th>\n",
       "      <td>MicroFly is a quadcopter packed with WiFi, 6 s...</td>\n",
       "      <td>1</td>\n",
       "    </tr>\n",
       "    <tr>\n",
       "      <th>3</th>\n",
       "      <td>A small indie press, run as a collective for a...</td>\n",
       "      <td>0</td>\n",
       "    </tr>\n",
       "    <tr>\n",
       "      <th>4</th>\n",
       "      <td>Zylor is a new baby cosplayer! Back this kicks...</td>\n",
       "      <td>0</td>\n",
       "    </tr>\n",
       "    <tr>\n",
       "      <th>5</th>\n",
       "      <td>Hatoful Boyfriend meet Skeletons! A comedy Dat...</td>\n",
       "      <td>0</td>\n",
       "    </tr>\n",
       "  </tbody>\n",
       "</table>\n",
       "</div>"
      ],
      "text/plain": [
       "                                               blurb  state\n",
       "1  Using their own character, users go on educati...      0\n",
       "2  MicroFly is a quadcopter packed with WiFi, 6 s...      1\n",
       "3  A small indie press, run as a collective for a...      0\n",
       "4  Zylor is a new baby cosplayer! Back this kicks...      0\n",
       "5  Hatoful Boyfriend meet Skeletons! A comedy Dat...      0"
      ]
     },
     "execution_count": 172,
     "metadata": {
      "tags": []
     },
     "output_type": "execute_result"
    }
   ],
   "source": [
    "ds.head()"
   ]
  },
  {
   "cell_type": "code",
   "execution_count": 0,
   "metadata": {
    "colab": {},
    "colab_type": "code",
    "id": "AYqEhZ8utW1F"
   },
   "outputs": [],
   "source": [
    "ds['state'] = ds['state'].apply(lambda x: 0 if x == 'failed' else 1)"
   ]
  },
  {
   "cell_type": "code",
   "execution_count": 0,
   "metadata": {
    "colab": {},
    "colab_type": "code",
    "id": "iZiN6mowtW1H"
   },
   "outputs": [],
   "source": [
    "import string\n",
    "from nltk.tokenize import word_tokenize\n",
    "from nltk.corpus import stopwords"
   ]
  },
  {
   "cell_type": "code",
   "execution_count": 47,
   "metadata": {
    "colab": {
     "base_uri": "https://localhost:8080/",
     "height": 72
    },
    "colab_type": "code",
    "executionInfo": {
     "elapsed": 10926,
     "status": "ok",
     "timestamp": 1574772739518,
     "user": {
      "displayName": "Hee Young Jung",
      "photoUrl": "",
      "userId": "18220564098792029540"
     },
     "user_tz": -540
    },
    "id": "okePymu3tW1I",
    "outputId": "fd245b15-e368-4bec-fcac-a171ec8414f3"
   },
   "outputs": [
    {
     "name": "stdout",
     "output_type": "stream",
     "text": [
      "[nltk_data] Downloading package punkt to /root/nltk_data...\n",
      "[nltk_data]   Unzipping tokenizers/punkt.zip.\n"
     ]
    },
    {
     "data": {
      "text/plain": [
       "True"
      ]
     },
     "execution_count": 47,
     "metadata": {
      "tags": []
     },
     "output_type": "execute_result"
    }
   ],
   "source": [
    "import nltk\n",
    "nltk.download('punkt')"
   ]
  },
  {
   "cell_type": "code",
   "execution_count": 48,
   "metadata": {
    "colab": {
     "base_uri": "https://localhost:8080/",
     "height": 72
    },
    "colab_type": "code",
    "executionInfo": {
     "elapsed": 10673,
     "status": "ok",
     "timestamp": 1574772739519,
     "user": {
      "displayName": "Hee Young Jung",
      "photoUrl": "",
      "userId": "18220564098792029540"
     },
     "user_tz": -540
    },
    "id": "Iq-SX05StW1K",
    "outputId": "83247bc4-0d9a-4c6e-db9e-e54bffc04de7"
   },
   "outputs": [
    {
     "name": "stdout",
     "output_type": "stream",
     "text": [
      "[nltk_data] Downloading package stopwords to /root/nltk_data...\n",
      "[nltk_data]   Unzipping corpora/stopwords.zip.\n"
     ]
    },
    {
     "data": {
      "text/plain": [
       "True"
      ]
     },
     "execution_count": 48,
     "metadata": {
      "tags": []
     },
     "output_type": "execute_result"
    }
   ],
   "source": [
    ">>> import nltk\n",
    ">>> nltk.download('stopwords')"
   ]
  },
  {
   "cell_type": "code",
   "execution_count": 0,
   "metadata": {
    "colab": {},
    "colab_type": "code",
    "id": "fZR9gaGPtW1M"
   },
   "outputs": [],
   "source": [
    "blurbs = list()\n",
    "lines = ds['blurb'].values.tolist()"
   ]
  },
  {
   "cell_type": "code",
   "execution_count": 0,
   "metadata": {
    "colab": {},
    "colab_type": "code",
    "id": "E2bu03h-tW1O"
   },
   "outputs": [],
   "source": [
    "#turn NaN values into string\n",
    "for i in range(len(lines)):\n",
    "    if type(lines[i]) == float:\n",
    "        lines[i] = ''"
   ]
  },
  {
   "cell_type": "code",
   "execution_count": 51,
   "metadata": {
    "colab": {
     "base_uri": "https://localhost:8080/",
     "height": 35
    },
    "colab_type": "code",
    "executionInfo": {
     "elapsed": 103886,
     "status": "ok",
     "timestamp": 1574772847776,
     "user": {
      "displayName": "Hee Young Jung",
      "photoUrl": "",
      "userId": "18220564098792029540"
     },
     "user_tz": -540
    },
    "id": "RbFUuEIstW1Q",
    "outputId": "b4b07c39-02c1-4a2d-b085-0173b0ee5fd3"
   },
   "outputs": [
    {
     "name": "stderr",
     "output_type": "stream",
     "text": [
      "100%|██████████| 215513/215513 [01:42<00:00, 2103.18it/s]\n"
     ]
    }
   ],
   "source": [
    "for line in tqdm(lines):\n",
    "    tokens = word_tokenize(line)\n",
    "    # to lower case\n",
    "    tokens = [w.lower() for w in tokens]\n",
    "    # remove punctuation\n",
    "    table = str.maketrans('', '', string.punctuation)\n",
    "    stripped = [w.translate(table) for w in tokens]\n",
    "    # remove remaining tokens that are not alphabetic\n",
    "    words = [word for word in stripped if word.isalpha()]\n",
    "    # filter out stop words\n",
    "    stop_words = set(stopwords.words('english'))\n",
    "    words = [w for w in words if not w in stop_words]\n",
    "    blurbs.append(words)"
   ]
  },
  {
   "cell_type": "code",
   "execution_count": 0,
   "metadata": {
    "colab": {},
    "colab_type": "code",
    "id": "bzarYktbtW1S"
   },
   "outputs": [],
   "source": [
    "#train word2vec model\n",
    "model = gensim.models.Word2Vec(sentences=blurbs, size=300, window =5, workers=4, min_count=1)"
   ]
  },
  {
   "cell_type": "code",
   "execution_count": 53,
   "metadata": {
    "colab": {
     "base_uri": "https://localhost:8080/",
     "height": 74
    },
    "colab_type": "code",
    "executionInfo": {
     "elapsed": 173267,
     "status": "ok",
     "timestamp": 1574772946001,
     "user": {
      "displayName": "Hee Young Jung",
      "photoUrl": "",
      "userId": "18220564098792029540"
     },
     "user_tz": -540
    },
    "id": "hlBj5biOtW1T",
    "outputId": "41bd1ea1-80d5-4b0b-8d25-00df6d65a1bc"
   },
   "outputs": [
    {
     "name": "stderr",
     "output_type": "stream",
     "text": [
      "/usr/local/lib/python3.6/dist-packages/smart_open/smart_open_lib.py:402: UserWarning: This function is deprecated, use smart_open.open instead. See the migration notes for details: https://github.com/RaRe-Technologies/smart_open/blob/master/README.rst#migrating-to-the-new-open-function\n",
      "  'See the migration notes for details: %s' % _MIGRATION_NOTES_URL\n"
     ]
    }
   ],
   "source": [
    "# export the word embedding\n",
    "model.wv.save_word2vec_format('blurb_word2vec.txt', binary=False)"
   ]
  },
  {
   "cell_type": "code",
   "execution_count": 54,
   "metadata": {
    "colab": {
     "base_uri": "https://localhost:8080/",
     "height": 35
    },
    "colab_type": "code",
    "executionInfo": {
     "elapsed": 183853,
     "status": "ok",
     "timestamp": 1574772956827,
     "user": {
      "displayName": "Hee Young Jung",
      "photoUrl": "",
      "userId": "18220564098792029540"
     },
     "user_tz": -540
    },
    "id": "PbnHVoOitW1V",
    "outputId": "03d9abb2-d807-4c8e-d586-44b9a05e3f3a"
   },
   "outputs": [
    {
     "name": "stderr",
     "output_type": "stream",
     "text": [
      "117446it [00:10, 10822.55it/s]\n"
     ]
    }
   ],
   "source": [
    "import os\n",
    "\n",
    "embeddings_index= {}\n",
    "f = open(os.path.join('', 'blurb_word2vec.txt'), encoding = 'utf-8')\n",
    "for line in tqdm(f):\n",
    "    values = line.split()\n",
    "    word = values[0]\n",
    "    coefs = np.asarray(values[1:])\n",
    "    embeddings_index[word] = coefs\n",
    "f.close()"
   ]
  },
  {
   "cell_type": "code",
   "execution_count": 0,
   "metadata": {
    "colab": {},
    "colab_type": "code",
    "id": "bKlQK72btW1X"
   },
   "outputs": [],
   "source": [
    "from tensorflow.python.keras.preprocessing.text import Tokenizer\n",
    "from tensorflow.python.keras.preprocessing.sequence import pad_sequences"
   ]
  },
  {
   "cell_type": "code",
   "execution_count": 0,
   "metadata": {
    "colab": {},
    "colab_type": "code",
    "id": "0ym8TbkgtW1Z"
   },
   "outputs": [],
   "source": [
    "# Set the max length\n",
    "\n",
    "length = list()\n",
    "\n",
    "for i in range(len(blurbs)):\n",
    "    length.append(len(blurbs[i]))\n",
    "\n",
    "max_length = max(length)"
   ]
  },
  {
   "cell_type": "code",
   "execution_count": 57,
   "metadata": {
    "colab": {
     "base_uri": "https://localhost:8080/",
     "height": 72
    },
    "colab_type": "code",
    "executionInfo": {
     "elapsed": 187531,
     "status": "ok",
     "timestamp": 1574772962187,
     "user": {
      "displayName": "Hee Young Jung",
      "photoUrl": "",
      "userId": "18220564098792029540"
     },
     "user_tz": -540
    },
    "id": "uvZ_ZuKXtW1b",
    "outputId": "384a9fcc-f54a-4a24-bb0d-6d4dd3bd43e6"
   },
   "outputs": [
    {
     "name": "stdout",
     "output_type": "stream",
     "text": [
      "Found 117445 unique tokens.\n",
      "Shape of blurb tensor: (215513, 26)\n",
      "Shape of state tensor: (215513,)\n"
     ]
    }
   ],
   "source": [
    "VALIDATION_SPLIT = 0.2\n",
    "\n",
    "# vectorize the text samples into a 2D integer tensor\n",
    "tokenizer_obj = Tokenizer()\n",
    "tokenizer_obj.fit_on_texts(blurbs)\n",
    "sequences = tokenizer_obj.texts_to_sequences(blurbs)\n",
    "\n",
    "# pad sequences\n",
    "word_index = tokenizer_obj.word_index\n",
    "print('Found %s unique tokens.' % len(word_index))\n",
    "\n",
    "blurb_pad = pad_sequences(sequences, maxlen=max_length)\n",
    "state =  ds['state'].values\n",
    "print('Shape of blurb tensor:', blurb_pad.shape)\n",
    "print('Shape of state tensor:', state.shape)\n",
    "\n",
    "# split the data into a training set and a validation set\n",
    "indices = np.arange(blurb_pad.shape[0])\n",
    "np.random.shuffle(indices)\n",
    "blurb_pad = blurb_pad[indices]\n",
    "state = state[indices]\n",
    "num_validation_samples = int(VALIDATION_SPLIT * blurb_pad.shape[0])\n",
    "\n",
    "X_train_pad = blurb_pad[:-num_validation_samples]\n",
    "y_train = state[:-num_validation_samples]\n",
    "X_test_pad = blurb_pad[-num_validation_samples:]\n",
    "y_test = state[-num_validation_samples:]"
   ]
  },
  {
   "cell_type": "code",
   "execution_count": 58,
   "metadata": {
    "colab": {
     "base_uri": "https://localhost:8080/",
     "height": 90
    },
    "colab_type": "code",
    "executionInfo": {
     "elapsed": 187334,
     "status": "ok",
     "timestamp": 1574772962188,
     "user": {
      "displayName": "Hee Young Jung",
      "photoUrl": "",
      "userId": "18220564098792029540"
     },
     "user_tz": -540
    },
    "id": "qhWHSbVvtW1d",
    "outputId": "c3c78912-2ca6-4e21-d52d-10d58be59f37"
   },
   "outputs": [
    {
     "name": "stdout",
     "output_type": "stream",
     "text": [
      "Shape of X_train_pad tensor: (172411, 26)\n",
      "Shape of y_train tensor: (172411,)\n",
      "Shape of X_test_pad tensor: (43102, 26)\n",
      "Shape of y_test tensor: (43102,)\n"
     ]
    }
   ],
   "source": [
    "print('Shape of X_train_pad tensor:', X_train_pad.shape)\n",
    "print('Shape of y_train tensor:', y_train.shape)\n",
    "\n",
    "print('Shape of X_test_pad tensor:', X_test_pad.shape)\n",
    "print('Shape of y_test tensor:', y_test.shape)"
   ]
  },
  {
   "cell_type": "code",
   "execution_count": 59,
   "metadata": {
    "colab": {
     "base_uri": "https://localhost:8080/",
     "height": 35
    },
    "colab_type": "code",
    "executionInfo": {
     "elapsed": 203086,
     "status": "ok",
     "timestamp": 1574772979109,
     "user": {
      "displayName": "Hee Young Jung",
      "photoUrl": "",
      "userId": "18220564098792029540"
     },
     "user_tz": -540
    },
    "id": "G8RbRmkntW1f",
    "outputId": "e570bcd3-b0e3-477b-fd7b-b56a7770498a"
   },
   "outputs": [
    {
     "name": "stderr",
     "output_type": "stream",
     "text": [
      "100%|██████████| 117445/117445 [00:16<00:00, 6925.82it/s]\n"
     ]
    }
   ],
   "source": [
    "EMBEDDING_DIM =300\n",
    "num_words = len(word_index) + 1\n",
    "embedding_matrix = np.zeros((num_words, EMBEDDING_DIM))\n",
    "\n",
    "for word, i in tqdm(word_index.items()):\n",
    "    if i > num_words:\n",
    "        continue\n",
    "    embedding_vector = embeddings_index.get(word)\n",
    "    if embedding_vector is not None:\n",
    "        # words not found in embedding index will be all-zeros.\n",
    "        embedding_matrix[i] = embedding_vector"
   ]
  },
  {
   "cell_type": "code",
   "execution_count": 60,
   "metadata": {
    "colab": {
     "base_uri": "https://localhost:8080/",
     "height": 437
    },
    "colab_type": "code",
    "executionInfo": {
     "elapsed": 204375,
     "status": "ok",
     "timestamp": 1574772980630,
     "user": {
      "displayName": "Hee Young Jung",
      "photoUrl": "",
      "userId": "18220564098792029540"
     },
     "user_tz": -540
    },
    "id": "-BEYeyzitW1i",
    "outputId": "c47e13da-31ad-4dd6-95a3-e0234b07290a"
   },
   "outputs": [
    {
     "name": "stdout",
     "output_type": "stream",
     "text": [
      "WARNING:tensorflow:From /usr/local/lib/python3.6/dist-packages/tensorflow_core/python/ops/resource_variable_ops.py:1630: calling BaseResourceVariable.__init__ (from tensorflow.python.ops.resource_variable_ops) with constraint is deprecated and will be removed in a future version.\n",
      "Instructions for updating:\n",
      "If using Keras pass *_constraint arguments to layers.\n",
      "WARNING:tensorflow:From /usr/local/lib/python3.6/dist-packages/tensorflow_core/python/ops/nn_impl.py:183: where (from tensorflow.python.ops.array_ops) is deprecated and will be removed in a future version.\n",
      "Instructions for updating:\n",
      "Use tf.where in 2.0, which has the same broadcast rule as np.where\n",
      "Summary of the built model...\n",
      "Model: \"sequential\"\n",
      "_________________________________________________________________\n",
      "Layer (type)                 Output Shape              Param #   \n",
      "=================================================================\n",
      "embedding (Embedding)        (None, 26, 300)           35233800  \n",
      "_________________________________________________________________\n",
      "gru (GRU)                    (None, 32)                31968     \n",
      "_________________________________________________________________\n",
      "dense (Dense)                (None, 1)                 33        \n",
      "=================================================================\n",
      "Total params: 35,265,801\n",
      "Trainable params: 32,001\n",
      "Non-trainable params: 35,233,800\n",
      "_________________________________________________________________\n",
      "None\n"
     ]
    }
   ],
   "source": [
    "from tensorflow.keras.models import Sequential\n",
    "from tensorflow.keras.layers import Dense, Embedding, LSTM, GRU\n",
    "from tensorflow.keras.layers import Embedding\n",
    "from tensorflow.keras.initializers import Constant\n",
    "\n",
    "# define model\n",
    "model = Sequential()\n",
    "embedding_layer = Embedding(num_words,\n",
    "                            EMBEDDING_DIM,\n",
    "                            embeddings_initializer=Constant(embedding_matrix),\n",
    "                            input_length=max_length,\n",
    "                            trainable=False)\n",
    "model.add(embedding_layer)\n",
    "model.add(GRU(units=32,  dropout=0.2, recurrent_dropout=0.2))\n",
    "model.add(Dense(1, activation='sigmoid'))\n",
    "\n",
    "# try using different optimizers and different optimizer configs\n",
    "model.compile(loss='binary_crossentropy', optimizer='adam', metrics=['accuracy'])\n",
    "\n",
    "print('Summary of the built model...')\n",
    "print(model.summary())"
   ]
  },
  {
   "cell_type": "code",
   "execution_count": 61,
   "metadata": {
    "colab": {
     "base_uri": "https://localhost:8080/",
     "height": 35
    },
    "colab_type": "code",
    "executionInfo": {
     "elapsed": 203651,
     "status": "ok",
     "timestamp": 1574772981317,
     "user": {
      "displayName": "Hee Young Jung",
      "photoUrl": "",
      "userId": "18220564098792029540"
     },
     "user_tz": -540
    },
    "id": "-THYbRDgtW1p",
    "outputId": "e4972dae-71db-46d7-c923-f1d59aecf68e"
   },
   "outputs": [
    {
     "data": {
      "text/plain": [
       "True"
      ]
     },
     "execution_count": 61,
     "metadata": {
      "tags": []
     },
     "output_type": "execute_result"
    }
   ],
   "source": [
    "import tensorflow as tf\n",
    "tf.test.is_gpu_available(\n",
    "    cuda_only=False,\n",
    "    min_cuda_compute_capability=None\n",
    ")"
   ]
  },
  {
   "cell_type": "code",
   "execution_count": 62,
   "metadata": {
    "colab": {
     "base_uri": "https://localhost:8080/",
     "height": 981
    },
    "colab_type": "code",
    "executionInfo": {
     "elapsed": 1787084,
     "status": "ok",
     "timestamp": 1574774566857,
     "user": {
      "displayName": "Hee Young Jung",
      "photoUrl": "",
      "userId": "18220564098792029540"
     },
     "user_tz": -540
    },
    "id": "qAmb2GyztW1r",
    "outputId": "46c10507-d98b-439a-a2ed-fb8e2ad70db5"
   },
   "outputs": [
    {
     "name": "stdout",
     "output_type": "stream",
     "text": [
      "Train...\n",
      "Train on 172411 samples, validate on 43102 samples\n",
      "Epoch 1/25\n",
      "172411/172411 - 66s - loss: 0.6408 - acc: 0.6283 - val_loss: 0.6255 - val_acc: 0.6464\n",
      "Epoch 2/25\n",
      "172411/172411 - 64s - loss: 0.6240 - acc: 0.6477 - val_loss: 0.6203 - val_acc: 0.6507\n",
      "Epoch 3/25\n",
      "172411/172411 - 64s - loss: 0.6188 - acc: 0.6530 - val_loss: 0.6169 - val_acc: 0.6557\n",
      "Epoch 4/25\n",
      "172411/172411 - 63s - loss: 0.6150 - acc: 0.6568 - val_loss: 0.6143 - val_acc: 0.6597\n",
      "Epoch 5/25\n",
      "172411/172411 - 63s - loss: 0.6125 - acc: 0.6592 - val_loss: 0.6122 - val_acc: 0.6610\n",
      "Epoch 6/25\n",
      "172411/172411 - 63s - loss: 0.6103 - acc: 0.6609 - val_loss: 0.6130 - val_acc: 0.6600\n",
      "Epoch 7/25\n",
      "172411/172411 - 63s - loss: 0.6089 - acc: 0.6629 - val_loss: 0.6109 - val_acc: 0.6610\n",
      "Epoch 8/25\n",
      "172411/172411 - 63s - loss: 0.6068 - acc: 0.6652 - val_loss: 0.6128 - val_acc: 0.6586\n",
      "Epoch 9/25\n",
      "172411/172411 - 64s - loss: 0.6062 - acc: 0.6652 - val_loss: 0.6103 - val_acc: 0.6616\n",
      "Epoch 10/25\n",
      "172411/172411 - 63s - loss: 0.6053 - acc: 0.6657 - val_loss: 0.6116 - val_acc: 0.6595\n",
      "Epoch 11/25\n",
      "172411/172411 - 63s - loss: 0.6039 - acc: 0.6674 - val_loss: 0.6102 - val_acc: 0.6602\n",
      "Epoch 12/25\n",
      "172411/172411 - 62s - loss: 0.6033 - acc: 0.6670 - val_loss: 0.6122 - val_acc: 0.6596\n",
      "Epoch 13/25\n",
      "172411/172411 - 63s - loss: 0.6027 - acc: 0.6683 - val_loss: 0.6108 - val_acc: 0.6602\n",
      "Epoch 14/25\n",
      "172411/172411 - 63s - loss: 0.6017 - acc: 0.6687 - val_loss: 0.6097 - val_acc: 0.6620\n",
      "Epoch 15/25\n",
      "172411/172411 - 63s - loss: 0.6014 - acc: 0.6699 - val_loss: 0.6122 - val_acc: 0.6594\n",
      "Epoch 16/25\n",
      "172411/172411 - 62s - loss: 0.6013 - acc: 0.6694 - val_loss: 0.6101 - val_acc: 0.6626\n",
      "Epoch 17/25\n",
      "172411/172411 - 63s - loss: 0.6007 - acc: 0.6696 - val_loss: 0.6097 - val_acc: 0.6632\n",
      "Epoch 18/25\n",
      "172411/172411 - 63s - loss: 0.5997 - acc: 0.6719 - val_loss: 0.6096 - val_acc: 0.6624\n",
      "Epoch 19/25\n",
      "172411/172411 - 63s - loss: 0.5994 - acc: 0.6721 - val_loss: 0.6102 - val_acc: 0.6641\n",
      "Epoch 20/25\n",
      "172411/172411 - 63s - loss: 0.5997 - acc: 0.6699 - val_loss: 0.6096 - val_acc: 0.6617\n",
      "Epoch 21/25\n",
      "172411/172411 - 63s - loss: 0.5986 - acc: 0.6722 - val_loss: 0.6096 - val_acc: 0.6635\n",
      "Epoch 22/25\n",
      "172411/172411 - 63s - loss: 0.5989 - acc: 0.6717 - val_loss: 0.6090 - val_acc: 0.6621\n",
      "Epoch 23/25\n",
      "172411/172411 - 63s - loss: 0.5984 - acc: 0.6711 - val_loss: 0.6089 - val_acc: 0.6627\n",
      "Epoch 24/25\n",
      "172411/172411 - 63s - loss: 0.5984 - acc: 0.6725 - val_loss: 0.6102 - val_acc: 0.6616\n",
      "Epoch 25/25\n",
      "172411/172411 - 64s - loss: 0.5978 - acc: 0.6733 - val_loss: 0.6090 - val_acc: 0.6620\n"
     ]
    },
    {
     "data": {
      "text/plain": [
       "<tensorflow.python.keras.callbacks.History at 0x7fd5ec95bba8>"
      ]
     },
     "execution_count": 62,
     "metadata": {
      "tags": []
     },
     "output_type": "execute_result"
    }
   ],
   "source": [
    "print('Train...')\n",
    "\n",
    "model.fit(X_train_pad, y_train, batch_size=128, epochs=25, validation_data=(X_test_pad, y_test), verbose=2)"
   ]
  },
  {
   "cell_type": "code",
   "execution_count": 63,
   "metadata": {
    "colab": {
     "base_uri": "https://localhost:8080/",
     "height": 108
    },
    "colab_type": "code",
    "executionInfo": {
     "elapsed": 6186,
     "status": "ok",
     "timestamp": 1574774622601,
     "user": {
      "displayName": "Hee Young Jung",
      "photoUrl": "",
      "userId": "18220564098792029540"
     },
     "user_tz": -540
    },
    "id": "j4qW-8sFtW1s",
    "outputId": "6a2e260e-9505-4aeb-defe-fccd8ce52127"
   },
   "outputs": [
    {
     "name": "stdout",
     "output_type": "stream",
     "text": [
      "Testing...\n",
      "43102/43102 [==============================] - 5s 111us/sample - loss: 0.6090 - acc: 0.6620\n",
      "Test score: 0.6089751882750243\n",
      "Test accuracy: 0.662011\n",
      "Accuracy: 66.20%\n"
     ]
    }
   ],
   "source": [
    "print('Testing...')\n",
    "score, acc = model.evaluate(X_test_pad, y_test, batch_size=128)\n",
    "\n",
    "print('Test score:', score)\n",
    "print('Test accuracy:', acc)\n",
    "\n",
    "print(\"Accuracy: {0:.2%}\".format(acc))"
   ]
  },
  {
   "cell_type": "code",
   "execution_count": 0,
   "metadata": {
    "colab": {},
    "colab_type": "code",
    "id": "9NqUbewe4bDk"
   },
   "outputs": [],
   "source": []
  }
 ],
 "metadata": {
  "accelerator": "GPU",
  "colab": {
   "collapsed_sections": [],
   "name": "NLP Model.ipynb",
   "provenance": []
  },
  "kernelspec": {
   "display_name": "Python 3",
   "language": "python",
   "name": "python3"
  },
  "language_info": {
   "codemirror_mode": {
    "name": "ipython",
    "version": 3
   },
   "file_extension": ".py",
   "mimetype": "text/x-python",
   "name": "python",
   "nbconvert_exporter": "python",
   "pygments_lexer": "ipython3",
   "version": "3.7.3"
  }
 },
 "nbformat": 4,
 "nbformat_minor": 1
}
