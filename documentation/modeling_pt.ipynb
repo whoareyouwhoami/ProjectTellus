{
 "cells": [
  {
   "cell_type": "markdown",
   "metadata": {},
   "source": [
    "# 모델 전반 소개\n",
    "1. NLP와 non_NLP를 따로 만들어야 했다 (training set이 나눠져 있음)\n",
    "2. 만든 후 합칠 때 Validation set을 따로 수집해야 했다\n",
    "3. 모델이 사용자 Input을 받고 빠르게 값을 내야 함으로 훈련시킨 모델을 저장 (Pickle)"
   ]
  },
  {
   "cell_type": "code",
   "execution_count": 5,
   "metadata": {},
   "outputs": [
    {
     "data": {
      "image/png": "[encoded data removed]",
      "text/plain": [
       "<IPython.core.display.Image object>"
      ]
     },
     "execution_count": 5,
     "metadata": {
      "image/png": {
       "height": 1000,
       "width": 1000
      }
     },
     "output_type": "execute_result"
    }
   ],
   "source": [
    "from IPython.display import Image\n",
    "Image(filename = \"figures/MS.png\", width=1000, height=1000)"
   ]
  },
  {
   "cell_type": "markdown",
   "metadata": {
    "hideOutput": true,
    "hidePrompt": true
   },
   "source": [
    "# NLP(DL)\n",
    "0. blurb를 학습\n",
    "1. word2vec embedding\n",
    "2. GRU\n",
    "3. Logistic Regression와 비슷한 성능 (Accuracy: 66.20)\n",
    "4. 학습시간 28분 가량 (Google Colab GPU)\n",
    "5. Data 출처: https://www.kaggle.com/oscarvilla/kickstarter-nlp"
   ]
  },
  {
   "cell_type": "code",
   "execution_count": 8,
   "metadata": {
    "hideCode": true,
    "hidePrompt": true
   },
   "outputs": [
    {
     "data": {
      "text/plain": [
       "<function matplotlib.pyplot.show(*args, **kw)>"
      ]
     },
     "execution_count": 8,
     "metadata": {},
     "output_type": "execute_result"
    },
    {
     "data": {
      "image/png": "[encoded data removed]",
      "text/plain": [
       "<Figure size 576x432 with 1 Axes>"
      ]
     },
     "metadata": {
      "needs_background": "light"
     },
     "output_type": "display_data"
    }
   ],
   "source": [
    "import matplotlib.pyplot as plt\n",
    "fig = plt.figure(figsize=(8,6))\n",
    "data.groupby('state').blurb.count().plot.bar(ylim=0)\n",
    "plt.show"
   ]
  },
  {
   "cell_type": "code",
   "execution_count": 62,
   "metadata": {
    "colab": {
     "base_uri": "https://localhost:8080/",
     "height": 981
    },
    "colab_type": "code",
    "executionInfo": {
     "elapsed": 1787084,
     "status": "ok",
     "timestamp": 1574774566857,
     "user": {
      "displayName": "Hee Young Jung",
      "photoUrl": "",
      "userId": "18220564098792029540"
     },
     "user_tz": -540
    },
    "hideCode": true,
    "hidePrompt": true,
    "id": "qAmb2GyztW1r",
    "outputId": "46c10507-d98b-439a-a2ed-fb8e2ad70db5"
   },
   "outputs": [
    {
     "name": "stdout",
     "output_type": "stream",
     "text": [
      "Train...\n",
      "Train on 172411 samples, validate on 43102 samples\n",
      "Epoch 1/25\n",
      "172411/172411 - 66s - loss: 0.6408 - acc: 0.6283 - val_loss: 0.6255 - val_acc: 0.6464\n",
      "Epoch 2/25\n",
      "172411/172411 - 64s - loss: 0.6240 - acc: 0.6477 - val_loss: 0.6203 - val_acc: 0.6507\n",
      "Epoch 3/25\n",
      "172411/172411 - 64s - loss: 0.6188 - acc: 0.6530 - val_loss: 0.6169 - val_acc: 0.6557\n",
      "Epoch 4/25\n",
      "172411/172411 - 63s - loss: 0.6150 - acc: 0.6568 - val_loss: 0.6143 - val_acc: 0.6597\n",
      "Epoch 5/25\n",
      "172411/172411 - 63s - loss: 0.6125 - acc: 0.6592 - val_loss: 0.6122 - val_acc: 0.6610\n",
      "Epoch 6/25\n",
      "172411/172411 - 63s - loss: 0.6103 - acc: 0.6609 - val_loss: 0.6130 - val_acc: 0.6600\n",
      "Epoch 7/25\n",
      "172411/172411 - 63s - loss: 0.6089 - acc: 0.6629 - val_loss: 0.6109 - val_acc: 0.6610\n",
      "Epoch 8/25\n",
      "172411/172411 - 63s - loss: 0.6068 - acc: 0.6652 - val_loss: 0.6128 - val_acc: 0.6586\n",
      "Epoch 9/25\n",
      "172411/172411 - 64s - loss: 0.6062 - acc: 0.6652 - val_loss: 0.6103 - val_acc: 0.6616\n",
      "Epoch 10/25\n",
      "172411/172411 - 63s - loss: 0.6053 - acc: 0.6657 - val_loss: 0.6116 - val_acc: 0.6595\n",
      "Epoch 11/25\n",
      "172411/172411 - 63s - loss: 0.6039 - acc: 0.6674 - val_loss: 0.6102 - val_acc: 0.6602\n",
      "Epoch 12/25\n",
      "172411/172411 - 62s - loss: 0.6033 - acc: 0.6670 - val_loss: 0.6122 - val_acc: 0.6596\n",
      "Epoch 13/25\n",
      "172411/172411 - 63s - loss: 0.6027 - acc: 0.6683 - val_loss: 0.6108 - val_acc: 0.6602\n",
      "Epoch 14/25\n",
      "172411/172411 - 63s - loss: 0.6017 - acc: 0.6687 - val_loss: 0.6097 - val_acc: 0.6620\n",
      "Epoch 15/25\n",
      "172411/172411 - 63s - loss: 0.6014 - acc: 0.6699 - val_loss: 0.6122 - val_acc: 0.6594\n",
      "Epoch 16/25\n",
      "172411/172411 - 62s - loss: 0.6013 - acc: 0.6694 - val_loss: 0.6101 - val_acc: 0.6626\n",
      "Epoch 17/25\n",
      "172411/172411 - 63s - loss: 0.6007 - acc: 0.6696 - val_loss: 0.6097 - val_acc: 0.6632\n",
      "Epoch 18/25\n",
      "172411/172411 - 63s - loss: 0.5997 - acc: 0.6719 - val_loss: 0.6096 - val_acc: 0.6624\n",
      "Epoch 19/25\n",
      "172411/172411 - 63s - loss: 0.5994 - acc: 0.6721 - val_loss: 0.6102 - val_acc: 0.6641\n",
      "Epoch 20/25\n",
      "172411/172411 - 63s - loss: 0.5997 - acc: 0.6699 - val_loss: 0.6096 - val_acc: 0.6617\n",
      "Epoch 21/25\n",
      "172411/172411 - 63s - loss: 0.5986 - acc: 0.6722 - val_loss: 0.6096 - val_acc: 0.6635\n",
      "Epoch 22/25\n",
      "172411/172411 - 63s - loss: 0.5989 - acc: 0.6717 - val_loss: 0.6090 - val_acc: 0.6621\n",
      "Epoch 23/25\n",
      "172411/172411 - 63s - loss: 0.5984 - acc: 0.6711 - val_loss: 0.6089 - val_acc: 0.6627\n",
      "Epoch 24/25\n",
      "172411/172411 - 63s - loss: 0.5984 - acc: 0.6725 - val_loss: 0.6102 - val_acc: 0.6616\n",
      "Epoch 25/25\n",
      "172411/172411 - 64s - loss: 0.5978 - acc: 0.6733 - val_loss: 0.6090 - val_acc: 0.6620\n"
     ]
    },
    {
     "data": {
      "text/plain": [
       "<tensorflow.python.keras.callbacks.History at 0x7fd5ec95bba8>"
      ]
     },
     "execution_count": 62,
     "metadata": {
      "tags": []
     },
     "output_type": "execute_result"
    }
   ],
   "source": [
    "print('Train...')\n",
    "\n",
    "model.fit(X_train_pad, y_train, batch_size=128, epochs=25, validation_data=(X_test_pad, y_test), verbose=2)"
   ]
  },
  {
   "cell_type": "code",
   "execution_count": 63,
   "metadata": {
    "colab": {
     "base_uri": "https://localhost:8080/",
     "height": 108
    },
    "colab_type": "code",
    "executionInfo": {
     "elapsed": 6186,
     "status": "ok",
     "timestamp": 1574774622601,
     "user": {
      "displayName": "Hee Young Jung",
      "photoUrl": "",
      "userId": "18220564098792029540"
     },
     "user_tz": -540
    },
    "hideCode": true,
    "hidePrompt": true,
    "id": "j4qW-8sFtW1s",
    "outputId": "6a2e260e-9505-4aeb-defe-fccd8ce52127"
   },
   "outputs": [
    {
     "name": "stdout",
     "output_type": "stream",
     "text": [
      "Testing...\n",
      "43102/43102 [==============================] - 5s 111us/sample - loss: 0.6090 - acc: 0.6620\n",
      "Test score: 0.6089751882750243\n",
      "Test accuracy: 0.662011\n",
      "Accuracy: 66.20%\n"
     ]
    }
   ],
   "source": [
    "print('Testing...')\n",
    "score, acc = model.evaluate(X_test_pad, y_test, batch_size=128)\n",
    "\n",
    "print('Test score:', score)\n",
    "print('Test accuracy:', acc)\n",
    "\n",
    "print(\"Accuracy: {0:.2%}\".format(acc))"
   ]
  },
  {
   "cell_type": "markdown",
   "metadata": {},
   "source": [
    "# NLP (ML)\n",
    "1. 자체 data 이용한 vectorization\n",
    "2. Logistic Regression (0.676)\n",
    "3. 학습시간 약 0.25초 (local CPU)"
   ]
  },
  {
   "cell_type": "code",
   "execution_count": 13,
   "metadata": {
    "hideCode": true,
    "hideOutput": false,
    "hidePrompt": true
   },
   "outputs": [
    {
     "name": "stdout",
     "output_type": "stream",
     "text": [
      "training modelLogisticRegression\n"
     ]
    },
    {
     "name": "stderr",
     "output_type": "stream",
     "text": [
      "D:\\Anaconda\\lib\\site-packages\\sklearn\\linear_model\\logistic.py:432: FutureWarning: Default solver will be changed to 'lbfgs' in 0.22. Specify a solver to silence this warning.\n",
      "  FutureWarning)\n"
     ]
    },
    {
     "name": "stdout",
     "output_type": "stream",
     "text": [
      "trained in 3.0187430381774902 secs\n",
      "training modelSGDClassifier\n",
      "trained in 0.507366418838501 secs\n",
      "training modelMultinomial\n",
      "trained in 0.3729386329650879 secs\n",
      "training modelLinearSVC\n",
      "trained in 2.969576597213745 secs\n"
     ]
    }
   ],
   "source": [
    "train()"
   ]
  },
  {
   "cell_type": "code",
   "execution_count": 14,
   "metadata": {
    "hideCode": true,
    "hideOutput": false,
    "hidePrompt": true
   },
   "outputs": [
    {
     "data": {
      "image/png": "[encoded data removed]",
      "text/plain": [
       "<Figure size 432x288 with 1 Axes>"
      ]
     },
     "metadata": {
      "needs_background": "light"
     },
     "output_type": "display_data"
    }
   ],
   "source": [
    "cv_df = pd.DataFrame(entries, columns=['model_name','accuracy'])\n",
    "import seaborn as sns\n",
    "sns.boxplot(x='model_name', y='accuracy', data=cv_df)\n",
    "sns.stripplot(x='model_name', y='accuracy', data=cv_df, \n",
    "              size=8, jitter=True, edgecolor=\"gray\", linewidth=2)\n",
    "plt.show()"
   ]
  },
  {
   "cell_type": "code",
   "execution_count": 15,
   "metadata": {
    "hideCode": true,
    "hidePrompt": true
   },
   "outputs": [
    {
     "name": "stderr",
     "output_type": "stream",
     "text": [
      "D:\\Anaconda\\lib\\site-packages\\sklearn\\linear_model\\logistic.py:432: FutureWarning: Default solver will be changed to 'lbfgs' in 0.22. Specify a solver to silence this warning.\n",
      "  FutureWarning)\n"
     ]
    },
    {
     "data": {
      "image/png": "[encoded data removed]",
      "text/plain": [
       "<Figure size 360x360 with 2 Axes>"
      ]
     },
     "metadata": {
      "needs_background": "light"
     },
     "output_type": "display_data"
    }
   ],
   "source": [
    "model = LogisticRegression()\n",
    "model.fit(x_train_v, y_train)\n",
    "y_pred = model.predict(x_test_v)\n",
    "from sklearn.metrics import confusion_matrix\n",
    "\n",
    "conf_mat = confusion_matrix(y_test, y_pred)\n",
    "fig, ax = plt.subplots(figsize=(5,5))\n",
    "sns.heatmap(conf_mat, annot=True, fmt='d',\n",
    "            xticklabels=state_id_df.state.values, yticklabels=state_id_df.state.values)\n",
    "plt.ylabel('Actual')\n",
    "plt.xlabel('Predicted')\n",
    "plt.show()"
   ]
  },
  {
   "cell_type": "code",
   "execution_count": 16,
   "metadata": {
    "hideCode": true,
    "hidePrompt": true
   },
   "outputs": [
    {
     "name": "stdout",
     "output_type": "stream",
     "text": [
      "              precision    recall  f1-score   support\n",
      "\n",
      "      failed       0.68      0.67      0.67     32313\n",
      "  successful       0.68      0.68      0.68     32341\n",
      "\n",
      "    accuracy                           0.68     64654\n",
      "   macro avg       0.68      0.68      0.68     64654\n",
      "weighted avg       0.68      0.68      0.68     64654\n",
      "\n"
     ]
    }
   ],
   "source": [
    "print(classification_report(y_test, y_pred))"
   ]
  },
  {
   "cell_type": "code",
   "execution_count": 18,
   "metadata": {
    "hideOutput": true,
    "hidePrompt": true
   },
   "outputs": [],
   "source": [
    "filename = 'NLP_model.sav'\n",
    "pickle.dump(model, open(filename, 'wb'))"
   ]
  },
  {
   "cell_type": "markdown",
   "metadata": {},
   "source": [
    "# Non-NLP\n",
    "1. 중간고사 대비 발전한 부분\n",
    "    - 범주형 변수 처리 (Forcat 사용)\n",
    "    - 구간별 Binnarization 삭제\n",
    "    - 모델 변경 (Xgboost -> Catboost)\n",
    "2. Data 출처: https://www.kaggle.com/kemical/kickstarter-projects"
   ]
  },
  {
   "cell_type": "markdown",
   "metadata": {
    "hideCode": true,
    "hideOutput": false,
    "hidePrompt": true
   },
   "source": [
    "## Feature Selection"
   ]
  },
  {
   "cell_type": "code",
   "execution_count": 31,
   "metadata": {
    "hideCode": true,
    "scrolled": true
   },
   "outputs": [
    {
     "data": {
      "text/plain": [
       "<BarContainer object of 8 artists>"
      ]
     },
     "execution_count": 31,
     "metadata": {},
     "output_type": "execute_result"
    },
    {
     "data": {
      "image/png": "[encoded data removed]",
      "text/plain": [
       "<Figure size 432x288 with 1 Axes>"
      ]
     },
     "metadata": {
      "image/png": {
       "height": 250,
       "width": 381
      },
      "needs_background": "light"
     },
     "output_type": "display_data"
    }
   ],
   "source": [
    "plt.bar(range(len(xgb_model.feature_importances_)), xgb_model.feature_importances_)"
   ]
  },
  {
   "cell_type": "code",
   "execution_count": 32,
   "metadata": {},
   "outputs": [
    {
     "data": {
      "text/plain": [
       "category            int16\n",
       "main_category        int8\n",
       "currency             int8\n",
       "country              int8\n",
       "usd_goal_real     float64\n",
       "launched_year       int32\n",
       "launched_month      int32\n",
       "term                int64\n",
       "state               int64\n",
       "dtype: object"
      ]
     },
     "execution_count": 32,
     "metadata": {},
     "output_type": "execute_result"
    }
   ],
   "source": [
    "train.dtypes"
   ]
  },
  {
   "cell_type": "code",
   "execution_count": 16,
   "metadata": {
    "hideCode": false,
    "hidePrompt": true
   },
   "outputs": [],
   "source": [
    "# Assigning a categorical type to categorical varibles and vectorizing the categories for simplification\n",
    "train['category'] = train_data['category'].astype('category').cat.codes\n",
    "train['main_category'] = train_data['main_category'].astype('category').cat.codes\n",
    "train['currency'] = train_data['currency'].astype('category').cat.codes\n",
    "train['country'] = train_data['country'].astype('category').cat.codes"
   ]
  },
  {
   "cell_type": "markdown",
   "metadata": {},
   "source": [
    "## Xgboost Result"
   ]
  },
  {
   "cell_type": "code",
   "execution_count": 30,
   "metadata": {},
   "outputs": [
    {
     "data": {
      "text/plain": [
       "(0.5403814992750945, 0.7085350134753883)"
      ]
     },
     "execution_count": 30,
     "metadata": {},
     "output_type": "execute_result"
    }
   ],
   "source": [
    "f1_score(y_test, prediction), accuracy_score(y_test, prediction)"
   ]
  },
  {
   "cell_type": "markdown",
   "metadata": {},
   "source": [
    "# Catboost Result"
   ]
  },
  {
   "cell_type": "code",
   "execution_count": 37,
   "metadata": {},
   "outputs": [
    {
     "data": {
      "text/plain": [
       "(0.5419066081304521, 0.7103197137268688)"
      ]
     },
     "execution_count": 37,
     "metadata": {},
     "output_type": "execute_result"
    }
   ],
   "source": [
    "f1_score(y_test, y_pred), accuracy_score(y_test, y_pred)"
   ]
  },
  {
   "cell_type": "code",
   "execution_count": 38,
   "metadata": {},
   "outputs": [],
   "source": [
    "import pickle\n",
    "\n",
    "filename = 'Non_nlp_model' # name to store model\n",
    "pickle.dump(cb_clf, open(filename, 'wb')) # pickling"
   ]
  },
  {
   "cell_type": "code",
   "execution_count": 0,
   "metadata": {
    "colab": {},
    "colab_type": "code",
    "hideCode": true,
    "hideOutput": true,
    "hidePrompt": true,
    "id": "uUAiY628tW04"
   },
   "outputs": [],
   "source": [
    "# Import a Pretrained WordVector(Word2Vec) from Google\n",
    "import gensim"
   ]
  },
  {
   "cell_type": "code",
   "execution_count": 0,
   "metadata": {
    "colab": {},
    "colab_type": "code",
    "hideCode": true,
    "hideOutput": true,
    "hidePrompt": true,
    "id": "sNA2mXfvtW07"
   },
   "outputs": [],
   "source": [
    "import pandas as pd\n",
    "import numpy as np\n",
    "from tqdm import tqdm"
   ]
  },
  {
   "cell_type": "code",
   "execution_count": 43,
   "metadata": {
    "colab": {
     "base_uri": "https://localhost:8080/",
     "height": 35
    },
    "colab_type": "code",
    "executionInfo": {
     "elapsed": 2037,
     "status": "ok",
     "timestamp": 1574772718453,
     "user": {
      "displayName": "Hee Young Jung",
      "photoUrl": "",
      "userId": "18220564098792029540"
     },
     "user_tz": -540
    },
    "hideCode": true,
    "hideOutput": true,
    "hidePrompt": true,
    "id": "N5NnHjTmtvqK",
    "outputId": "3b83fcba-5c09-4845-bf0e-c6f080ab0f79"
   },
   "outputs": [
    {
     "name": "stdout",
     "output_type": "stream",
     "text": [
      "Mounted at /content/drive\n"
     ]
    }
   ],
   "source": [
    "from google.colab import drive\n",
    "drive.mount('/content/drive', force_remount=True)"
   ]
  },
  {
   "cell_type": "code",
   "execution_count": 0,
   "metadata": {
    "colab": {},
    "colab_type": "code",
    "hideCode": true,
    "hideOutput": true,
    "hidePrompt": true,
    "id": "dnH-0STxtW1B"
   },
   "outputs": [],
   "source": [
    "ds = pd.read_csv('/content/drive/My Drive/df_text_eng.csv', index_col='Unnamed: 0')"
   ]
  },
  {
   "cell_type": "code",
   "execution_count": 0,
   "metadata": {
    "colab": {},
    "colab_type": "code",
    "hideCode": true,
    "hideOutput": true,
    "hidePrompt": true,
    "id": "4TUywEQ5tW1D",
    "outputId": "54814746-6da0-4d90-cee2-af07f0c32a04"
   },
   "outputs": [
    {
     "data": {
      "text/html": [
       "<div>\n",
       "<style scoped>\n",
       "    .dataframe tbody tr th:only-of-type {\n",
       "        vertical-align: middle;\n",
       "    }\n",
       "\n",
       "    .dataframe tbody tr th {\n",
       "        vertical-align: top;\n",
       "    }\n",
       "\n",
       "    .dataframe thead th {\n",
       "        text-align: right;\n",
       "    }\n",
       "</style>\n",
       "<table border=\"1\" class=\"dataframe\">\n",
       "  <thead>\n",
       "    <tr style=\"text-align: right;\">\n",
       "      <th></th>\n",
       "      <th>blurb</th>\n",
       "      <th>state</th>\n",
       "    </tr>\n",
       "  </thead>\n",
       "  <tbody>\n",
       "    <tr>\n",
       "      <th>1</th>\n",
       "      <td>Using their own character, users go on educati...</td>\n",
       "      <td>0</td>\n",
       "    </tr>\n",
       "    <tr>\n",
       "      <th>2</th>\n",
       "      <td>MicroFly is a quadcopter packed with WiFi, 6 s...</td>\n",
       "      <td>1</td>\n",
       "    </tr>\n",
       "    <tr>\n",
       "      <th>3</th>\n",
       "      <td>A small indie press, run as a collective for a...</td>\n",
       "      <td>0</td>\n",
       "    </tr>\n",
       "    <tr>\n",
       "      <th>4</th>\n",
       "      <td>Zylor is a new baby cosplayer! Back this kicks...</td>\n",
       "      <td>0</td>\n",
       "    </tr>\n",
       "    <tr>\n",
       "      <th>5</th>\n",
       "      <td>Hatoful Boyfriend meet Skeletons! A comedy Dat...</td>\n",
       "      <td>0</td>\n",
       "    </tr>\n",
       "  </tbody>\n",
       "</table>\n",
       "</div>"
      ],
      "text/plain": [
       "                                               blurb  state\n",
       "1  Using their own character, users go on educati...      0\n",
       "2  MicroFly is a quadcopter packed with WiFi, 6 s...      1\n",
       "3  A small indie press, run as a collective for a...      0\n",
       "4  Zylor is a new baby cosplayer! Back this kicks...      0\n",
       "5  Hatoful Boyfriend meet Skeletons! A comedy Dat...      0"
      ]
     },
     "execution_count": 172,
     "metadata": {
      "tags": []
     },
     "output_type": "execute_result"
    }
   ],
   "source": [
    "ds.head()"
   ]
  },
  {
   "cell_type": "code",
   "execution_count": 0,
   "metadata": {
    "colab": {},
    "colab_type": "code",
    "hideCode": true,
    "hideOutput": true,
    "hidePrompt": true,
    "id": "AYqEhZ8utW1F"
   },
   "outputs": [],
   "source": [
    "ds['state'] = ds['state'].apply(lambda x: 0 if x == 'failed' else 1)"
   ]
  },
  {
   "cell_type": "code",
   "execution_count": 0,
   "metadata": {
    "colab": {},
    "colab_type": "code",
    "hideCode": true,
    "hideOutput": true,
    "hidePrompt": true,
    "id": "iZiN6mowtW1H"
   },
   "outputs": [],
   "source": [
    "import string\n",
    "from nltk.tokenize import word_tokenize\n",
    "from nltk.corpus import stopwords"
   ]
  },
  {
   "cell_type": "code",
   "execution_count": 47,
   "metadata": {
    "colab": {
     "base_uri": "https://localhost:8080/",
     "height": 72
    },
    "colab_type": "code",
    "executionInfo": {
     "elapsed": 10926,
     "status": "ok",
     "timestamp": 1574772739518,
     "user": {
      "displayName": "Hee Young Jung",
      "photoUrl": "",
      "userId": "18220564098792029540"
     },
     "user_tz": -540
    },
    "hideCode": true,
    "hideOutput": true,
    "hidePrompt": true,
    "id": "okePymu3tW1I",
    "outputId": "fd245b15-e368-4bec-fcac-a171ec8414f3"
   },
   "outputs": [
    {
     "name": "stdout",
     "output_type": "stream",
     "text": [
      "[nltk_data] Downloading package punkt to /root/nltk_data...\n",
      "[nltk_data]   Unzipping tokenizers/punkt.zip.\n"
     ]
    },
    {
     "data": {
      "text/plain": [
       "True"
      ]
     },
     "execution_count": 47,
     "metadata": {
      "tags": []
     },
     "output_type": "execute_result"
    }
   ],
   "source": [
    "import nltk\n",
    "nltk.download('punkt')"
   ]
  },
  {
   "cell_type": "code",
   "execution_count": 48,
   "metadata": {
    "colab": {
     "base_uri": "https://localhost:8080/",
     "height": 72
    },
    "colab_type": "code",
    "executionInfo": {
     "elapsed": 10673,
     "status": "ok",
     "timestamp": 1574772739519,
     "user": {
      "displayName": "Hee Young Jung",
      "photoUrl": "",
      "userId": "18220564098792029540"
     },
     "user_tz": -540
    },
    "hideCode": true,
    "hideOutput": true,
    "hidePrompt": true,
    "id": "Iq-SX05StW1K",
    "outputId": "83247bc4-0d9a-4c6e-db9e-e54bffc04de7"
   },
   "outputs": [
    {
     "name": "stdout",
     "output_type": "stream",
     "text": [
      "[nltk_data] Downloading package stopwords to /root/nltk_data...\n",
      "[nltk_data]   Unzipping corpora/stopwords.zip.\n"
     ]
    },
    {
     "data": {
      "text/plain": [
       "True"
      ]
     },
     "execution_count": 48,
     "metadata": {
      "tags": []
     },
     "output_type": "execute_result"
    }
   ],
   "source": [
    ">>> import nltk\n",
    ">>> nltk.download('stopwords')"
   ]
  },
  {
   "cell_type": "code",
   "execution_count": 0,
   "metadata": {
    "colab": {},
    "colab_type": "code",
    "hideCode": true,
    "hideOutput": true,
    "hidePrompt": true,
    "id": "fZR9gaGPtW1M"
   },
   "outputs": [],
   "source": [
    "blurbs = list()\n",
    "lines = ds['blurb'].values.tolist()"
   ]
  },
  {
   "cell_type": "code",
   "execution_count": 0,
   "metadata": {
    "colab": {},
    "colab_type": "code",
    "hideCode": true,
    "hideOutput": true,
    "hidePrompt": true,
    "id": "E2bu03h-tW1O"
   },
   "outputs": [],
   "source": [
    "#turn NaN values into string\n",
    "for i in range(len(lines)):\n",
    "    if type(lines[i]) == float:\n",
    "        lines[i] = ''"
   ]
  },
  {
   "cell_type": "code",
   "execution_count": 51,
   "metadata": {
    "colab": {
     "base_uri": "https://localhost:8080/",
     "height": 35
    },
    "colab_type": "code",
    "executionInfo": {
     "elapsed": 103886,
     "status": "ok",
     "timestamp": 1574772847776,
     "user": {
      "displayName": "Hee Young Jung",
      "photoUrl": "",
      "userId": "18220564098792029540"
     },
     "user_tz": -540
    },
    "hideCode": true,
    "hideOutput": true,
    "hidePrompt": true,
    "id": "RbFUuEIstW1Q",
    "outputId": "b4b07c39-02c1-4a2d-b085-0173b0ee5fd3"
   },
   "outputs": [
    {
     "name": "stderr",
     "output_type": "stream",
     "text": [
      "100%|██████████| 215513/215513 [01:42<00:00, 2103.18it/s]\n"
     ]
    }
   ],
   "source": [
    "for line in tqdm(lines):\n",
    "    tokens = word_tokenize(line)\n",
    "    # to lower case\n",
    "    tokens = [w.lower() for w in tokens]\n",
    "    # remove punctuation\n",
    "    table = str.maketrans('', '', string.punctuation)\n",
    "    stripped = [w.translate(table) for w in tokens]\n",
    "    # remove remaining tokens that are not alphabetic\n",
    "    words = [word for word in stripped if word.isalpha()]\n",
    "    # filter out stop words\n",
    "    stop_words = set(stopwords.words('english'))\n",
    "    words = [w for w in words if not w in stop_words]\n",
    "    blurbs.append(words)"
   ]
  },
  {
   "cell_type": "code",
   "execution_count": 0,
   "metadata": {
    "colab": {},
    "colab_type": "code",
    "hideCode": true,
    "hideOutput": true,
    "hidePrompt": true,
    "id": "bzarYktbtW1S"
   },
   "outputs": [],
   "source": [
    "#train word2vec model\n",
    "model = gensim.models.Word2Vec(sentences=blurbs, size=300, window =5, workers=4, min_count=1)"
   ]
  },
  {
   "cell_type": "code",
   "execution_count": 53,
   "metadata": {
    "colab": {
     "base_uri": "https://localhost:8080/",
     "height": 74
    },
    "colab_type": "code",
    "executionInfo": {
     "elapsed": 173267,
     "status": "ok",
     "timestamp": 1574772946001,
     "user": {
      "displayName": "Hee Young Jung",
      "photoUrl": "",
      "userId": "18220564098792029540"
     },
     "user_tz": -540
    },
    "hideCode": true,
    "hideOutput": true,
    "hidePrompt": true,
    "id": "hlBj5biOtW1T",
    "outputId": "41bd1ea1-80d5-4b0b-8d25-00df6d65a1bc"
   },
   "outputs": [
    {
     "name": "stderr",
     "output_type": "stream",
     "text": [
      "/usr/local/lib/python3.6/dist-packages/smart_open/smart_open_lib.py:402: UserWarning: This function is deprecated, use smart_open.open instead. See the migration notes for details: https://github.com/RaRe-Technologies/smart_open/blob/master/README.rst#migrating-to-the-new-open-function\n",
      "  'See the migration notes for details: %s' % _MIGRATION_NOTES_URL\n"
     ]
    }
   ],
   "source": [
    "# export the word embedding\n",
    "model.wv.save_word2vec_format('blurb_word2vec.txt', binary=False)"
   ]
  },
  {
   "cell_type": "code",
   "execution_count": 54,
   "metadata": {
    "colab": {
     "base_uri": "https://localhost:8080/",
     "height": 35
    },
    "colab_type": "code",
    "executionInfo": {
     "elapsed": 183853,
     "status": "ok",
     "timestamp": 1574772956827,
     "user": {
      "displayName": "Hee Young Jung",
      "photoUrl": "",
      "userId": "18220564098792029540"
     },
     "user_tz": -540
    },
    "hideCode": true,
    "hideOutput": true,
    "hidePrompt": true,
    "id": "PbnHVoOitW1V",
    "outputId": "03d9abb2-d807-4c8e-d586-44b9a05e3f3a"
   },
   "outputs": [
    {
     "name": "stderr",
     "output_type": "stream",
     "text": [
      "117446it [00:10, 10822.55it/s]\n"
     ]
    }
   ],
   "source": [
    "import os\n",
    "\n",
    "embeddings_index= {}\n",
    "f = open(os.path.join('', 'blurb_word2vec.txt'), encoding = 'utf-8')\n",
    "for line in tqdm(f):\n",
    "    values = line.split()\n",
    "    word = values[0]\n",
    "    coefs = np.asarray(values[1:])\n",
    "    embeddings_index[word] = coefs\n",
    "f.close()"
   ]
  },
  {
   "cell_type": "code",
   "execution_count": 0,
   "metadata": {
    "colab": {},
    "colab_type": "code",
    "hideCode": true,
    "hideOutput": true,
    "hidePrompt": true,
    "id": "bKlQK72btW1X"
   },
   "outputs": [],
   "source": [
    "from tensorflow.python.keras.preprocessing.text import Tokenizer\n",
    "from tensorflow.python.keras.preprocessing.sequence import pad_sequences"
   ]
  },
  {
   "cell_type": "code",
   "execution_count": 0,
   "metadata": {
    "colab": {},
    "colab_type": "code",
    "hideCode": true,
    "hideOutput": true,
    "hidePrompt": true,
    "id": "0ym8TbkgtW1Z"
   },
   "outputs": [],
   "source": [
    "# Set the max length\n",
    "\n",
    "length = list()\n",
    "\n",
    "for i in range(len(blurbs)):\n",
    "    length.append(len(blurbs[i]))\n",
    "\n",
    "max_length = max(length)"
   ]
  },
  {
   "cell_type": "code",
   "execution_count": 57,
   "metadata": {
    "colab": {
     "base_uri": "https://localhost:8080/",
     "height": 72
    },
    "colab_type": "code",
    "executionInfo": {
     "elapsed": 187531,
     "status": "ok",
     "timestamp": 1574772962187,
     "user": {
      "displayName": "Hee Young Jung",
      "photoUrl": "",
      "userId": "18220564098792029540"
     },
     "user_tz": -540
    },
    "hideCode": true,
    "hideOutput": true,
    "hidePrompt": true,
    "id": "uvZ_ZuKXtW1b",
    "outputId": "384a9fcc-f54a-4a24-bb0d-6d4dd3bd43e6"
   },
   "outputs": [
    {
     "name": "stdout",
     "output_type": "stream",
     "text": [
      "Found 117445 unique tokens.\n",
      "Shape of blurb tensor: (215513, 26)\n",
      "Shape of state tensor: (215513,)\n"
     ]
    }
   ],
   "source": [
    "VALIDATION_SPLIT = 0.2\n",
    "\n",
    "# vectorize the text samples into a 2D integer tensor\n",
    "tokenizer_obj = Tokenizer()\n",
    "tokenizer_obj.fit_on_texts(blurbs)\n",
    "sequences = tokenizer_obj.texts_to_sequences(blurbs)\n",
    "\n",
    "# pad sequences\n",
    "word_index = tokenizer_obj.word_index\n",
    "print('Found %s unique tokens.' % len(word_index))\n",
    "\n",
    "blurb_pad = pad_sequences(sequences, maxlen=max_length)\n",
    "state =  ds['state'].values\n",
    "print('Shape of blurb tensor:', blurb_pad.shape)\n",
    "print('Shape of state tensor:', state.shape)\n",
    "\n",
    "# split the data into a training set and a validation set\n",
    "indices = np.arange(blurb_pad.shape[0])\n",
    "np.random.shuffle(indices)\n",
    "blurb_pad = blurb_pad[indices]\n",
    "state = state[indices]\n",
    "num_validation_samples = int(VALIDATION_SPLIT * blurb_pad.shape[0])\n",
    "\n",
    "X_train_pad = blurb_pad[:-num_validation_samples]\n",
    "y_train = state[:-num_validation_samples]\n",
    "X_test_pad = blurb_pad[-num_validation_samples:]\n",
    "y_test = state[-num_validation_samples:]"
   ]
  },
  {
   "cell_type": "code",
   "execution_count": 58,
   "metadata": {
    "colab": {
     "base_uri": "https://localhost:8080/",
     "height": 90
    },
    "colab_type": "code",
    "executionInfo": {
     "elapsed": 187334,
     "status": "ok",
     "timestamp": 1574772962188,
     "user": {
      "displayName": "Hee Young Jung",
      "photoUrl": "",
      "userId": "18220564098792029540"
     },
     "user_tz": -540
    },
    "hideCode": true,
    "hideOutput": true,
    "hidePrompt": true,
    "id": "qhWHSbVvtW1d",
    "outputId": "c3c78912-2ca6-4e21-d52d-10d58be59f37"
   },
   "outputs": [
    {
     "name": "stdout",
     "output_type": "stream",
     "text": [
      "Shape of X_train_pad tensor: (172411, 26)\n",
      "Shape of y_train tensor: (172411,)\n",
      "Shape of X_test_pad tensor: (43102, 26)\n",
      "Shape of y_test tensor: (43102,)\n"
     ]
    }
   ],
   "source": [
    "print('Shape of X_train_pad tensor:', X_train_pad.shape)\n",
    "print('Shape of y_train tensor:', y_train.shape)\n",
    "\n",
    "print('Shape of X_test_pad tensor:', X_test_pad.shape)\n",
    "print('Shape of y_test tensor:', y_test.shape)"
   ]
  },
  {
   "cell_type": "code",
   "execution_count": 59,
   "metadata": {
    "colab": {
     "base_uri": "https://localhost:8080/",
     "height": 35
    },
    "colab_type": "code",
    "executionInfo": {
     "elapsed": 203086,
     "status": "ok",
     "timestamp": 1574772979109,
     "user": {
      "displayName": "Hee Young Jung",
      "photoUrl": "",
      "userId": "18220564098792029540"
     },
     "user_tz": -540
    },
    "hideCode": true,
    "hideOutput": true,
    "hidePrompt": true,
    "id": "G8RbRmkntW1f",
    "outputId": "e570bcd3-b0e3-477b-fd7b-b56a7770498a"
   },
   "outputs": [
    {
     "name": "stderr",
     "output_type": "stream",
     "text": [
      "100%|██████████| 117445/117445 [00:16<00:00, 6925.82it/s]\n"
     ]
    }
   ],
   "source": [
    "EMBEDDING_DIM =300\n",
    "num_words = len(word_index) + 1\n",
    "embedding_matrix = np.zeros((num_words, EMBEDDING_DIM))\n",
    "\n",
    "for word, i in tqdm(word_index.items()):\n",
    "    if i > num_words:\n",
    "        continue\n",
    "    embedding_vector = embeddings_index.get(word)\n",
    "    if embedding_vector is not None:\n",
    "        # words not found in embedding index will be all-zeros.\n",
    "        embedding_matrix[i] = embedding_vector"
   ]
  },
  {
   "cell_type": "code",
   "execution_count": 60,
   "metadata": {
    "colab": {
     "base_uri": "https://localhost:8080/",
     "height": 437
    },
    "colab_type": "code",
    "executionInfo": {
     "elapsed": 204375,
     "status": "ok",
     "timestamp": 1574772980630,
     "user": {
      "displayName": "Hee Young Jung",
      "photoUrl": "",
      "userId": "18220564098792029540"
     },
     "user_tz": -540
    },
    "hideCode": true,
    "hideOutput": true,
    "hidePrompt": true,
    "id": "-BEYeyzitW1i",
    "outputId": "c47e13da-31ad-4dd6-95a3-e0234b07290a"
   },
   "outputs": [
    {
     "name": "stdout",
     "output_type": "stream",
     "text": [
      "WARNING:tensorflow:From /usr/local/lib/python3.6/dist-packages/tensorflow_core/python/ops/resource_variable_ops.py:1630: calling BaseResourceVariable.__init__ (from tensorflow.python.ops.resource_variable_ops) with constraint is deprecated and will be removed in a future version.\n",
      "Instructions for updating:\n",
      "If using Keras pass *_constraint arguments to layers.\n",
      "WARNING:tensorflow:From /usr/local/lib/python3.6/dist-packages/tensorflow_core/python/ops/nn_impl.py:183: where (from tensorflow.python.ops.array_ops) is deprecated and will be removed in a future version.\n",
      "Instructions for updating:\n",
      "Use tf.where in 2.0, which has the same broadcast rule as np.where\n",
      "Summary of the built model...\n",
      "Model: \"sequential\"\n",
      "_________________________________________________________________\n",
      "Layer (type)                 Output Shape              Param #   \n",
      "=================================================================\n",
      "embedding (Embedding)        (None, 26, 300)           35233800  \n",
      "_________________________________________________________________\n",
      "gru (GRU)                    (None, 32)                31968     \n",
      "_________________________________________________________________\n",
      "dense (Dense)                (None, 1)                 33        \n",
      "=================================================================\n",
      "Total params: 35,265,801\n",
      "Trainable params: 32,001\n",
      "Non-trainable params: 35,233,800\n",
      "_________________________________________________________________\n",
      "None\n"
     ]
    }
   ],
   "source": [
    "from tensorflow.keras.models import Sequential\n",
    "from tensorflow.keras.layers import Dense, Embedding, LSTM, GRU\n",
    "from tensorflow.keras.layers import Embedding\n",
    "from tensorflow.keras.initializers import Constant\n",
    "\n",
    "# define model\n",
    "model = Sequential()\n",
    "embedding_layer = Embedding(num_words,\n",
    "                            EMBEDDING_DIM,\n",
    "                            embeddings_initializer=Constant(embedding_matrix),\n",
    "                            input_length=max_length,\n",
    "                            trainable=False)\n",
    "model.add(embedding_layer)\n",
    "model.add(GRU(units=32,  dropout=0.2, recurrent_dropout=0.2))\n",
    "model.add(Dense(1, activation='sigmoid'))\n",
    "\n",
    "# try using different optimizers and different optimizer configs\n",
    "model.compile(loss='binary_crossentropy', optimizer='adam', metrics=['accuracy'])\n",
    "\n",
    "print('Summary of the built model...')\n",
    "print(model.summary())"
   ]
  },
  {
   "cell_type": "code",
   "execution_count": 61,
   "metadata": {
    "colab": {
     "base_uri": "https://localhost:8080/",
     "height": 35
    },
    "colab_type": "code",
    "executionInfo": {
     "elapsed": 203651,
     "status": "ok",
     "timestamp": 1574772981317,
     "user": {
      "displayName": "Hee Young Jung",
      "photoUrl": "",
      "userId": "18220564098792029540"
     },
     "user_tz": -540
    },
    "hideCode": true,
    "hideOutput": true,
    "hidePrompt": true,
    "id": "-THYbRDgtW1p",
    "outputId": "e4972dae-71db-46d7-c923-f1d59aecf68e"
   },
   "outputs": [
    {
     "data": {
      "text/plain": [
       "True"
      ]
     },
     "execution_count": 61,
     "metadata": {
      "tags": []
     },
     "output_type": "execute_result"
    }
   ],
   "source": [
    "import tensorflow as tf\n",
    "tf.test.is_gpu_available(\n",
    "    cuda_only=False,\n",
    "    min_cuda_compute_capability=None\n",
    ")"
   ]
  },
  {
   "cell_type": "code",
   "execution_count": 6,
   "metadata": {
    "hideCode": true,
    "hideOutput": true,
    "hidePrompt": true
   },
   "outputs": [
    {
     "data": {
      "text/html": [
       "<div>\n",
       "<style scoped>\n",
       "    .dataframe tbody tr th:only-of-type {\n",
       "        vertical-align: middle;\n",
       "    }\n",
       "\n",
       "    .dataframe tbody tr th {\n",
       "        vertical-align: top;\n",
       "    }\n",
       "\n",
       "    .dataframe thead th {\n",
       "        text-align: right;\n",
       "    }\n",
       "</style>\n",
       "<table border=\"1\" class=\"dataframe\">\n",
       "  <thead>\n",
       "    <tr style=\"text-align: right;\">\n",
       "      <th></th>\n",
       "      <th>Unnamed: 0</th>\n",
       "      <th>blurb</th>\n",
       "      <th>state</th>\n",
       "    </tr>\n",
       "  </thead>\n",
       "  <tbody>\n",
       "    <tr>\n",
       "      <th>0</th>\n",
       "      <td>1</td>\n",
       "      <td>Using their own character, users go on educati...</td>\n",
       "      <td>failed</td>\n",
       "    </tr>\n",
       "    <tr>\n",
       "      <th>1</th>\n",
       "      <td>2</td>\n",
       "      <td>MicroFly is a quadcopter packed with WiFi, 6 s...</td>\n",
       "      <td>successful</td>\n",
       "    </tr>\n",
       "    <tr>\n",
       "      <th>2</th>\n",
       "      <td>3</td>\n",
       "      <td>A small indie press, run as a collective for a...</td>\n",
       "      <td>failed</td>\n",
       "    </tr>\n",
       "    <tr>\n",
       "      <th>3</th>\n",
       "      <td>4</td>\n",
       "      <td>Zylor is a new baby cosplayer! Back this kicks...</td>\n",
       "      <td>failed</td>\n",
       "    </tr>\n",
       "    <tr>\n",
       "      <th>4</th>\n",
       "      <td>5</td>\n",
       "      <td>Hatoful Boyfriend meet Skeletons! A comedy Dat...</td>\n",
       "      <td>failed</td>\n",
       "    </tr>\n",
       "  </tbody>\n",
       "</table>\n",
       "</div>"
      ],
      "text/plain": [
       "   Unnamed: 0                                              blurb       state\n",
       "0           1  Using their own character, users go on educati...      failed\n",
       "1           2  MicroFly is a quadcopter packed with WiFi, 6 s...  successful\n",
       "2           3  A small indie press, run as a collective for a...      failed\n",
       "3           4  Zylor is a new baby cosplayer! Back this kicks...      failed\n",
       "4           5  Hatoful Boyfriend meet Skeletons! A comedy Dat...      failed"
      ]
     },
     "execution_count": 6,
     "metadata": {},
     "output_type": "execute_result"
    }
   ],
   "source": [
    "import pandas as pd\n",
    "import numpy as np\n",
    "data = pd.read_csv(\"df_text_eng.csv\")\n",
    "data.head()"
   ]
  },
  {
   "cell_type": "code",
   "execution_count": 7,
   "metadata": {
    "hideCode": true,
    "hideOutput": true,
    "hidePrompt": true
   },
   "outputs": [
    {
     "data": {
      "text/html": [
       "<div>\n",
       "<style scoped>\n",
       "    .dataframe tbody tr th:only-of-type {\n",
       "        vertical-align: middle;\n",
       "    }\n",
       "\n",
       "    .dataframe tbody tr th {\n",
       "        vertical-align: top;\n",
       "    }\n",
       "\n",
       "    .dataframe thead th {\n",
       "        text-align: right;\n",
       "    }\n",
       "</style>\n",
       "<table border=\"1\" class=\"dataframe\">\n",
       "  <thead>\n",
       "    <tr style=\"text-align: right;\">\n",
       "      <th></th>\n",
       "      <th>blurb</th>\n",
       "      <th>state</th>\n",
       "      <th>state_id</th>\n",
       "    </tr>\n",
       "  </thead>\n",
       "  <tbody>\n",
       "    <tr>\n",
       "      <th>0</th>\n",
       "      <td>Using their own character, users go on educati...</td>\n",
       "      <td>failed</td>\n",
       "      <td>0</td>\n",
       "    </tr>\n",
       "    <tr>\n",
       "      <th>1</th>\n",
       "      <td>MicroFly is a quadcopter packed with WiFi, 6 s...</td>\n",
       "      <td>successful</td>\n",
       "      <td>1</td>\n",
       "    </tr>\n",
       "    <tr>\n",
       "      <th>2</th>\n",
       "      <td>A small indie press, run as a collective for a...</td>\n",
       "      <td>failed</td>\n",
       "      <td>0</td>\n",
       "    </tr>\n",
       "    <tr>\n",
       "      <th>3</th>\n",
       "      <td>Zylor is a new baby cosplayer! Back this kicks...</td>\n",
       "      <td>failed</td>\n",
       "      <td>0</td>\n",
       "    </tr>\n",
       "    <tr>\n",
       "      <th>4</th>\n",
       "      <td>Hatoful Boyfriend meet Skeletons! A comedy Dat...</td>\n",
       "      <td>failed</td>\n",
       "      <td>0</td>\n",
       "    </tr>\n",
       "  </tbody>\n",
       "</table>\n",
       "</div>"
      ],
      "text/plain": [
       "                                               blurb       state  state_id\n",
       "0  Using their own character, users go on educati...      failed         0\n",
       "1  MicroFly is a quadcopter packed with WiFi, 6 s...  successful         1\n",
       "2  A small indie press, run as a collective for a...      failed         0\n",
       "3  Zylor is a new baby cosplayer! Back this kicks...      failed         0\n",
       "4  Hatoful Boyfriend meet Skeletons! A comedy Dat...      failed         0"
      ]
     },
     "execution_count": 7,
     "metadata": {},
     "output_type": "execute_result"
    }
   ],
   "source": [
    "del data['Unnamed: 0'] \n",
    "from io import StringIO\n",
    "data['state_id'] = data['state'].factorize()[0]\n",
    "state_id_df = data[['state', 'state_id']].drop_duplicates().sort_values('state_id')\n",
    "state_to_id = dict(state_id_df.values)\n",
    "id_to_state = dict(state_id_df[['state_id', 'state']].values)\n",
    "data.head()"
   ]
  },
  {
   "cell_type": "code",
   "execution_count": 9,
   "metadata": {
    "hideCode": true,
    "hidePrompt": true
   },
   "outputs": [],
   "source": [
    "import re\n",
    "def clean(text):\n",
    "    text = str(text)\n",
    "    text = re.findall(r'\\w+', text)\n",
    "    return ' '.join(text)\n",
    "data['blurb'] = data['blurb'].apply(lambda x: clean(x))"
   ]
  },
  {
   "cell_type": "code",
   "execution_count": 10,
   "metadata": {
    "hideCode": true,
    "hidePrompt": true
   },
   "outputs": [],
   "source": [
    "from sklearn.model_selection import train_test_split\n",
    "from sklearn.feature_extraction.text import TfidfVectorizer\n",
    "x_train, x_test, y_train, y_test = train_test_split(data['blurb'], data['state'], train_size=0.7, random_state=42)\n",
    "vectorizer = TfidfVectorizer().fit(x_train)\n",
    "x_train_v = vectorizer.transform(x_train)\n",
    "x_test_v  = vectorizer.transform(x_test)"
   ]
  },
  {
   "cell_type": "code",
   "execution_count": 11,
   "metadata": {
    "hideCode": true,
    "hidePrompt": true
   },
   "outputs": [],
   "source": [
    "from sklearn.linear_model import LogisticRegression, SGDClassifier\n",
    "from sklearn.svm import LinearSVC\n",
    "from sklearn.metrics import classification_report\n",
    "from sklearn.naive_bayes import MultinomialNB\n",
    "from sklearn.metrics import accuracy_score\n",
    "from time import time\n",
    "entries = []\n",
    "def train():\n",
    "    models = {\n",
    "        \"LogisticRegression\": LogisticRegression(),\n",
    "        \"SGDClassifier\": SGDClassifier(),\n",
    "        \"Multinomial\":MultinomialNB(),\n",
    "        \"LinearSVC\": LinearSVC(),\n",
    "    }\n",
    "    for model in models:\n",
    "        print(\"training model\"+model)\n",
    "        start = time()\n",
    "        models[model].fit(x_train_v, y_train)\n",
    "        end = time()\n",
    "        print(\"trained in {} secs\".format(end-start))\n",
    "        y_pred = models[model].predict(x_test_v)\n",
    "        entries.append((model,accuracy_score(y_test, y_pred)))"
   ]
  },
  {
   "cell_type": "code",
   "execution_count": 17,
   "metadata": {
    "hideCode": true,
    "hideOutput": true,
    "hidePrompt": true
   },
   "outputs": [],
   "source": [
    "import pickle"
   ]
  },
  {
   "cell_type": "code",
   "execution_count": 1,
   "metadata": {
    "hideCode": true,
    "hidePrompt": true
   },
   "outputs": [],
   "source": [
    "import pandas as pd\n",
    "import numpy as np\n",
    "pd.set_option('max_columns',999)\n",
    "pd.set_option('max_rows',200)\n",
    "\n",
    "import matplotlib.pyplot as plt\n",
    "import matplotlib as mpl\n",
    "import matplotlib.font_manager as fm\n",
    "import seaborn as sns\n",
    "sns.set() \n",
    "%matplotlib inline \n",
    "%config InlineBackend.figure_format = 'retina' \n",
    "sns.set_style(style='white')\n",
    "sns.set_context(context ='paper')\n",
    "\n",
    "import datetime\n",
    "import os\n",
    "from functools import reduce\n",
    "import json"
   ]
  },
  {
   "cell_type": "code",
   "execution_count": 2,
   "metadata": {
    "hideCode": true,
    "hidePrompt": true
   },
   "outputs": [],
   "source": [
    "# Data for training loaded from the database\n",
    "projects = pd.read_csv('ks-projects-201801.csv')"
   ]
  },
  {
   "cell_type": "code",
   "execution_count": 3,
   "metadata": {
    "hideCode": true,
    "hidePrompt": true
   },
   "outputs": [],
   "source": [
    "projects['state_new'] = projects.apply(lambda x: 'success' if x['usd_pledged_real'] >= x['usd_goal_real']\n",
    "                                       else 'failed', axis = 1)"
   ]
  },
  {
   "cell_type": "code",
   "execution_count": 4,
   "metadata": {
    "hideCode": true,
    "hidePrompt": true
   },
   "outputs": [],
   "source": [
    "projects['launched_year'] = projects.apply(lambda x: x['launched'].split(\" \")[0].split(\"-\")[0], axis = 1)\n",
    "projects['launched_month'] = projects.apply(lambda x: x['launched'].split(\" \")[0].split(\"-\")[1], axis = 1)\n",
    "projects['launched_day'] = projects.apply(lambda x: x['launched'].split(\" \")[0].split(\"-\")[2], axis = 1)\n",
    "projects['launched_date'] = projects.apply(lambda x: x['launched'].split(\" \")[0].split(\"-\")[1] + x['launched'].split(\" \")[0].split(\"-\")[2], axis = 1)"
   ]
  },
  {
   "cell_type": "code",
   "execution_count": 5,
   "metadata": {
    "hideCode": true,
    "hidePrompt": true
   },
   "outputs": [],
   "source": [
    "projects['deadline_dt'] = projects.apply(lambda x: datetime.datetime.strptime(x['deadline'], \"%Y-%m-%d\").date(), axis = 1)\n",
    "projects['launched_dt'] = projects.apply(lambda x: datetime.datetime.strptime(x['launched'].split(\" \")[0], \"%Y-%m-%d\").date(), axis = 1)"
   ]
  },
  {
   "cell_type": "code",
   "execution_count": 6,
   "metadata": {
    "hideCode": true,
    "hidePrompt": true
   },
   "outputs": [],
   "source": [
    "projects['term'] = projects.apply(lambda x: int(str(x['deadline_dt'] - x['launched_dt']).split(\" \")[0]), axis = 1)\n",
    "projects['term_str'] = projects.apply(lambda x: str(x['term']), axis = 1)"
   ]
  },
  {
   "cell_type": "code",
   "execution_count": 7,
   "metadata": {
    "hideCode": true,
    "hidePrompt": true
   },
   "outputs": [],
   "source": [
    "# launch 날짜가 1970년으로 되어있는 row는 삭제\n",
    "projects_new = projects[lambda x: x['term'] < 100]"
   ]
  },
  {
   "cell_type": "code",
   "execution_count": 8,
   "metadata": {
    "hideCode": true,
    "hidePrompt": true
   },
   "outputs": [],
   "source": [
    "projects_new = projects_new.reset_index().drop(['index'], axis = 1)"
   ]
  },
  {
   "cell_type": "code",
   "execution_count": 9,
   "metadata": {
    "hideCode": true,
    "hidePrompt": true
   },
   "outputs": [],
   "source": [
    "projects_new['term_str'] = projects_new.apply(lambda x: x['term_str'] if len(x['term_str']) != 1\n",
    "                                             else '0' + x['term_str'], axis = 1)"
   ]
  },
  {
   "cell_type": "code",
   "execution_count": 10,
   "metadata": {
    "hideCode": true,
    "hidePrompt": true
   },
   "outputs": [],
   "source": [
    "# binnarize the dependent variable\n",
    "projects_new['state_bin'] = projects_new['state_new'].apply(lambda x: 0 if x == 'failed' else 1)"
   ]
  },
  {
   "cell_type": "code",
   "execution_count": 11,
   "metadata": {
    "hideCode": true,
    "hidePrompt": true
   },
   "outputs": [],
   "source": [
    "# 10만원 이하로 펀딩 받는 경우는 지움\n",
    "projects_fin = projects_new[projects_new['usd_goal_real'] > 100]"
   ]
  },
  {
   "cell_type": "code",
   "execution_count": 12,
   "metadata": {
    "hideCode": true,
    "hidePrompt": true
   },
   "outputs": [],
   "source": [
    "projects_fin = projects_new[projects_new['country'].isin(['US', 'BR', 'CA', 'AU', 'DE', 'FR', 'IT', 'NL', 'ES'])]"
   ]
  },
  {
   "cell_type": "code",
   "execution_count": 13,
   "metadata": {
    "hideCode": true,
    "hidePrompt": true
   },
   "outputs": [],
   "source": [
    "projects_fin = projects_new[projects_new['currency'].isin(['USD', 'GBP', 'EUR', 'CAD', 'AUD'])]"
   ]
  },
  {
   "cell_type": "code",
   "execution_count": 14,
   "metadata": {
    "hideCode": true,
    "hidePrompt": true
   },
   "outputs": [],
   "source": [
    "# Creating the dataset\n",
    "train_data = projects_fin[['category', 'main_category', 'currency', 'country', 'usd_goal_real', 'state_bin', 'launched_year', 'launched_month', 'term']].copy()"
   ]
  },
  {
   "cell_type": "code",
   "execution_count": 15,
   "metadata": {
    "hideCode": true,
    "hidePrompt": true
   },
   "outputs": [],
   "source": [
    "train = pd.DataFrame()"
   ]
  },
  {
   "cell_type": "code",
   "execution_count": 17,
   "metadata": {
    "hideCode": true,
    "hidePrompt": true
   },
   "outputs": [],
   "source": [
    "# export labes for vectorizing\n",
    "\n",
    "cat_c = train_data['category'].astype('category')\n",
    "main_c = train_data['main_category'].astype('category')\n",
    "curre_c = train_data['currency'].astype('category')\n",
    "count_c = train_data['country'].astype('category')\n",
    "cat_d = dict(enumerate(cat_c.cat.categories))\n",
    "main_d = dict(enumerate(main_c.cat.categories))\n",
    "curre_d = dict(enumerate(curre_c.cat.categories))\n",
    "count_d = dict(enumerate(count_c.cat.categories))\n",
    "\n",
    "cat = {y:x for x,y in cat_d.items()}\n",
    "main = {y:x for x,y in main_d.items()}\n",
    "curre = {y:x for x,y in curre_d.items()}\n",
    "count = {y:x for x,y in count_d.items()}\n",
    "\n",
    "cat_labels = {'category' : cat, 'main_category' : main, 'currency' : curre, 'country': count}\n",
    "cat_json = json.dumps(cat_labels)\n",
    "f = open(\"cat_labels.json\",\"w\")\n",
    "f.write(cat_json)\n",
    "f.close()"
   ]
  },
  {
   "cell_type": "code",
   "execution_count": 18,
   "metadata": {
    "hideCode": true,
    "hidePrompt": true
   },
   "outputs": [],
   "source": [
    "train[['usd_goal_real', 'launched_year', 'launched_month', 'term', 'state']] = train_data[['usd_goal_real', 'launched_year', 'launched_month', 'term', 'state_bin']]"
   ]
  },
  {
   "cell_type": "code",
   "execution_count": 19,
   "metadata": {
    "hideCode": true,
    "hidePrompt": true
   },
   "outputs": [],
   "source": [
    "train['launched_year'] = (train['launched_year']).astype('int')\n",
    "train['launched_month'] = (train['launched_month']).astype('int')"
   ]
  },
  {
   "cell_type": "code",
   "execution_count": 20,
   "metadata": {
    "hideCode": true,
    "hidePrompt": true
   },
   "outputs": [],
   "source": [
    "x = train.iloc[:,:-1]\n",
    "y = train.iloc[:,-1]"
   ]
  },
  {
   "cell_type": "code",
   "execution_count": 22,
   "metadata": {
    "hideCode": true,
    "hidePrompt": true
   },
   "outputs": [],
   "source": [
    "import xgboost as xgb\n",
    "from xgboost.sklearn import XGBClassifier"
   ]
  },
  {
   "cell_type": "code",
   "execution_count": 25,
   "metadata": {
    "hideCode": true,
    "hidePrompt": true
   },
   "outputs": [],
   "source": [
    "from sklearn.model_selection import train_test_split\n",
    "x_train, x_test, y_train, y_test = train_test_split(x, y, test_size=0.3)"
   ]
  },
  {
   "cell_type": "code",
   "execution_count": 26,
   "metadata": {
    "hideCode": true,
    "hidePrompt": true
   },
   "outputs": [],
   "source": [
    "xgb_model = xgb.XGBClassifier(n_estimators=1000,\n",
    "                        n_jobs=6,\n",
    "                        max_depth=5,\n",
    "                        learning_rate=0.1,\n",
    "                        gamma = 0,\n",
    "                        subsample = 0.8,\n",
    "                        scale_pos_weight = 1,\n",
    "                        min_child_weight=1,\n",
    "                        colsample_bytree=0.8,\n",
    "                        objective= 'binary:logistic',\n",
    "                        nthread=4,\n",
    "                        missing=-999,\n",
    "                        seed=27,\n",
    "                        tree_method='gpu_hist')"
   ]
  },
  {
   "cell_type": "code",
   "execution_count": 27,
   "metadata": {
    "hideCode": true,
    "hideOutput": true,
    "hidePrompt": true
   },
   "outputs": [
    {
     "data": {
      "text/plain": [
       "XGBClassifier(base_score=0.5, booster='gbtree', colsample_bylevel=1,\n",
       "              colsample_bynode=1, colsample_bytree=0.8, gamma=0,\n",
       "              learning_rate=0.1, max_delta_step=0, max_depth=5,\n",
       "              min_child_weight=1, missing=-999, n_estimators=1000, n_jobs=6,\n",
       "              nthread=4, objective='binary:logistic', random_state=0,\n",
       "              reg_alpha=0, reg_lambda=1, scale_pos_weight=1, seed=27,\n",
       "              silent=None, subsample=0.8, tree_method='gpu_hist', verbosity=1)"
      ]
     },
     "execution_count": 27,
     "metadata": {},
     "output_type": "execute_result"
    }
   ],
   "source": [
    "xgb_model.fit(x_train,y_train)"
   ]
  },
  {
   "cell_type": "code",
   "execution_count": 28,
   "metadata": {
    "hideCode": true,
    "hidePrompt": true
   },
   "outputs": [],
   "source": [
    "prediction = xgb_model.predict(x_test)"
   ]
  },
  {
   "cell_type": "code",
   "execution_count": 29,
   "metadata": {
    "hideCode": true,
    "hidePrompt": true
   },
   "outputs": [],
   "source": [
    "from sklearn.metrics import accuracy_score, f1_score"
   ]
  },
  {
   "cell_type": "code",
   "execution_count": 33,
   "metadata": {
    "hideCode": true,
    "hidePrompt": true
   },
   "outputs": [],
   "source": [
    "import catboost as cb"
   ]
  },
  {
   "cell_type": "code",
   "execution_count": 34,
   "metadata": {
    "hideCode": true,
    "hidePrompt": true
   },
   "outputs": [],
   "source": [
    "cb_clf = cb.CatBoostClassifier(task_type = 'GPU')"
   ]
  },
  {
   "cell_type": "code",
   "execution_count": 35,
   "metadata": {
    "hideCode": true,
    "hideOutput": true,
    "hidePrompt": true
   },
   "outputs": [
    {
     "name": "stdout",
     "output_type": "stream",
     "text": [
      "Learning rate set to 0.080728\n"
     ]
    },
    {
     "name": "stderr",
     "output_type": "stream",
     "text": [
      "Warning: less than 75% gpu memory available for training. Free: 4433.4375 Total: 6144\n"
     ]
    },
    {
     "name": "stdout",
     "output_type": "stream",
     "text": [
      "0:\tlearn: 0.6755262\ttotal: 62.6ms\tremaining: 1m 2s\n",
      "1:\tlearn: 0.6610547\ttotal: 100ms\tremaining: 50.1s\n",
      "2:\tlearn: 0.6491370\ttotal: 137ms\tremaining: 45.6s\n",
      "3:\tlearn: 0.6386351\ttotal: 178ms\tremaining: 44.4s\n",
      "4:\tlearn: 0.6297548\ttotal: 216ms\tremaining: 43s\n",
      "5:\tlearn: 0.6225697\ttotal: 256ms\tremaining: 42.4s\n",
      "6:\tlearn: 0.6160055\ttotal: 296ms\tremaining: 42s\n",
      "7:\tlearn: 0.6111072\ttotal: 338ms\tremaining: 42s\n",
      "8:\tlearn: 0.6061068\ttotal: 376ms\tremaining: 41.4s\n",
      "9:\tlearn: 0.6020036\ttotal: 416ms\tremaining: 41.1s\n",
      "10:\tlearn: 0.5983953\ttotal: 456ms\tremaining: 41s\n",
      "11:\tlearn: 0.5953873\ttotal: 498ms\tremaining: 41s\n",
      "12:\tlearn: 0.5927794\ttotal: 540ms\tremaining: 41s\n",
      "13:\tlearn: 0.5904531\ttotal: 581ms\tremaining: 40.9s\n",
      "14:\tlearn: 0.5884239\ttotal: 621ms\tremaining: 40.8s\n",
      "15:\tlearn: 0.5866149\ttotal: 666ms\tremaining: 40.9s\n",
      "16:\tlearn: 0.5849379\ttotal: 707ms\tremaining: 40.9s\n",
      "17:\tlearn: 0.5835332\ttotal: 747ms\tremaining: 40.8s\n",
      "18:\tlearn: 0.5819140\ttotal: 785ms\tremaining: 40.5s\n",
      "19:\tlearn: 0.5805894\ttotal: 823ms\tremaining: 40.3s\n",
      "20:\tlearn: 0.5795960\ttotal: 864ms\tremaining: 40.3s\n",
      "21:\tlearn: 0.5784934\ttotal: 902ms\tremaining: 40.1s\n",
      "22:\tlearn: 0.5776328\ttotal: 940ms\tremaining: 39.9s\n",
      "23:\tlearn: 0.5767117\ttotal: 978ms\tremaining: 39.8s\n",
      "24:\tlearn: 0.5759696\ttotal: 1.01s\tremaining: 39.5s\n",
      "25:\tlearn: 0.5752627\ttotal: 1.05s\tremaining: 39.4s\n",
      "26:\tlearn: 0.5745515\ttotal: 1.09s\tremaining: 39.3s\n",
      "27:\tlearn: 0.5740211\ttotal: 1.13s\tremaining: 39.2s\n",
      "28:\tlearn: 0.5734357\ttotal: 1.17s\tremaining: 39.1s\n",
      "29:\tlearn: 0.5729764\ttotal: 1.21s\tremaining: 39s\n",
      "30:\tlearn: 0.5724555\ttotal: 1.25s\tremaining: 39s\n",
      "31:\tlearn: 0.5719115\ttotal: 1.28s\tremaining: 38.8s\n",
      "32:\tlearn: 0.5714595\ttotal: 1.32s\tremaining: 38.7s\n",
      "33:\tlearn: 0.5710956\ttotal: 1.35s\tremaining: 38.5s\n",
      "34:\tlearn: 0.5707212\ttotal: 1.39s\tremaining: 38.4s\n",
      "35:\tlearn: 0.5702536\ttotal: 1.43s\tremaining: 38.3s\n",
      "36:\tlearn: 0.5699598\ttotal: 1.47s\tremaining: 38.2s\n",
      "37:\tlearn: 0.5696373\ttotal: 1.51s\tremaining: 38.2s\n",
      "38:\tlearn: 0.5693153\ttotal: 1.54s\tremaining: 37.9s\n",
      "39:\tlearn: 0.5689853\ttotal: 1.58s\tremaining: 37.9s\n",
      "40:\tlearn: 0.5687772\ttotal: 1.61s\tremaining: 37.7s\n",
      "41:\tlearn: 0.5684359\ttotal: 1.65s\tremaining: 37.6s\n",
      "42:\tlearn: 0.5682216\ttotal: 1.69s\tremaining: 37.6s\n",
      "43:\tlearn: 0.5679169\ttotal: 1.72s\tremaining: 37.4s\n",
      "44:\tlearn: 0.5676608\ttotal: 1.75s\tremaining: 37.2s\n",
      "45:\tlearn: 0.5674100\ttotal: 1.79s\tremaining: 37.1s\n",
      "46:\tlearn: 0.5672296\ttotal: 1.82s\tremaining: 36.9s\n",
      "47:\tlearn: 0.5670336\ttotal: 1.86s\tremaining: 36.9s\n",
      "48:\tlearn: 0.5668473\ttotal: 1.9s\tremaining: 36.9s\n",
      "49:\tlearn: 0.5666388\ttotal: 1.94s\tremaining: 36.8s\n",
      "50:\tlearn: 0.5662226\ttotal: 1.97s\tremaining: 36.7s\n",
      "51:\tlearn: 0.5660013\ttotal: 2.01s\tremaining: 36.6s\n",
      "52:\tlearn: 0.5657937\ttotal: 2.04s\tremaining: 36.5s\n",
      "53:\tlearn: 0.5655742\ttotal: 2.08s\tremaining: 36.4s\n",
      "54:\tlearn: 0.5654142\ttotal: 2.11s\tremaining: 36.3s\n",
      "55:\tlearn: 0.5652598\ttotal: 2.15s\tremaining: 36.2s\n",
      "56:\tlearn: 0.5650274\ttotal: 2.18s\tremaining: 36.1s\n",
      "57:\tlearn: 0.5648529\ttotal: 2.22s\tremaining: 36.1s\n",
      "58:\tlearn: 0.5646172\ttotal: 2.26s\tremaining: 36.1s\n",
      "59:\tlearn: 0.5644906\ttotal: 2.3s\tremaining: 36.1s\n",
      "60:\tlearn: 0.5642809\ttotal: 2.34s\tremaining: 36s\n",
      "61:\tlearn: 0.5641260\ttotal: 2.37s\tremaining: 35.9s\n",
      "62:\tlearn: 0.5639819\ttotal: 2.41s\tremaining: 35.9s\n",
      "63:\tlearn: 0.5638318\ttotal: 2.45s\tremaining: 35.9s\n",
      "64:\tlearn: 0.5636678\ttotal: 2.48s\tremaining: 35.7s\n",
      "65:\tlearn: 0.5635277\ttotal: 2.52s\tremaining: 35.7s\n",
      "66:\tlearn: 0.5633672\ttotal: 2.56s\tremaining: 35.7s\n",
      "67:\tlearn: 0.5631498\ttotal: 2.59s\tremaining: 35.6s\n",
      "68:\tlearn: 0.5630447\ttotal: 2.63s\tremaining: 35.5s\n",
      "69:\tlearn: 0.5628872\ttotal: 2.66s\tremaining: 35.4s\n",
      "70:\tlearn: 0.5627527\ttotal: 2.7s\tremaining: 35.3s\n",
      "71:\tlearn: 0.5626664\ttotal: 2.74s\tremaining: 35.3s\n",
      "72:\tlearn: 0.5625635\ttotal: 2.78s\tremaining: 35.3s\n",
      "73:\tlearn: 0.5624278\ttotal: 2.81s\tremaining: 35.2s\n",
      "74:\tlearn: 0.5623000\ttotal: 2.85s\tremaining: 35.2s\n",
      "75:\tlearn: 0.5621956\ttotal: 2.88s\tremaining: 35s\n",
      "76:\tlearn: 0.5620951\ttotal: 2.91s\tremaining: 34.9s\n",
      "77:\tlearn: 0.5619949\ttotal: 2.95s\tremaining: 34.8s\n",
      "78:\tlearn: 0.5618841\ttotal: 2.98s\tremaining: 34.7s\n",
      "79:\tlearn: 0.5617774\ttotal: 3.01s\tremaining: 34.7s\n",
      "80:\tlearn: 0.5616751\ttotal: 3.05s\tremaining: 34.6s\n",
      "81:\tlearn: 0.5615982\ttotal: 3.08s\tremaining: 34.5s\n",
      "82:\tlearn: 0.5614428\ttotal: 3.12s\tremaining: 34.5s\n",
      "83:\tlearn: 0.5613610\ttotal: 3.16s\tremaining: 34.4s\n",
      "84:\tlearn: 0.5612370\ttotal: 3.2s\tremaining: 34.4s\n",
      "85:\tlearn: 0.5610492\ttotal: 3.23s\tremaining: 34.3s\n",
      "86:\tlearn: 0.5609316\ttotal: 3.26s\tremaining: 34.2s\n",
      "87:\tlearn: 0.5607723\ttotal: 3.3s\tremaining: 34.2s\n",
      "88:\tlearn: 0.5606470\ttotal: 3.33s\tremaining: 34.1s\n",
      "89:\tlearn: 0.5605313\ttotal: 3.36s\tremaining: 34s\n",
      "90:\tlearn: 0.5604169\ttotal: 3.39s\tremaining: 33.9s\n",
      "91:\tlearn: 0.5603175\ttotal: 3.43s\tremaining: 33.9s\n",
      "92:\tlearn: 0.5602299\ttotal: 3.46s\tremaining: 33.8s\n",
      "93:\tlearn: 0.5601247\ttotal: 3.5s\tremaining: 33.7s\n",
      "94:\tlearn: 0.5600105\ttotal: 3.53s\tremaining: 33.6s\n",
      "95:\tlearn: 0.5599047\ttotal: 3.56s\tremaining: 33.6s\n",
      "96:\tlearn: 0.5597703\ttotal: 3.6s\tremaining: 33.5s\n",
      "97:\tlearn: 0.5597075\ttotal: 3.63s\tremaining: 33.4s\n",
      "98:\tlearn: 0.5596143\ttotal: 3.67s\tremaining: 33.4s\n",
      "99:\tlearn: 0.5595165\ttotal: 3.7s\tremaining: 33.3s\n",
      "100:\tlearn: 0.5594261\ttotal: 3.74s\tremaining: 33.3s\n",
      "101:\tlearn: 0.5593560\ttotal: 3.76s\tremaining: 33.1s\n",
      "102:\tlearn: 0.5592443\ttotal: 3.8s\tremaining: 33.1s\n",
      "103:\tlearn: 0.5591806\ttotal: 3.83s\tremaining: 33s\n",
      "104:\tlearn: 0.5591479\ttotal: 3.88s\tremaining: 33s\n",
      "105:\tlearn: 0.5590238\ttotal: 3.91s\tremaining: 33s\n",
      "106:\tlearn: 0.5589730\ttotal: 3.94s\tremaining: 32.9s\n",
      "107:\tlearn: 0.5588935\ttotal: 3.98s\tremaining: 32.8s\n",
      "108:\tlearn: 0.5588083\ttotal: 4.01s\tremaining: 32.8s\n",
      "109:\tlearn: 0.5587144\ttotal: 4.04s\tremaining: 32.7s\n",
      "110:\tlearn: 0.5586619\ttotal: 4.07s\tremaining: 32.6s\n",
      "111:\tlearn: 0.5585795\ttotal: 4.11s\tremaining: 32.6s\n",
      "112:\tlearn: 0.5585309\ttotal: 4.15s\tremaining: 32.6s\n",
      "113:\tlearn: 0.5584782\ttotal: 4.19s\tremaining: 32.6s\n",
      "114:\tlearn: 0.5583821\ttotal: 4.22s\tremaining: 32.5s\n",
      "115:\tlearn: 0.5583166\ttotal: 4.26s\tremaining: 32.5s\n",
      "116:\tlearn: 0.5582696\ttotal: 4.29s\tremaining: 32.4s\n",
      "117:\tlearn: 0.5581927\ttotal: 4.33s\tremaining: 32.4s\n",
      "118:\tlearn: 0.5581290\ttotal: 4.36s\tremaining: 32.3s\n",
      "119:\tlearn: 0.5580717\ttotal: 4.4s\tremaining: 32.3s\n",
      "120:\tlearn: 0.5579932\ttotal: 4.44s\tremaining: 32.3s\n",
      "121:\tlearn: 0.5579273\ttotal: 4.47s\tremaining: 32.2s\n",
      "122:\tlearn: 0.5578464\ttotal: 4.5s\tremaining: 32.1s\n",
      "123:\tlearn: 0.5577929\ttotal: 4.54s\tremaining: 32.1s\n",
      "124:\tlearn: 0.5576893\ttotal: 4.58s\tremaining: 32s\n",
      "125:\tlearn: 0.5576373\ttotal: 4.62s\tremaining: 32s\n",
      "126:\tlearn: 0.5575607\ttotal: 4.65s\tremaining: 31.9s\n",
      "127:\tlearn: 0.5574340\ttotal: 4.68s\tremaining: 31.9s\n",
      "128:\tlearn: 0.5573490\ttotal: 4.71s\tremaining: 31.8s\n",
      "129:\tlearn: 0.5572579\ttotal: 4.77s\tremaining: 31.9s\n",
      "130:\tlearn: 0.5572101\ttotal: 4.81s\tremaining: 31.9s\n",
      "131:\tlearn: 0.5571532\ttotal: 4.85s\tremaining: 31.9s\n",
      "132:\tlearn: 0.5571332\ttotal: 4.88s\tremaining: 31.8s\n",
      "133:\tlearn: 0.5571051\ttotal: 4.92s\tremaining: 31.8s\n",
      "134:\tlearn: 0.5570458\ttotal: 4.96s\tremaining: 31.8s\n",
      "135:\tlearn: 0.5569772\ttotal: 5s\tremaining: 31.7s\n",
      "136:\tlearn: 0.5569265\ttotal: 5.03s\tremaining: 31.7s\n",
      "137:\tlearn: 0.5568607\ttotal: 5.07s\tremaining: 31.7s\n",
      "138:\tlearn: 0.5568089\ttotal: 5.11s\tremaining: 31.7s\n",
      "139:\tlearn: 0.5567558\ttotal: 5.15s\tremaining: 31.6s\n",
      "140:\tlearn: 0.5567061\ttotal: 5.19s\tremaining: 31.6s\n",
      "141:\tlearn: 0.5566670\ttotal: 5.23s\tremaining: 31.6s\n",
      "142:\tlearn: 0.5566260\ttotal: 5.26s\tremaining: 31.5s\n",
      "143:\tlearn: 0.5565491\ttotal: 5.3s\tremaining: 31.5s\n",
      "144:\tlearn: 0.5564866\ttotal: 5.34s\tremaining: 31.5s\n",
      "145:\tlearn: 0.5564125\ttotal: 5.38s\tremaining: 31.4s\n",
      "146:\tlearn: 0.5563574\ttotal: 5.42s\tremaining: 31.4s\n",
      "147:\tlearn: 0.5562899\ttotal: 5.45s\tremaining: 31.4s\n",
      "148:\tlearn: 0.5562351\ttotal: 5.49s\tremaining: 31.3s\n",
      "149:\tlearn: 0.5561619\ttotal: 5.53s\tremaining: 31.3s\n",
      "150:\tlearn: 0.5561147\ttotal: 5.56s\tremaining: 31.3s\n",
      "151:\tlearn: 0.5560896\ttotal: 5.6s\tremaining: 31.2s\n",
      "152:\tlearn: 0.5560471\ttotal: 5.64s\tremaining: 31.2s\n",
      "153:\tlearn: 0.5560037\ttotal: 5.68s\tremaining: 31.2s\n",
      "154:\tlearn: 0.5559605\ttotal: 5.72s\tremaining: 31.2s\n",
      "155:\tlearn: 0.5559180\ttotal: 5.75s\tremaining: 31.1s\n",
      "156:\tlearn: 0.5558185\ttotal: 5.79s\tremaining: 31.1s\n",
      "157:\tlearn: 0.5557537\ttotal: 5.83s\tremaining: 31.1s\n",
      "158:\tlearn: 0.5557045\ttotal: 5.87s\tremaining: 31.1s\n",
      "159:\tlearn: 0.5556519\ttotal: 5.91s\tremaining: 31s\n",
      "160:\tlearn: 0.5555872\ttotal: 5.95s\tremaining: 31s\n"
     ]
    },
    {
     "name": "stdout",
     "output_type": "stream",
     "text": [
      "161:\tlearn: 0.5555347\ttotal: 5.99s\tremaining: 31s\n",
      "162:\tlearn: 0.5555080\ttotal: 6.03s\tremaining: 30.9s\n",
      "163:\tlearn: 0.5554653\ttotal: 6.07s\tremaining: 30.9s\n",
      "164:\tlearn: 0.5554249\ttotal: 6.1s\tremaining: 30.9s\n",
      "165:\tlearn: 0.5553833\ttotal: 6.14s\tremaining: 30.8s\n",
      "166:\tlearn: 0.5553578\ttotal: 6.18s\tremaining: 30.8s\n",
      "167:\tlearn: 0.5553351\ttotal: 6.22s\tremaining: 30.8s\n",
      "168:\tlearn: 0.5552925\ttotal: 6.26s\tremaining: 30.8s\n",
      "169:\tlearn: 0.5552521\ttotal: 6.3s\tremaining: 30.8s\n",
      "170:\tlearn: 0.5552105\ttotal: 6.35s\tremaining: 30.8s\n",
      "171:\tlearn: 0.5551659\ttotal: 6.38s\tremaining: 30.7s\n",
      "172:\tlearn: 0.5551375\ttotal: 6.42s\tremaining: 30.7s\n",
      "173:\tlearn: 0.5550537\ttotal: 6.46s\tremaining: 30.7s\n",
      "174:\tlearn: 0.5550107\ttotal: 6.5s\tremaining: 30.7s\n",
      "175:\tlearn: 0.5549619\ttotal: 6.55s\tremaining: 30.7s\n",
      "176:\tlearn: 0.5548874\ttotal: 6.58s\tremaining: 30.6s\n",
      "177:\tlearn: 0.5548401\ttotal: 6.62s\tremaining: 30.6s\n",
      "178:\tlearn: 0.5547751\ttotal: 6.66s\tremaining: 30.5s\n",
      "179:\tlearn: 0.5547011\ttotal: 6.69s\tremaining: 30.5s\n",
      "180:\tlearn: 0.5546496\ttotal: 6.73s\tremaining: 30.4s\n",
      "181:\tlearn: 0.5546208\ttotal: 6.77s\tremaining: 30.4s\n",
      "182:\tlearn: 0.5545730\ttotal: 6.8s\tremaining: 30.4s\n",
      "183:\tlearn: 0.5545259\ttotal: 6.85s\tremaining: 30.4s\n",
      "184:\tlearn: 0.5544754\ttotal: 6.88s\tremaining: 30.3s\n",
      "185:\tlearn: 0.5544130\ttotal: 6.92s\tremaining: 30.3s\n",
      "186:\tlearn: 0.5543563\ttotal: 6.96s\tremaining: 30.3s\n",
      "187:\tlearn: 0.5543214\ttotal: 6.99s\tremaining: 30.2s\n",
      "188:\tlearn: 0.5542647\ttotal: 7.04s\tremaining: 30.2s\n",
      "189:\tlearn: 0.5542336\ttotal: 7.08s\tremaining: 30.2s\n",
      "190:\tlearn: 0.5541674\ttotal: 7.12s\tremaining: 30.2s\n",
      "191:\tlearn: 0.5541250\ttotal: 7.16s\tremaining: 30.1s\n",
      "192:\tlearn: 0.5540887\ttotal: 7.2s\tremaining: 30.1s\n",
      "193:\tlearn: 0.5540466\ttotal: 7.23s\tremaining: 30.1s\n",
      "194:\tlearn: 0.5540110\ttotal: 7.26s\tremaining: 30s\n",
      "195:\tlearn: 0.5539735\ttotal: 7.3s\tremaining: 29.9s\n",
      "196:\tlearn: 0.5539411\ttotal: 7.33s\tremaining: 29.9s\n",
      "197:\tlearn: 0.5539160\ttotal: 7.38s\tremaining: 29.9s\n",
      "198:\tlearn: 0.5538882\ttotal: 7.41s\tremaining: 29.8s\n",
      "199:\tlearn: 0.5538483\ttotal: 7.45s\tremaining: 29.8s\n",
      "200:\tlearn: 0.5537931\ttotal: 7.48s\tremaining: 29.7s\n",
      "201:\tlearn: 0.5537581\ttotal: 7.51s\tremaining: 29.7s\n",
      "202:\tlearn: 0.5537177\ttotal: 7.55s\tremaining: 29.7s\n",
      "203:\tlearn: 0.5536694\ttotal: 7.6s\tremaining: 29.6s\n",
      "204:\tlearn: 0.5536305\ttotal: 7.63s\tremaining: 29.6s\n",
      "205:\tlearn: 0.5535994\ttotal: 7.67s\tremaining: 29.6s\n",
      "206:\tlearn: 0.5535682\ttotal: 7.71s\tremaining: 29.5s\n",
      "207:\tlearn: 0.5535032\ttotal: 7.74s\tremaining: 29.5s\n",
      "208:\tlearn: 0.5534722\ttotal: 7.78s\tremaining: 29.4s\n",
      "209:\tlearn: 0.5534352\ttotal: 7.82s\tremaining: 29.4s\n",
      "210:\tlearn: 0.5534092\ttotal: 7.86s\tremaining: 29.4s\n",
      "211:\tlearn: 0.5533728\ttotal: 7.89s\tremaining: 29.3s\n",
      "212:\tlearn: 0.5533426\ttotal: 7.92s\tremaining: 29.3s\n",
      "213:\tlearn: 0.5533080\ttotal: 7.97s\tremaining: 29.3s\n",
      "214:\tlearn: 0.5532557\ttotal: 8.01s\tremaining: 29.2s\n",
      "215:\tlearn: 0.5532129\ttotal: 8.04s\tremaining: 29.2s\n",
      "216:\tlearn: 0.5531443\ttotal: 8.07s\tremaining: 29.1s\n",
      "217:\tlearn: 0.5530744\ttotal: 8.11s\tremaining: 29.1s\n",
      "218:\tlearn: 0.5530512\ttotal: 8.14s\tremaining: 29s\n",
      "219:\tlearn: 0.5530269\ttotal: 8.19s\tremaining: 29s\n",
      "220:\tlearn: 0.5529944\ttotal: 8.22s\tremaining: 29s\n",
      "221:\tlearn: 0.5529748\ttotal: 8.27s\tremaining: 29s\n",
      "222:\tlearn: 0.5529375\ttotal: 8.31s\tremaining: 29s\n",
      "223:\tlearn: 0.5528920\ttotal: 8.34s\tremaining: 28.9s\n",
      "224:\tlearn: 0.5528416\ttotal: 8.38s\tremaining: 28.9s\n",
      "225:\tlearn: 0.5528154\ttotal: 8.42s\tremaining: 28.8s\n",
      "226:\tlearn: 0.5527903\ttotal: 8.46s\tremaining: 28.8s\n",
      "227:\tlearn: 0.5527629\ttotal: 8.51s\tremaining: 28.8s\n",
      "228:\tlearn: 0.5527138\ttotal: 8.55s\tremaining: 28.8s\n",
      "229:\tlearn: 0.5526631\ttotal: 8.58s\tremaining: 28.7s\n",
      "230:\tlearn: 0.5526434\ttotal: 8.62s\tremaining: 28.7s\n",
      "231:\tlearn: 0.5525748\ttotal: 8.66s\tremaining: 28.7s\n",
      "232:\tlearn: 0.5525427\ttotal: 8.7s\tremaining: 28.7s\n",
      "233:\tlearn: 0.5525227\ttotal: 8.74s\tremaining: 28.6s\n",
      "234:\tlearn: 0.5524917\ttotal: 8.78s\tremaining: 28.6s\n",
      "235:\tlearn: 0.5524652\ttotal: 8.82s\tremaining: 28.6s\n",
      "236:\tlearn: 0.5524324\ttotal: 8.85s\tremaining: 28.5s\n",
      "237:\tlearn: 0.5523962\ttotal: 8.89s\tremaining: 28.5s\n",
      "238:\tlearn: 0.5523721\ttotal: 8.93s\tremaining: 28.4s\n",
      "239:\tlearn: 0.5523024\ttotal: 8.96s\tremaining: 28.4s\n",
      "240:\tlearn: 0.5522888\ttotal: 8.99s\tremaining: 28.3s\n",
      "241:\tlearn: 0.5522637\ttotal: 9.04s\tremaining: 28.3s\n",
      "242:\tlearn: 0.5522197\ttotal: 9.07s\tremaining: 28.2s\n",
      "243:\tlearn: 0.5521764\ttotal: 9.1s\tremaining: 28.2s\n",
      "244:\tlearn: 0.5521596\ttotal: 9.14s\tremaining: 28.2s\n",
      "245:\tlearn: 0.5521276\ttotal: 9.17s\tremaining: 28.1s\n",
      "246:\tlearn: 0.5521066\ttotal: 9.21s\tremaining: 28.1s\n",
      "247:\tlearn: 0.5520939\ttotal: 9.24s\tremaining: 28s\n",
      "248:\tlearn: 0.5520615\ttotal: 9.28s\tremaining: 28s\n",
      "249:\tlearn: 0.5520341\ttotal: 9.32s\tremaining: 28s\n",
      "250:\tlearn: 0.5520189\ttotal: 9.36s\tremaining: 27.9s\n",
      "251:\tlearn: 0.5519912\ttotal: 9.39s\tremaining: 27.9s\n",
      "252:\tlearn: 0.5519544\ttotal: 9.43s\tremaining: 27.8s\n",
      "253:\tlearn: 0.5519331\ttotal: 9.47s\tremaining: 27.8s\n",
      "254:\tlearn: 0.5519072\ttotal: 9.5s\tremaining: 27.8s\n",
      "255:\tlearn: 0.5518766\ttotal: 9.53s\tremaining: 27.7s\n",
      "256:\tlearn: 0.5518419\ttotal: 9.57s\tremaining: 27.7s\n",
      "257:\tlearn: 0.5518211\ttotal: 9.61s\tremaining: 27.6s\n",
      "258:\tlearn: 0.5518071\ttotal: 9.64s\tremaining: 27.6s\n",
      "259:\tlearn: 0.5517906\ttotal: 9.67s\tremaining: 27.5s\n",
      "260:\tlearn: 0.5517732\ttotal: 9.72s\tremaining: 27.5s\n",
      "261:\tlearn: 0.5517472\ttotal: 9.75s\tremaining: 27.5s\n",
      "262:\tlearn: 0.5517181\ttotal: 9.79s\tremaining: 27.4s\n",
      "263:\tlearn: 0.5517052\ttotal: 9.82s\tremaining: 27.4s\n",
      "264:\tlearn: 0.5516802\ttotal: 9.85s\tremaining: 27.3s\n",
      "265:\tlearn: 0.5516642\ttotal: 9.89s\tremaining: 27.3s\n",
      "266:\tlearn: 0.5516364\ttotal: 9.92s\tremaining: 27.2s\n",
      "267:\tlearn: 0.5516124\ttotal: 9.96s\tremaining: 27.2s\n",
      "268:\tlearn: 0.5515906\ttotal: 9.99s\tremaining: 27.1s\n",
      "269:\tlearn: 0.5515380\ttotal: 10s\tremaining: 27.1s\n",
      "270:\tlearn: 0.5515167\ttotal: 10.1s\tremaining: 27s\n",
      "271:\tlearn: 0.5514806\ttotal: 10.1s\tremaining: 27s\n",
      "272:\tlearn: 0.5514439\ttotal: 10.1s\tremaining: 27s\n",
      "273:\tlearn: 0.5514109\ttotal: 10.2s\tremaining: 26.9s\n",
      "274:\tlearn: 0.5513924\ttotal: 10.2s\tremaining: 26.9s\n",
      "275:\tlearn: 0.5513754\ttotal: 10.2s\tremaining: 26.8s\n",
      "276:\tlearn: 0.5513577\ttotal: 10.3s\tremaining: 26.8s\n",
      "277:\tlearn: 0.5513411\ttotal: 10.3s\tremaining: 26.8s\n",
      "278:\tlearn: 0.5513242\ttotal: 10.3s\tremaining: 26.7s\n",
      "279:\tlearn: 0.5512926\ttotal: 10.4s\tremaining: 26.7s\n",
      "280:\tlearn: 0.5512801\ttotal: 10.4s\tremaining: 26.7s\n",
      "281:\tlearn: 0.5512480\ttotal: 10.5s\tremaining: 26.6s\n",
      "282:\tlearn: 0.5512174\ttotal: 10.5s\tremaining: 26.6s\n",
      "283:\tlearn: 0.5511846\ttotal: 10.5s\tremaining: 26.6s\n",
      "284:\tlearn: 0.5511672\ttotal: 10.6s\tremaining: 26.5s\n",
      "285:\tlearn: 0.5511488\ttotal: 10.6s\tremaining: 26.5s\n",
      "286:\tlearn: 0.5511310\ttotal: 10.6s\tremaining: 26.4s\n",
      "287:\tlearn: 0.5511159\ttotal: 10.7s\tremaining: 26.4s\n",
      "288:\tlearn: 0.5510998\ttotal: 10.7s\tremaining: 26.4s\n",
      "289:\tlearn: 0.5510725\ttotal: 10.8s\tremaining: 26.4s\n",
      "290:\tlearn: 0.5510484\ttotal: 10.8s\tremaining: 26.3s\n",
      "291:\tlearn: 0.5510309\ttotal: 10.8s\tremaining: 26.3s\n",
      "292:\tlearn: 0.5510064\ttotal: 10.9s\tremaining: 26.2s\n",
      "293:\tlearn: 0.5509856\ttotal: 10.9s\tremaining: 26.2s\n",
      "294:\tlearn: 0.5509677\ttotal: 11s\tremaining: 26.2s\n",
      "295:\tlearn: 0.5509400\ttotal: 11s\tremaining: 26.1s\n",
      "296:\tlearn: 0.5508994\ttotal: 11s\tremaining: 26.1s\n",
      "297:\tlearn: 0.5508744\ttotal: 11.1s\tremaining: 26s\n",
      "298:\tlearn: 0.5508650\ttotal: 11.1s\tremaining: 26s\n",
      "299:\tlearn: 0.5508383\ttotal: 11.1s\tremaining: 26s\n",
      "300:\tlearn: 0.5508181\ttotal: 11.2s\tremaining: 25.9s\n",
      "301:\tlearn: 0.5507801\ttotal: 11.2s\tremaining: 25.9s\n",
      "302:\tlearn: 0.5507509\ttotal: 11.2s\tremaining: 25.8s\n",
      "303:\tlearn: 0.5507369\ttotal: 11.3s\tremaining: 25.8s\n",
      "304:\tlearn: 0.5507213\ttotal: 11.3s\tremaining: 25.8s\n",
      "305:\tlearn: 0.5507028\ttotal: 11.3s\tremaining: 25.7s\n",
      "306:\tlearn: 0.5506855\ttotal: 11.4s\tremaining: 25.7s\n",
      "307:\tlearn: 0.5506681\ttotal: 11.4s\tremaining: 25.7s\n",
      "308:\tlearn: 0.5506469\ttotal: 11.5s\tremaining: 25.6s\n",
      "309:\tlearn: 0.5506192\ttotal: 11.5s\tremaining: 25.6s\n",
      "310:\tlearn: 0.5506010\ttotal: 11.5s\tremaining: 25.6s\n",
      "311:\tlearn: 0.5505890\ttotal: 11.6s\tremaining: 25.5s\n",
      "312:\tlearn: 0.5505786\ttotal: 11.6s\tremaining: 25.5s\n",
      "313:\tlearn: 0.5505551\ttotal: 11.7s\tremaining: 25.5s\n",
      "314:\tlearn: 0.5505428\ttotal: 11.7s\tremaining: 25.4s\n",
      "315:\tlearn: 0.5505217\ttotal: 11.7s\tremaining: 25.4s\n",
      "316:\tlearn: 0.5505039\ttotal: 11.8s\tremaining: 25.4s\n",
      "317:\tlearn: 0.5504647\ttotal: 11.8s\tremaining: 25.4s\n",
      "318:\tlearn: 0.5504509\ttotal: 11.9s\tremaining: 25.3s\n",
      "319:\tlearn: 0.5504281\ttotal: 11.9s\tremaining: 25.3s\n",
      "320:\tlearn: 0.5504078\ttotal: 11.9s\tremaining: 25.3s\n",
      "321:\tlearn: 0.5503864\ttotal: 12s\tremaining: 25.2s\n",
      "322:\tlearn: 0.5503673\ttotal: 12s\tremaining: 25.2s\n",
      "323:\tlearn: 0.5503509\ttotal: 12s\tremaining: 25.1s\n",
      "324:\tlearn: 0.5503371\ttotal: 12.1s\tremaining: 25.1s\n"
     ]
    },
    {
     "name": "stdout",
     "output_type": "stream",
     "text": [
      "325:\tlearn: 0.5503205\ttotal: 12.1s\tremaining: 25.1s\n",
      "326:\tlearn: 0.5502967\ttotal: 12.2s\tremaining: 25s\n",
      "327:\tlearn: 0.5502860\ttotal: 12.2s\tremaining: 25s\n",
      "328:\tlearn: 0.5502615\ttotal: 12.2s\tremaining: 24.9s\n",
      "329:\tlearn: 0.5502397\ttotal: 12.3s\tremaining: 24.9s\n",
      "330:\tlearn: 0.5502235\ttotal: 12.3s\tremaining: 24.9s\n",
      "331:\tlearn: 0.5501965\ttotal: 12.3s\tremaining: 24.8s\n",
      "332:\tlearn: 0.5501733\ttotal: 12.4s\tremaining: 24.8s\n",
      "333:\tlearn: 0.5501571\ttotal: 12.4s\tremaining: 24.8s\n",
      "334:\tlearn: 0.5501312\ttotal: 12.5s\tremaining: 24.7s\n",
      "335:\tlearn: 0.5501109\ttotal: 12.5s\tremaining: 24.7s\n",
      "336:\tlearn: 0.5501002\ttotal: 12.5s\tremaining: 24.7s\n",
      "337:\tlearn: 0.5500747\ttotal: 12.6s\tremaining: 24.6s\n",
      "338:\tlearn: 0.5500670\ttotal: 12.6s\tremaining: 24.6s\n",
      "339:\tlearn: 0.5500369\ttotal: 12.6s\tremaining: 24.5s\n",
      "340:\tlearn: 0.5500025\ttotal: 12.7s\tremaining: 24.5s\n",
      "341:\tlearn: 0.5499673\ttotal: 12.7s\tremaining: 24.5s\n",
      "342:\tlearn: 0.5499459\ttotal: 12.7s\tremaining: 24.4s\n",
      "343:\tlearn: 0.5499211\ttotal: 12.8s\tremaining: 24.4s\n",
      "344:\tlearn: 0.5498965\ttotal: 12.8s\tremaining: 24.3s\n",
      "345:\tlearn: 0.5498595\ttotal: 12.9s\tremaining: 24.3s\n",
      "346:\tlearn: 0.5498103\ttotal: 12.9s\tremaining: 24.3s\n",
      "347:\tlearn: 0.5497816\ttotal: 12.9s\tremaining: 24.2s\n",
      "348:\tlearn: 0.5497549\ttotal: 13s\tremaining: 24.2s\n",
      "349:\tlearn: 0.5497216\ttotal: 13s\tremaining: 24.1s\n",
      "350:\tlearn: 0.5496961\ttotal: 13s\tremaining: 24.1s\n",
      "351:\tlearn: 0.5496878\ttotal: 13.1s\tremaining: 24.1s\n",
      "352:\tlearn: 0.5496637\ttotal: 13.1s\tremaining: 24s\n",
      "353:\tlearn: 0.5496436\ttotal: 13.2s\tremaining: 24s\n",
      "354:\tlearn: 0.5496229\ttotal: 13.2s\tremaining: 24s\n",
      "355:\tlearn: 0.5496113\ttotal: 13.2s\tremaining: 23.9s\n",
      "356:\tlearn: 0.5495826\ttotal: 13.3s\tremaining: 23.9s\n",
      "357:\tlearn: 0.5495453\ttotal: 13.3s\tremaining: 23.9s\n",
      "358:\tlearn: 0.5495168\ttotal: 13.3s\tremaining: 23.8s\n",
      "359:\tlearn: 0.5494998\ttotal: 13.4s\tremaining: 23.8s\n",
      "360:\tlearn: 0.5494856\ttotal: 13.4s\tremaining: 23.7s\n",
      "361:\tlearn: 0.5494642\ttotal: 13.4s\tremaining: 23.7s\n",
      "362:\tlearn: 0.5494123\ttotal: 13.5s\tremaining: 23.7s\n",
      "363:\tlearn: 0.5493762\ttotal: 13.5s\tremaining: 23.6s\n",
      "364:\tlearn: 0.5493576\ttotal: 13.6s\tremaining: 23.6s\n",
      "365:\tlearn: 0.5493414\ttotal: 13.6s\tremaining: 23.6s\n",
      "366:\tlearn: 0.5493137\ttotal: 13.6s\tremaining: 23.5s\n",
      "367:\tlearn: 0.5492990\ttotal: 13.7s\tremaining: 23.5s\n",
      "368:\tlearn: 0.5492760\ttotal: 13.7s\tremaining: 23.4s\n",
      "369:\tlearn: 0.5492546\ttotal: 13.7s\tremaining: 23.4s\n",
      "370:\tlearn: 0.5492420\ttotal: 13.8s\tremaining: 23.4s\n",
      "371:\tlearn: 0.5492137\ttotal: 13.8s\tremaining: 23.3s\n",
      "372:\tlearn: 0.5491915\ttotal: 13.9s\tremaining: 23.3s\n",
      "373:\tlearn: 0.5491752\ttotal: 13.9s\tremaining: 23.3s\n",
      "374:\tlearn: 0.5491581\ttotal: 13.9s\tremaining: 23.2s\n",
      "375:\tlearn: 0.5491248\ttotal: 14s\tremaining: 23.2s\n",
      "376:\tlearn: 0.5491015\ttotal: 14s\tremaining: 23.1s\n",
      "377:\tlearn: 0.5490723\ttotal: 14s\tremaining: 23.1s\n",
      "378:\tlearn: 0.5490556\ttotal: 14.1s\tremaining: 23.1s\n",
      "379:\tlearn: 0.5490476\ttotal: 14.1s\tremaining: 23s\n",
      "380:\tlearn: 0.5490317\ttotal: 14.1s\tremaining: 23s\n",
      "381:\tlearn: 0.5490224\ttotal: 14.2s\tremaining: 22.9s\n",
      "382:\tlearn: 0.5489890\ttotal: 14.2s\tremaining: 22.9s\n",
      "383:\tlearn: 0.5489644\ttotal: 14.3s\tremaining: 22.9s\n",
      "384:\tlearn: 0.5489450\ttotal: 14.3s\tremaining: 22.8s\n",
      "385:\tlearn: 0.5489317\ttotal: 14.3s\tremaining: 22.8s\n",
      "386:\tlearn: 0.5488972\ttotal: 14.4s\tremaining: 22.8s\n",
      "387:\tlearn: 0.5488826\ttotal: 14.4s\tremaining: 22.7s\n",
      "388:\tlearn: 0.5488785\ttotal: 14.4s\tremaining: 22.7s\n",
      "389:\tlearn: 0.5488690\ttotal: 14.5s\tremaining: 22.6s\n",
      "390:\tlearn: 0.5488539\ttotal: 14.5s\tremaining: 22.6s\n",
      "391:\tlearn: 0.5488224\ttotal: 14.5s\tremaining: 22.6s\n",
      "392:\tlearn: 0.5488043\ttotal: 14.6s\tremaining: 22.5s\n",
      "393:\tlearn: 0.5487849\ttotal: 14.6s\tremaining: 22.5s\n",
      "394:\tlearn: 0.5487556\ttotal: 14.7s\tremaining: 22.4s\n",
      "395:\tlearn: 0.5487258\ttotal: 14.7s\tremaining: 22.4s\n",
      "396:\tlearn: 0.5487137\ttotal: 14.7s\tremaining: 22.4s\n",
      "397:\tlearn: 0.5486913\ttotal: 14.8s\tremaining: 22.3s\n",
      "398:\tlearn: 0.5486612\ttotal: 14.8s\tremaining: 22.3s\n",
      "399:\tlearn: 0.5486353\ttotal: 14.8s\tremaining: 22.3s\n",
      "400:\tlearn: 0.5486232\ttotal: 14.9s\tremaining: 22.2s\n",
      "401:\tlearn: 0.5485946\ttotal: 14.9s\tremaining: 22.2s\n",
      "402:\tlearn: 0.5485728\ttotal: 15s\tremaining: 22.2s\n",
      "403:\tlearn: 0.5485549\ttotal: 15s\tremaining: 22.1s\n",
      "404:\tlearn: 0.5485378\ttotal: 15s\tremaining: 22.1s\n",
      "405:\tlearn: 0.5485179\ttotal: 15.1s\tremaining: 22.1s\n",
      "406:\tlearn: 0.5484965\ttotal: 15.1s\tremaining: 22s\n",
      "407:\tlearn: 0.5484655\ttotal: 15.1s\tremaining: 22s\n",
      "408:\tlearn: 0.5484438\ttotal: 15.2s\tremaining: 21.9s\n",
      "409:\tlearn: 0.5484251\ttotal: 15.2s\tremaining: 21.9s\n",
      "410:\tlearn: 0.5484115\ttotal: 15.3s\tremaining: 21.9s\n",
      "411:\tlearn: 0.5483843\ttotal: 15.3s\tremaining: 21.8s\n",
      "412:\tlearn: 0.5483629\ttotal: 15.3s\tremaining: 21.8s\n",
      "413:\tlearn: 0.5483409\ttotal: 15.4s\tremaining: 21.7s\n",
      "414:\tlearn: 0.5483322\ttotal: 15.4s\tremaining: 21.7s\n",
      "415:\tlearn: 0.5483147\ttotal: 15.4s\tremaining: 21.7s\n",
      "416:\tlearn: 0.5483093\ttotal: 15.5s\tremaining: 21.6s\n",
      "417:\tlearn: 0.5482911\ttotal: 15.5s\tremaining: 21.6s\n",
      "418:\tlearn: 0.5482681\ttotal: 15.6s\tremaining: 21.6s\n",
      "419:\tlearn: 0.5482414\ttotal: 15.6s\tremaining: 21.5s\n",
      "420:\tlearn: 0.5482352\ttotal: 15.6s\tremaining: 21.5s\n",
      "421:\tlearn: 0.5482214\ttotal: 15.7s\tremaining: 21.5s\n",
      "422:\tlearn: 0.5482105\ttotal: 15.7s\tremaining: 21.4s\n",
      "423:\tlearn: 0.5481966\ttotal: 15.8s\tremaining: 21.4s\n",
      "424:\tlearn: 0.5481788\ttotal: 15.8s\tremaining: 21.4s\n",
      "425:\tlearn: 0.5481542\ttotal: 15.8s\tremaining: 21.3s\n",
      "426:\tlearn: 0.5481333\ttotal: 15.9s\tremaining: 21.3s\n",
      "427:\tlearn: 0.5481180\ttotal: 15.9s\tremaining: 21.3s\n",
      "428:\tlearn: 0.5481033\ttotal: 16s\tremaining: 21.2s\n",
      "429:\tlearn: 0.5480873\ttotal: 16s\tremaining: 21.2s\n",
      "430:\tlearn: 0.5480622\ttotal: 16s\tremaining: 21.2s\n",
      "431:\tlearn: 0.5480485\ttotal: 16.1s\tremaining: 21.1s\n",
      "432:\tlearn: 0.5479939\ttotal: 16.1s\tremaining: 21.1s\n",
      "433:\tlearn: 0.5479754\ttotal: 16.2s\tremaining: 21.1s\n",
      "434:\tlearn: 0.5479350\ttotal: 16.2s\tremaining: 21s\n",
      "435:\tlearn: 0.5478849\ttotal: 16.2s\tremaining: 21s\n",
      "436:\tlearn: 0.5478639\ttotal: 16.3s\tremaining: 21s\n",
      "437:\tlearn: 0.5478400\ttotal: 16.3s\tremaining: 20.9s\n",
      "438:\tlearn: 0.5478214\ttotal: 16.3s\tremaining: 20.9s\n",
      "439:\tlearn: 0.5478027\ttotal: 16.4s\tremaining: 20.9s\n",
      "440:\tlearn: 0.5477862\ttotal: 16.4s\tremaining: 20.8s\n",
      "441:\tlearn: 0.5477657\ttotal: 16.5s\tremaining: 20.8s\n",
      "442:\tlearn: 0.5477514\ttotal: 16.5s\tremaining: 20.8s\n",
      "443:\tlearn: 0.5477389\ttotal: 16.5s\tremaining: 20.7s\n",
      "444:\tlearn: 0.5477240\ttotal: 16.6s\tremaining: 20.7s\n",
      "445:\tlearn: 0.5477086\ttotal: 16.6s\tremaining: 20.6s\n",
      "446:\tlearn: 0.5476938\ttotal: 16.7s\tremaining: 20.6s\n",
      "447:\tlearn: 0.5476705\ttotal: 16.7s\tremaining: 20.6s\n",
      "448:\tlearn: 0.5476570\ttotal: 16.7s\tremaining: 20.5s\n",
      "449:\tlearn: 0.5476397\ttotal: 16.8s\tremaining: 20.5s\n",
      "450:\tlearn: 0.5476233\ttotal: 16.8s\tremaining: 20.5s\n",
      "451:\tlearn: 0.5476124\ttotal: 16.8s\tremaining: 20.4s\n",
      "452:\tlearn: 0.5475940\ttotal: 16.9s\tremaining: 20.4s\n",
      "453:\tlearn: 0.5475699\ttotal: 16.9s\tremaining: 20.3s\n",
      "454:\tlearn: 0.5475377\ttotal: 16.9s\tremaining: 20.3s\n",
      "455:\tlearn: 0.5475234\ttotal: 17s\tremaining: 20.3s\n",
      "456:\tlearn: 0.5475095\ttotal: 17s\tremaining: 20.2s\n",
      "457:\tlearn: 0.5474912\ttotal: 17.1s\tremaining: 20.2s\n",
      "458:\tlearn: 0.5474677\ttotal: 17.1s\tremaining: 20.2s\n",
      "459:\tlearn: 0.5474598\ttotal: 17.1s\tremaining: 20.1s\n",
      "460:\tlearn: 0.5474494\ttotal: 17.2s\tremaining: 20.1s\n",
      "461:\tlearn: 0.5474345\ttotal: 17.2s\tremaining: 20.1s\n",
      "462:\tlearn: 0.5474135\ttotal: 17.3s\tremaining: 20s\n",
      "463:\tlearn: 0.5473941\ttotal: 17.3s\tremaining: 20s\n",
      "464:\tlearn: 0.5473608\ttotal: 17.3s\tremaining: 19.9s\n",
      "465:\tlearn: 0.5473495\ttotal: 17.4s\tremaining: 19.9s\n",
      "466:\tlearn: 0.5473354\ttotal: 17.4s\tremaining: 19.9s\n",
      "467:\tlearn: 0.5473016\ttotal: 17.4s\tremaining: 19.8s\n",
      "468:\tlearn: 0.5472888\ttotal: 17.5s\tremaining: 19.8s\n",
      "469:\tlearn: 0.5472717\ttotal: 17.5s\tremaining: 19.8s\n",
      "470:\tlearn: 0.5472567\ttotal: 17.6s\tremaining: 19.7s\n",
      "471:\tlearn: 0.5472454\ttotal: 17.6s\tremaining: 19.7s\n",
      "472:\tlearn: 0.5472163\ttotal: 17.6s\tremaining: 19.6s\n",
      "473:\tlearn: 0.5471959\ttotal: 17.7s\tremaining: 19.6s\n",
      "474:\tlearn: 0.5471919\ttotal: 17.7s\tremaining: 19.6s\n",
      "475:\tlearn: 0.5471678\ttotal: 17.7s\tremaining: 19.5s\n",
      "476:\tlearn: 0.5471551\ttotal: 17.8s\tremaining: 19.5s\n",
      "477:\tlearn: 0.5471403\ttotal: 17.8s\tremaining: 19.5s\n",
      "478:\tlearn: 0.5471327\ttotal: 17.9s\tremaining: 19.4s\n",
      "479:\tlearn: 0.5471244\ttotal: 17.9s\tremaining: 19.4s\n",
      "480:\tlearn: 0.5470975\ttotal: 17.9s\tremaining: 19.4s\n",
      "481:\tlearn: 0.5470870\ttotal: 18s\tremaining: 19.3s\n",
      "482:\tlearn: 0.5470707\ttotal: 18s\tremaining: 19.3s\n",
      "483:\tlearn: 0.5470445\ttotal: 18s\tremaining: 19.2s\n",
      "484:\tlearn: 0.5470337\ttotal: 18.1s\tremaining: 19.2s\n",
      "485:\tlearn: 0.5470044\ttotal: 18.1s\tremaining: 19.2s\n"
     ]
    },
    {
     "name": "stdout",
     "output_type": "stream",
     "text": [
      "486:\tlearn: 0.5469928\ttotal: 18.2s\tremaining: 19.1s\n",
      "487:\tlearn: 0.5469725\ttotal: 18.2s\tremaining: 19.1s\n",
      "488:\tlearn: 0.5469477\ttotal: 18.2s\tremaining: 19.1s\n",
      "489:\tlearn: 0.5469328\ttotal: 18.3s\tremaining: 19s\n",
      "490:\tlearn: 0.5469174\ttotal: 18.3s\tremaining: 19s\n",
      "491:\tlearn: 0.5469082\ttotal: 18.3s\tremaining: 18.9s\n",
      "492:\tlearn: 0.5469011\ttotal: 18.4s\tremaining: 18.9s\n",
      "493:\tlearn: 0.5468917\ttotal: 18.4s\tremaining: 18.9s\n",
      "494:\tlearn: 0.5468779\ttotal: 18.5s\tremaining: 18.8s\n",
      "495:\tlearn: 0.5468656\ttotal: 18.5s\tremaining: 18.8s\n",
      "496:\tlearn: 0.5468627\ttotal: 18.5s\tremaining: 18.7s\n",
      "497:\tlearn: 0.5468494\ttotal: 18.6s\tremaining: 18.7s\n",
      "498:\tlearn: 0.5468390\ttotal: 18.6s\tremaining: 18.7s\n",
      "499:\tlearn: 0.5468120\ttotal: 18.6s\tremaining: 18.6s\n",
      "500:\tlearn: 0.5467904\ttotal: 18.7s\tremaining: 18.6s\n",
      "501:\tlearn: 0.5467682\ttotal: 18.7s\tremaining: 18.6s\n",
      "502:\tlearn: 0.5467574\ttotal: 18.8s\tremaining: 18.5s\n",
      "503:\tlearn: 0.5467461\ttotal: 18.8s\tremaining: 18.5s\n",
      "504:\tlearn: 0.5467228\ttotal: 18.8s\tremaining: 18.5s\n",
      "505:\tlearn: 0.5467166\ttotal: 18.9s\tremaining: 18.4s\n",
      "506:\tlearn: 0.5466939\ttotal: 18.9s\tremaining: 18.4s\n",
      "507:\tlearn: 0.5466784\ttotal: 18.9s\tremaining: 18.3s\n",
      "508:\tlearn: 0.5466563\ttotal: 19s\tremaining: 18.3s\n",
      "509:\tlearn: 0.5466171\ttotal: 19s\tremaining: 18.3s\n",
      "510:\tlearn: 0.5466039\ttotal: 19.1s\tremaining: 18.2s\n",
      "511:\tlearn: 0.5465800\ttotal: 19.1s\tremaining: 18.2s\n",
      "512:\tlearn: 0.5465680\ttotal: 19.1s\tremaining: 18.2s\n",
      "513:\tlearn: 0.5465404\ttotal: 19.2s\tremaining: 18.1s\n",
      "514:\tlearn: 0.5465217\ttotal: 19.2s\tremaining: 18.1s\n",
      "515:\tlearn: 0.5465030\ttotal: 19.2s\tremaining: 18s\n",
      "516:\tlearn: 0.5464829\ttotal: 19.3s\tremaining: 18s\n",
      "517:\tlearn: 0.5464713\ttotal: 19.3s\tremaining: 18s\n",
      "518:\tlearn: 0.5464586\ttotal: 19.3s\tremaining: 17.9s\n",
      "519:\tlearn: 0.5464399\ttotal: 19.4s\tremaining: 17.9s\n",
      "520:\tlearn: 0.5464300\ttotal: 19.4s\tremaining: 17.9s\n",
      "521:\tlearn: 0.5464216\ttotal: 19.5s\tremaining: 17.8s\n",
      "522:\tlearn: 0.5464090\ttotal: 19.5s\tremaining: 17.8s\n",
      "523:\tlearn: 0.5463852\ttotal: 19.5s\tremaining: 17.7s\n",
      "524:\tlearn: 0.5463643\ttotal: 19.6s\tremaining: 17.7s\n",
      "525:\tlearn: 0.5463515\ttotal: 19.6s\tremaining: 17.7s\n",
      "526:\tlearn: 0.5463099\ttotal: 19.6s\tremaining: 17.6s\n",
      "527:\tlearn: 0.5462877\ttotal: 19.7s\tremaining: 17.6s\n",
      "528:\tlearn: 0.5462695\ttotal: 19.7s\tremaining: 17.5s\n",
      "529:\tlearn: 0.5462588\ttotal: 19.7s\tremaining: 17.5s\n",
      "530:\tlearn: 0.5462277\ttotal: 19.8s\tremaining: 17.5s\n",
      "531:\tlearn: 0.5462106\ttotal: 19.8s\tremaining: 17.4s\n",
      "532:\tlearn: 0.5461871\ttotal: 19.8s\tremaining: 17.4s\n",
      "533:\tlearn: 0.5461754\ttotal: 19.9s\tremaining: 17.3s\n",
      "534:\tlearn: 0.5461629\ttotal: 19.9s\tremaining: 17.3s\n",
      "535:\tlearn: 0.5461530\ttotal: 19.9s\tremaining: 17.3s\n",
      "536:\tlearn: 0.5461371\ttotal: 20s\tremaining: 17.2s\n",
      "537:\tlearn: 0.5461214\ttotal: 20s\tremaining: 17.2s\n",
      "538:\tlearn: 0.5461104\ttotal: 20.1s\tremaining: 17.2s\n",
      "539:\tlearn: 0.5460981\ttotal: 20.1s\tremaining: 17.1s\n",
      "540:\tlearn: 0.5460781\ttotal: 20.2s\tremaining: 17.1s\n",
      "541:\tlearn: 0.5460624\ttotal: 20.2s\tremaining: 17.1s\n",
      "542:\tlearn: 0.5460463\ttotal: 20.2s\tremaining: 17s\n",
      "543:\tlearn: 0.5460339\ttotal: 20.3s\tremaining: 17s\n",
      "544:\tlearn: 0.5460081\ttotal: 20.3s\tremaining: 17s\n",
      "545:\tlearn: 0.5459974\ttotal: 20.3s\tremaining: 16.9s\n",
      "546:\tlearn: 0.5459685\ttotal: 20.4s\tremaining: 16.9s\n",
      "547:\tlearn: 0.5459369\ttotal: 20.4s\tremaining: 16.8s\n",
      "548:\tlearn: 0.5459213\ttotal: 20.5s\tremaining: 16.8s\n",
      "549:\tlearn: 0.5459076\ttotal: 20.5s\tremaining: 16.8s\n",
      "550:\tlearn: 0.5458902\ttotal: 20.5s\tremaining: 16.7s\n",
      "551:\tlearn: 0.5458636\ttotal: 20.6s\tremaining: 16.7s\n",
      "552:\tlearn: 0.5458485\ttotal: 20.6s\tremaining: 16.7s\n",
      "553:\tlearn: 0.5458376\ttotal: 20.6s\tremaining: 16.6s\n",
      "554:\tlearn: 0.5458263\ttotal: 20.7s\tremaining: 16.6s\n",
      "555:\tlearn: 0.5458008\ttotal: 20.7s\tremaining: 16.6s\n",
      "556:\tlearn: 0.5457967\ttotal: 20.8s\tremaining: 16.5s\n",
      "557:\tlearn: 0.5457830\ttotal: 20.8s\tremaining: 16.5s\n",
      "558:\tlearn: 0.5457649\ttotal: 20.8s\tremaining: 16.4s\n",
      "559:\tlearn: 0.5457451\ttotal: 20.9s\tremaining: 16.4s\n",
      "560:\tlearn: 0.5457223\ttotal: 20.9s\tremaining: 16.4s\n",
      "561:\tlearn: 0.5457064\ttotal: 21s\tremaining: 16.3s\n",
      "562:\tlearn: 0.5456939\ttotal: 21s\tremaining: 16.3s\n",
      "563:\tlearn: 0.5456789\ttotal: 21s\tremaining: 16.3s\n",
      "564:\tlearn: 0.5456694\ttotal: 21.1s\tremaining: 16.2s\n",
      "565:\tlearn: 0.5456473\ttotal: 21.1s\tremaining: 16.2s\n",
      "566:\tlearn: 0.5456346\ttotal: 21.1s\tremaining: 16.1s\n",
      "567:\tlearn: 0.5456164\ttotal: 21.2s\tremaining: 16.1s\n",
      "568:\tlearn: 0.5456068\ttotal: 21.2s\tremaining: 16.1s\n",
      "569:\tlearn: 0.5455966\ttotal: 21.2s\tremaining: 16s\n",
      "570:\tlearn: 0.5455803\ttotal: 21.3s\tremaining: 16s\n",
      "571:\tlearn: 0.5455655\ttotal: 21.3s\tremaining: 16s\n",
      "572:\tlearn: 0.5455475\ttotal: 21.4s\tremaining: 15.9s\n",
      "573:\tlearn: 0.5455408\ttotal: 21.4s\tremaining: 15.9s\n",
      "574:\tlearn: 0.5455313\ttotal: 21.4s\tremaining: 15.8s\n",
      "575:\tlearn: 0.5455077\ttotal: 21.5s\tremaining: 15.8s\n",
      "576:\tlearn: 0.5454904\ttotal: 21.5s\tremaining: 15.8s\n",
      "577:\tlearn: 0.5454737\ttotal: 21.5s\tremaining: 15.7s\n",
      "578:\tlearn: 0.5454633\ttotal: 21.6s\tremaining: 15.7s\n",
      "579:\tlearn: 0.5454541\ttotal: 21.6s\tremaining: 15.7s\n",
      "580:\tlearn: 0.5454402\ttotal: 21.7s\tremaining: 15.6s\n",
      "581:\tlearn: 0.5454238\ttotal: 21.7s\tremaining: 15.6s\n",
      "582:\tlearn: 0.5454150\ttotal: 21.7s\tremaining: 15.5s\n",
      "583:\tlearn: 0.5454012\ttotal: 21.8s\tremaining: 15.5s\n",
      "584:\tlearn: 0.5453894\ttotal: 21.8s\tremaining: 15.5s\n",
      "585:\tlearn: 0.5453553\ttotal: 21.9s\tremaining: 15.4s\n",
      "586:\tlearn: 0.5453460\ttotal: 21.9s\tremaining: 15.4s\n",
      "587:\tlearn: 0.5453363\ttotal: 21.9s\tremaining: 15.4s\n",
      "588:\tlearn: 0.5453233\ttotal: 22s\tremaining: 15.3s\n",
      "589:\tlearn: 0.5453060\ttotal: 22s\tremaining: 15.3s\n",
      "590:\tlearn: 0.5452950\ttotal: 22.1s\tremaining: 15.3s\n",
      "591:\tlearn: 0.5452828\ttotal: 22.1s\tremaining: 15.2s\n",
      "592:\tlearn: 0.5452651\ttotal: 22.2s\tremaining: 15.2s\n",
      "593:\tlearn: 0.5452464\ttotal: 22.2s\tremaining: 15.2s\n",
      "594:\tlearn: 0.5452351\ttotal: 22.2s\tremaining: 15.1s\n",
      "595:\tlearn: 0.5452262\ttotal: 22.3s\tremaining: 15.1s\n",
      "596:\tlearn: 0.5452042\ttotal: 22.3s\tremaining: 15.1s\n",
      "597:\tlearn: 0.5451924\ttotal: 22.3s\tremaining: 15s\n",
      "598:\tlearn: 0.5451805\ttotal: 22.4s\tremaining: 15s\n",
      "599:\tlearn: 0.5451691\ttotal: 22.4s\tremaining: 14.9s\n",
      "600:\tlearn: 0.5451280\ttotal: 22.5s\tremaining: 14.9s\n",
      "601:\tlearn: 0.5451066\ttotal: 22.5s\tremaining: 14.9s\n",
      "602:\tlearn: 0.5450875\ttotal: 22.5s\tremaining: 14.8s\n",
      "603:\tlearn: 0.5450683\ttotal: 22.6s\tremaining: 14.8s\n",
      "604:\tlearn: 0.5450516\ttotal: 22.6s\tremaining: 14.8s\n",
      "605:\tlearn: 0.5450373\ttotal: 22.7s\tremaining: 14.7s\n",
      "606:\tlearn: 0.5450141\ttotal: 22.7s\tremaining: 14.7s\n",
      "607:\tlearn: 0.5450001\ttotal: 22.7s\tremaining: 14.7s\n",
      "608:\tlearn: 0.5449898\ttotal: 22.8s\tremaining: 14.6s\n",
      "609:\tlearn: 0.5449620\ttotal: 22.8s\tremaining: 14.6s\n",
      "610:\tlearn: 0.5449544\ttotal: 22.8s\tremaining: 14.5s\n",
      "611:\tlearn: 0.5449408\ttotal: 22.9s\tremaining: 14.5s\n",
      "612:\tlearn: 0.5449250\ttotal: 22.9s\tremaining: 14.5s\n",
      "613:\tlearn: 0.5449108\ttotal: 22.9s\tremaining: 14.4s\n",
      "614:\tlearn: 0.5449024\ttotal: 23s\tremaining: 14.4s\n",
      "615:\tlearn: 0.5448820\ttotal: 23s\tremaining: 14.4s\n",
      "616:\tlearn: 0.5448624\ttotal: 23.1s\tremaining: 14.3s\n",
      "617:\tlearn: 0.5448431\ttotal: 23.1s\tremaining: 14.3s\n",
      "618:\tlearn: 0.5448314\ttotal: 23.1s\tremaining: 14.2s\n",
      "619:\tlearn: 0.5448164\ttotal: 23.2s\tremaining: 14.2s\n",
      "620:\tlearn: 0.5448077\ttotal: 23.2s\tremaining: 14.2s\n",
      "621:\tlearn: 0.5447909\ttotal: 23.3s\tremaining: 14.1s\n",
      "622:\tlearn: 0.5447724\ttotal: 23.3s\tremaining: 14.1s\n",
      "623:\tlearn: 0.5447648\ttotal: 23.3s\tremaining: 14.1s\n",
      "624:\tlearn: 0.5447520\ttotal: 23.4s\tremaining: 14s\n",
      "625:\tlearn: 0.5447399\ttotal: 23.4s\tremaining: 14s\n",
      "626:\tlearn: 0.5447238\ttotal: 23.4s\tremaining: 13.9s\n",
      "627:\tlearn: 0.5447130\ttotal: 23.5s\tremaining: 13.9s\n",
      "628:\tlearn: 0.5447035\ttotal: 23.5s\tremaining: 13.9s\n",
      "629:\tlearn: 0.5446954\ttotal: 23.6s\tremaining: 13.8s\n",
      "630:\tlearn: 0.5446820\ttotal: 23.6s\tremaining: 13.8s\n",
      "631:\tlearn: 0.5446768\ttotal: 23.6s\tremaining: 13.8s\n",
      "632:\tlearn: 0.5446634\ttotal: 23.7s\tremaining: 13.7s\n",
      "633:\tlearn: 0.5446316\ttotal: 23.7s\tremaining: 13.7s\n",
      "634:\tlearn: 0.5446125\ttotal: 23.8s\tremaining: 13.7s\n",
      "635:\tlearn: 0.5446052\ttotal: 23.8s\tremaining: 13.6s\n",
      "636:\tlearn: 0.5445926\ttotal: 23.8s\tremaining: 13.6s\n",
      "637:\tlearn: 0.5445831\ttotal: 23.9s\tremaining: 13.5s\n",
      "638:\tlearn: 0.5445649\ttotal: 23.9s\tremaining: 13.5s\n",
      "639:\tlearn: 0.5445474\ttotal: 23.9s\tremaining: 13.5s\n",
      "640:\tlearn: 0.5445375\ttotal: 24s\tremaining: 13.4s\n",
      "641:\tlearn: 0.5445235\ttotal: 24s\tremaining: 13.4s\n",
      "642:\tlearn: 0.5445160\ttotal: 24.1s\tremaining: 13.4s\n",
      "643:\tlearn: 0.5444970\ttotal: 24.1s\tremaining: 13.3s\n",
      "644:\tlearn: 0.5444772\ttotal: 24.1s\tremaining: 13.3s\n",
      "645:\tlearn: 0.5444542\ttotal: 24.2s\tremaining: 13.2s\n"
     ]
    },
    {
     "name": "stdout",
     "output_type": "stream",
     "text": [
      "646:\tlearn: 0.5444326\ttotal: 24.2s\tremaining: 13.2s\n",
      "647:\tlearn: 0.5444199\ttotal: 24.2s\tremaining: 13.2s\n",
      "648:\tlearn: 0.5444025\ttotal: 24.3s\tremaining: 13.1s\n",
      "649:\tlearn: 0.5443744\ttotal: 24.3s\tremaining: 13.1s\n",
      "650:\tlearn: 0.5443702\ttotal: 24.4s\tremaining: 13.1s\n",
      "651:\tlearn: 0.5443518\ttotal: 24.4s\tremaining: 13s\n",
      "652:\tlearn: 0.5443340\ttotal: 24.4s\tremaining: 13s\n",
      "653:\tlearn: 0.5443194\ttotal: 24.5s\tremaining: 12.9s\n",
      "654:\tlearn: 0.5443047\ttotal: 24.5s\tremaining: 12.9s\n",
      "655:\tlearn: 0.5442796\ttotal: 24.5s\tremaining: 12.9s\n",
      "656:\tlearn: 0.5442592\ttotal: 24.6s\tremaining: 12.8s\n",
      "657:\tlearn: 0.5442296\ttotal: 24.6s\tremaining: 12.8s\n",
      "658:\tlearn: 0.5442154\ttotal: 24.7s\tremaining: 12.8s\n",
      "659:\tlearn: 0.5442063\ttotal: 24.7s\tremaining: 12.7s\n",
      "660:\tlearn: 0.5441970\ttotal: 24.7s\tremaining: 12.7s\n",
      "661:\tlearn: 0.5441866\ttotal: 24.8s\tremaining: 12.7s\n",
      "662:\tlearn: 0.5441824\ttotal: 24.8s\tremaining: 12.6s\n",
      "663:\tlearn: 0.5441748\ttotal: 24.9s\tremaining: 12.6s\n",
      "664:\tlearn: 0.5441686\ttotal: 24.9s\tremaining: 12.5s\n",
      "665:\tlearn: 0.5441513\ttotal: 24.9s\tremaining: 12.5s\n",
      "666:\tlearn: 0.5441410\ttotal: 25s\tremaining: 12.5s\n",
      "667:\tlearn: 0.5441221\ttotal: 25s\tremaining: 12.4s\n",
      "668:\tlearn: 0.5441060\ttotal: 25.1s\tremaining: 12.4s\n",
      "669:\tlearn: 0.5440921\ttotal: 25.1s\tremaining: 12.4s\n",
      "670:\tlearn: 0.5440721\ttotal: 25.1s\tremaining: 12.3s\n",
      "671:\tlearn: 0.5440544\ttotal: 25.2s\tremaining: 12.3s\n",
      "672:\tlearn: 0.5440474\ttotal: 25.2s\tremaining: 12.2s\n",
      "673:\tlearn: 0.5440284\ttotal: 25.2s\tremaining: 12.2s\n",
      "674:\tlearn: 0.5440163\ttotal: 25.3s\tremaining: 12.2s\n",
      "675:\tlearn: 0.5439981\ttotal: 25.3s\tremaining: 12.1s\n",
      "676:\tlearn: 0.5439781\ttotal: 25.4s\tremaining: 12.1s\n",
      "677:\tlearn: 0.5439626\ttotal: 25.4s\tremaining: 12.1s\n",
      "678:\tlearn: 0.5439506\ttotal: 25.4s\tremaining: 12s\n",
      "679:\tlearn: 0.5439330\ttotal: 25.5s\tremaining: 12s\n",
      "680:\tlearn: 0.5439161\ttotal: 25.5s\tremaining: 11.9s\n",
      "681:\tlearn: 0.5438952\ttotal: 25.5s\tremaining: 11.9s\n",
      "682:\tlearn: 0.5438815\ttotal: 25.6s\tremaining: 11.9s\n",
      "683:\tlearn: 0.5438720\ttotal: 25.6s\tremaining: 11.8s\n",
      "684:\tlearn: 0.5438536\ttotal: 25.6s\tremaining: 11.8s\n",
      "685:\tlearn: 0.5438400\ttotal: 25.7s\tremaining: 11.8s\n",
      "686:\tlearn: 0.5438256\ttotal: 25.7s\tremaining: 11.7s\n",
      "687:\tlearn: 0.5438176\ttotal: 25.7s\tremaining: 11.7s\n",
      "688:\tlearn: 0.5438031\ttotal: 25.8s\tremaining: 11.6s\n",
      "689:\tlearn: 0.5437865\ttotal: 25.8s\tremaining: 11.6s\n",
      "690:\tlearn: 0.5437762\ttotal: 25.9s\tremaining: 11.6s\n",
      "691:\tlearn: 0.5437578\ttotal: 25.9s\tremaining: 11.5s\n",
      "692:\tlearn: 0.5437515\ttotal: 25.9s\tremaining: 11.5s\n",
      "693:\tlearn: 0.5437415\ttotal: 26s\tremaining: 11.4s\n",
      "694:\tlearn: 0.5437292\ttotal: 26s\tremaining: 11.4s\n",
      "695:\tlearn: 0.5437176\ttotal: 26s\tremaining: 11.4s\n",
      "696:\tlearn: 0.5436950\ttotal: 26.1s\tremaining: 11.3s\n",
      "697:\tlearn: 0.5436785\ttotal: 26.1s\tremaining: 11.3s\n",
      "698:\tlearn: 0.5436708\ttotal: 26.2s\tremaining: 11.3s\n",
      "699:\tlearn: 0.5436554\ttotal: 26.2s\tremaining: 11.2s\n",
      "700:\tlearn: 0.5436453\ttotal: 26.2s\tremaining: 11.2s\n",
      "701:\tlearn: 0.5436385\ttotal: 26.3s\tremaining: 11.2s\n",
      "702:\tlearn: 0.5436337\ttotal: 26.3s\tremaining: 11.1s\n",
      "703:\tlearn: 0.5436286\ttotal: 26.4s\tremaining: 11.1s\n",
      "704:\tlearn: 0.5436164\ttotal: 26.4s\tremaining: 11s\n",
      "705:\tlearn: 0.5436012\ttotal: 26.4s\tremaining: 11s\n",
      "706:\tlearn: 0.5435873\ttotal: 26.5s\tremaining: 11s\n",
      "707:\tlearn: 0.5435748\ttotal: 26.5s\tremaining: 10.9s\n",
      "708:\tlearn: 0.5435639\ttotal: 26.5s\tremaining: 10.9s\n",
      "709:\tlearn: 0.5435408\ttotal: 26.6s\tremaining: 10.9s\n",
      "710:\tlearn: 0.5435348\ttotal: 26.6s\tremaining: 10.8s\n",
      "711:\tlearn: 0.5435182\ttotal: 26.6s\tremaining: 10.8s\n",
      "712:\tlearn: 0.5434961\ttotal: 26.7s\tremaining: 10.7s\n",
      "713:\tlearn: 0.5434809\ttotal: 26.7s\tremaining: 10.7s\n",
      "714:\tlearn: 0.5434647\ttotal: 26.8s\tremaining: 10.7s\n",
      "715:\tlearn: 0.5434498\ttotal: 26.8s\tremaining: 10.6s\n",
      "716:\tlearn: 0.5434375\ttotal: 26.8s\tremaining: 10.6s\n",
      "717:\tlearn: 0.5434140\ttotal: 26.9s\tremaining: 10.6s\n",
      "718:\tlearn: 0.5434035\ttotal: 26.9s\tremaining: 10.5s\n",
      "719:\tlearn: 0.5433902\ttotal: 26.9s\tremaining: 10.5s\n",
      "720:\tlearn: 0.5433799\ttotal: 27s\tremaining: 10.4s\n",
      "721:\tlearn: 0.5433709\ttotal: 27s\tremaining: 10.4s\n",
      "722:\tlearn: 0.5433559\ttotal: 27.1s\tremaining: 10.4s\n",
      "723:\tlearn: 0.5433424\ttotal: 27.1s\tremaining: 10.3s\n",
      "724:\tlearn: 0.5433368\ttotal: 27.1s\tremaining: 10.3s\n",
      "725:\tlearn: 0.5433239\ttotal: 27.2s\tremaining: 10.3s\n",
      "726:\tlearn: 0.5433110\ttotal: 27.2s\tremaining: 10.2s\n",
      "727:\tlearn: 0.5432996\ttotal: 27.2s\tremaining: 10.2s\n",
      "728:\tlearn: 0.5432697\ttotal: 27.3s\tremaining: 10.1s\n",
      "729:\tlearn: 0.5432550\ttotal: 27.3s\tremaining: 10.1s\n",
      "730:\tlearn: 0.5432444\ttotal: 27.4s\tremaining: 10.1s\n",
      "731:\tlearn: 0.5432217\ttotal: 27.4s\tremaining: 10s\n",
      "732:\tlearn: 0.5432132\ttotal: 27.4s\tremaining: 9.99s\n",
      "733:\tlearn: 0.5431960\ttotal: 27.5s\tremaining: 9.95s\n",
      "734:\tlearn: 0.5431893\ttotal: 27.5s\tremaining: 9.92s\n",
      "735:\tlearn: 0.5431728\ttotal: 27.5s\tremaining: 9.88s\n",
      "736:\tlearn: 0.5431570\ttotal: 27.6s\tremaining: 9.84s\n",
      "737:\tlearn: 0.5431488\ttotal: 27.6s\tremaining: 9.8s\n",
      "738:\tlearn: 0.5431255\ttotal: 27.7s\tremaining: 9.77s\n",
      "739:\tlearn: 0.5431115\ttotal: 27.7s\tremaining: 9.73s\n",
      "740:\tlearn: 0.5431019\ttotal: 27.7s\tremaining: 9.69s\n",
      "741:\tlearn: 0.5430823\ttotal: 27.8s\tremaining: 9.65s\n",
      "742:\tlearn: 0.5430629\ttotal: 27.8s\tremaining: 9.62s\n",
      "743:\tlearn: 0.5430528\ttotal: 27.8s\tremaining: 9.58s\n",
      "744:\tlearn: 0.5430399\ttotal: 27.9s\tremaining: 9.54s\n",
      "745:\tlearn: 0.5430208\ttotal: 27.9s\tremaining: 9.51s\n",
      "746:\tlearn: 0.5430024\ttotal: 28s\tremaining: 9.47s\n",
      "747:\tlearn: 0.5429922\ttotal: 28s\tremaining: 9.43s\n",
      "748:\tlearn: 0.5429854\ttotal: 28s\tremaining: 9.39s\n",
      "749:\tlearn: 0.5429711\ttotal: 28.1s\tremaining: 9.35s\n",
      "750:\tlearn: 0.5429556\ttotal: 28.1s\tremaining: 9.31s\n",
      "751:\tlearn: 0.5429438\ttotal: 28.1s\tremaining: 9.28s\n",
      "752:\tlearn: 0.5429247\ttotal: 28.2s\tremaining: 9.24s\n",
      "753:\tlearn: 0.5429166\ttotal: 28.2s\tremaining: 9.2s\n",
      "754:\tlearn: 0.5429077\ttotal: 28.2s\tremaining: 9.16s\n",
      "755:\tlearn: 0.5429026\ttotal: 28.3s\tremaining: 9.12s\n",
      "756:\tlearn: 0.5428969\ttotal: 28.3s\tremaining: 9.09s\n",
      "757:\tlearn: 0.5428846\ttotal: 28.4s\tremaining: 9.05s\n",
      "758:\tlearn: 0.5428712\ttotal: 28.4s\tremaining: 9.02s\n",
      "759:\tlearn: 0.5428445\ttotal: 28.4s\tremaining: 8.98s\n",
      "760:\tlearn: 0.5428302\ttotal: 28.5s\tremaining: 8.94s\n",
      "761:\tlearn: 0.5428188\ttotal: 28.5s\tremaining: 8.9s\n",
      "762:\tlearn: 0.5428085\ttotal: 28.5s\tremaining: 8.87s\n",
      "763:\tlearn: 0.5427937\ttotal: 28.6s\tremaining: 8.83s\n",
      "764:\tlearn: 0.5427861\ttotal: 28.6s\tremaining: 8.79s\n",
      "765:\tlearn: 0.5427737\ttotal: 28.7s\tremaining: 8.76s\n",
      "766:\tlearn: 0.5427641\ttotal: 28.7s\tremaining: 8.72s\n",
      "767:\tlearn: 0.5427555\ttotal: 28.7s\tremaining: 8.68s\n",
      "768:\tlearn: 0.5427425\ttotal: 28.8s\tremaining: 8.64s\n",
      "769:\tlearn: 0.5427295\ttotal: 28.8s\tremaining: 8.61s\n",
      "770:\tlearn: 0.5427200\ttotal: 28.9s\tremaining: 8.57s\n",
      "771:\tlearn: 0.5426999\ttotal: 28.9s\tremaining: 8.53s\n",
      "772:\tlearn: 0.5426810\ttotal: 28.9s\tremaining: 8.49s\n",
      "773:\tlearn: 0.5426629\ttotal: 29s\tremaining: 8.46s\n",
      "774:\tlearn: 0.5426517\ttotal: 29s\tremaining: 8.42s\n",
      "775:\tlearn: 0.5426344\ttotal: 29s\tremaining: 8.38s\n",
      "776:\tlearn: 0.5426218\ttotal: 29.1s\tremaining: 8.35s\n",
      "777:\tlearn: 0.5426078\ttotal: 29.1s\tremaining: 8.31s\n",
      "778:\tlearn: 0.5425946\ttotal: 29.2s\tremaining: 8.27s\n",
      "779:\tlearn: 0.5425812\ttotal: 29.2s\tremaining: 8.23s\n",
      "780:\tlearn: 0.5425663\ttotal: 29.2s\tremaining: 8.2s\n",
      "781:\tlearn: 0.5425613\ttotal: 29.3s\tremaining: 8.16s\n",
      "782:\tlearn: 0.5425570\ttotal: 29.3s\tremaining: 8.13s\n",
      "783:\tlearn: 0.5425508\ttotal: 29.4s\tremaining: 8.09s\n",
      "784:\tlearn: 0.5425355\ttotal: 29.4s\tremaining: 8.05s\n",
      "785:\tlearn: 0.5425252\ttotal: 29.4s\tremaining: 8.01s\n",
      "786:\tlearn: 0.5425207\ttotal: 29.5s\tremaining: 7.98s\n",
      "787:\tlearn: 0.5425137\ttotal: 29.5s\tremaining: 7.94s\n",
      "788:\tlearn: 0.5424992\ttotal: 29.6s\tremaining: 7.9s\n",
      "789:\tlearn: 0.5424921\ttotal: 29.6s\tremaining: 7.87s\n",
      "790:\tlearn: 0.5424799\ttotal: 29.6s\tremaining: 7.83s\n",
      "791:\tlearn: 0.5424592\ttotal: 29.7s\tremaining: 7.79s\n",
      "792:\tlearn: 0.5424508\ttotal: 29.7s\tremaining: 7.75s\n",
      "793:\tlearn: 0.5424406\ttotal: 29.7s\tremaining: 7.72s\n",
      "794:\tlearn: 0.5424279\ttotal: 29.8s\tremaining: 7.68s\n",
      "795:\tlearn: 0.5424205\ttotal: 29.8s\tremaining: 7.64s\n",
      "796:\tlearn: 0.5424043\ttotal: 29.9s\tremaining: 7.6s\n",
      "797:\tlearn: 0.5423994\ttotal: 29.9s\tremaining: 7.57s\n",
      "798:\tlearn: 0.5423860\ttotal: 29.9s\tremaining: 7.53s\n",
      "799:\tlearn: 0.5423759\ttotal: 30s\tremaining: 7.49s\n",
      "800:\tlearn: 0.5423612\ttotal: 30s\tremaining: 7.46s\n",
      "801:\tlearn: 0.5423465\ttotal: 30s\tremaining: 7.42s\n",
      "802:\tlearn: 0.5423213\ttotal: 30.1s\tremaining: 7.38s\n",
      "803:\tlearn: 0.5423081\ttotal: 30.1s\tremaining: 7.34s\n",
      "804:\tlearn: 0.5422998\ttotal: 30.1s\tremaining: 7.3s\n",
      "805:\tlearn: 0.5422881\ttotal: 30.2s\tremaining: 7.26s\n"
     ]
    },
    {
     "name": "stdout",
     "output_type": "stream",
     "text": [
      "806:\tlearn: 0.5422816\ttotal: 30.2s\tremaining: 7.23s\n",
      "807:\tlearn: 0.5422670\ttotal: 30.3s\tremaining: 7.19s\n",
      "808:\tlearn: 0.5422616\ttotal: 30.3s\tremaining: 7.15s\n",
      "809:\tlearn: 0.5422535\ttotal: 30.3s\tremaining: 7.12s\n",
      "810:\tlearn: 0.5422423\ttotal: 30.4s\tremaining: 7.08s\n",
      "811:\tlearn: 0.5422314\ttotal: 30.4s\tremaining: 7.04s\n",
      "812:\tlearn: 0.5422206\ttotal: 30.5s\tremaining: 7.01s\n",
      "813:\tlearn: 0.5422077\ttotal: 30.5s\tremaining: 6.97s\n",
      "814:\tlearn: 0.5421964\ttotal: 30.5s\tremaining: 6.93s\n",
      "815:\tlearn: 0.5421808\ttotal: 30.6s\tremaining: 6.89s\n",
      "816:\tlearn: 0.5421614\ttotal: 30.6s\tremaining: 6.86s\n",
      "817:\tlearn: 0.5421500\ttotal: 30.7s\tremaining: 6.82s\n",
      "818:\tlearn: 0.5421411\ttotal: 30.7s\tremaining: 6.78s\n",
      "819:\tlearn: 0.5421293\ttotal: 30.7s\tremaining: 6.75s\n",
      "820:\tlearn: 0.5421083\ttotal: 30.8s\tremaining: 6.71s\n",
      "821:\tlearn: 0.5420899\ttotal: 30.8s\tremaining: 6.67s\n",
      "822:\tlearn: 0.5420806\ttotal: 30.8s\tremaining: 6.63s\n",
      "823:\tlearn: 0.5420707\ttotal: 30.9s\tremaining: 6.59s\n",
      "824:\tlearn: 0.5420559\ttotal: 30.9s\tremaining: 6.56s\n",
      "825:\tlearn: 0.5420513\ttotal: 31s\tremaining: 6.52s\n",
      "826:\tlearn: 0.5420439\ttotal: 31s\tremaining: 6.48s\n",
      "827:\tlearn: 0.5420274\ttotal: 31s\tremaining: 6.45s\n",
      "828:\tlearn: 0.5420107\ttotal: 31.1s\tremaining: 6.41s\n",
      "829:\tlearn: 0.5419969\ttotal: 31.1s\tremaining: 6.37s\n",
      "830:\tlearn: 0.5419950\ttotal: 31.2s\tremaining: 6.34s\n",
      "831:\tlearn: 0.5419808\ttotal: 31.2s\tremaining: 6.3s\n",
      "832:\tlearn: 0.5419731\ttotal: 31.2s\tremaining: 6.26s\n",
      "833:\tlearn: 0.5419604\ttotal: 31.3s\tremaining: 6.22s\n",
      "834:\tlearn: 0.5419423\ttotal: 31.3s\tremaining: 6.18s\n",
      "835:\tlearn: 0.5419353\ttotal: 31.3s\tremaining: 6.15s\n",
      "836:\tlearn: 0.5419240\ttotal: 31.4s\tremaining: 6.11s\n",
      "837:\tlearn: 0.5419034\ttotal: 31.4s\tremaining: 6.07s\n",
      "838:\tlearn: 0.5418902\ttotal: 31.5s\tremaining: 6.04s\n",
      "839:\tlearn: 0.5418849\ttotal: 31.5s\tremaining: 6s\n",
      "840:\tlearn: 0.5418731\ttotal: 31.5s\tremaining: 5.96s\n",
      "841:\tlearn: 0.5418635\ttotal: 31.6s\tremaining: 5.92s\n",
      "842:\tlearn: 0.5418584\ttotal: 31.6s\tremaining: 5.88s\n",
      "843:\tlearn: 0.5418412\ttotal: 31.6s\tremaining: 5.85s\n",
      "844:\tlearn: 0.5418210\ttotal: 31.7s\tremaining: 5.81s\n",
      "845:\tlearn: 0.5418093\ttotal: 31.7s\tremaining: 5.77s\n",
      "846:\tlearn: 0.5418004\ttotal: 31.7s\tremaining: 5.73s\n",
      "847:\tlearn: 0.5417876\ttotal: 31.8s\tremaining: 5.7s\n",
      "848:\tlearn: 0.5417628\ttotal: 31.8s\tremaining: 5.66s\n",
      "849:\tlearn: 0.5417515\ttotal: 31.9s\tremaining: 5.62s\n",
      "850:\tlearn: 0.5417403\ttotal: 31.9s\tremaining: 5.58s\n",
      "851:\tlearn: 0.5417208\ttotal: 31.9s\tremaining: 5.55s\n",
      "852:\tlearn: 0.5417102\ttotal: 32s\tremaining: 5.51s\n",
      "853:\tlearn: 0.5416911\ttotal: 32s\tremaining: 5.47s\n",
      "854:\tlearn: 0.5416769\ttotal: 32.1s\tremaining: 5.44s\n",
      "855:\tlearn: 0.5416668\ttotal: 32.1s\tremaining: 5.4s\n",
      "856:\tlearn: 0.5416488\ttotal: 32.1s\tremaining: 5.36s\n",
      "857:\tlearn: 0.5416348\ttotal: 32.2s\tremaining: 5.32s\n",
      "858:\tlearn: 0.5416169\ttotal: 32.2s\tremaining: 5.28s\n",
      "859:\tlearn: 0.5416131\ttotal: 32.2s\tremaining: 5.25s\n",
      "860:\tlearn: 0.5416061\ttotal: 32.3s\tremaining: 5.21s\n",
      "861:\tlearn: 0.5415999\ttotal: 32.3s\tremaining: 5.17s\n",
      "862:\tlearn: 0.5415939\ttotal: 32.3s\tremaining: 5.13s\n",
      "863:\tlearn: 0.5415774\ttotal: 32.4s\tremaining: 5.1s\n",
      "864:\tlearn: 0.5415668\ttotal: 32.4s\tremaining: 5.06s\n",
      "865:\tlearn: 0.5415587\ttotal: 32.5s\tremaining: 5.02s\n",
      "866:\tlearn: 0.5415380\ttotal: 32.5s\tremaining: 4.98s\n",
      "867:\tlearn: 0.5415282\ttotal: 32.5s\tremaining: 4.95s\n",
      "868:\tlearn: 0.5415181\ttotal: 32.6s\tremaining: 4.91s\n",
      "869:\tlearn: 0.5415031\ttotal: 32.6s\tremaining: 4.87s\n",
      "870:\tlearn: 0.5414818\ttotal: 32.7s\tremaining: 4.84s\n",
      "871:\tlearn: 0.5414520\ttotal: 32.7s\tremaining: 4.8s\n",
      "872:\tlearn: 0.5414328\ttotal: 32.7s\tremaining: 4.76s\n",
      "873:\tlearn: 0.5414264\ttotal: 32.8s\tremaining: 4.72s\n",
      "874:\tlearn: 0.5414113\ttotal: 32.8s\tremaining: 4.69s\n",
      "875:\tlearn: 0.5413983\ttotal: 32.8s\tremaining: 4.65s\n",
      "876:\tlearn: 0.5413867\ttotal: 32.9s\tremaining: 4.61s\n",
      "877:\tlearn: 0.5413770\ttotal: 32.9s\tremaining: 4.57s\n",
      "878:\tlearn: 0.5413723\ttotal: 33s\tremaining: 4.54s\n",
      "879:\tlearn: 0.5413528\ttotal: 33s\tremaining: 4.5s\n",
      "880:\tlearn: 0.5413462\ttotal: 33s\tremaining: 4.46s\n",
      "881:\tlearn: 0.5413377\ttotal: 33.1s\tremaining: 4.42s\n",
      "882:\tlearn: 0.5413296\ttotal: 33.1s\tremaining: 4.39s\n",
      "883:\tlearn: 0.5413202\ttotal: 33.2s\tremaining: 4.35s\n",
      "884:\tlearn: 0.5413031\ttotal: 33.2s\tremaining: 4.31s\n",
      "885:\tlearn: 0.5412980\ttotal: 33.2s\tremaining: 4.28s\n",
      "886:\tlearn: 0.5412803\ttotal: 33.3s\tremaining: 4.24s\n",
      "887:\tlearn: 0.5412673\ttotal: 33.3s\tremaining: 4.2s\n",
      "888:\tlearn: 0.5412522\ttotal: 33.3s\tremaining: 4.16s\n",
      "889:\tlearn: 0.5412378\ttotal: 33.4s\tremaining: 4.13s\n",
      "890:\tlearn: 0.5412285\ttotal: 33.4s\tremaining: 4.09s\n",
      "891:\tlearn: 0.5412222\ttotal: 33.5s\tremaining: 4.05s\n",
      "892:\tlearn: 0.5412172\ttotal: 33.5s\tremaining: 4.01s\n",
      "893:\tlearn: 0.5412093\ttotal: 33.5s\tremaining: 3.98s\n",
      "894:\tlearn: 0.5412010\ttotal: 33.6s\tremaining: 3.94s\n",
      "895:\tlearn: 0.5411860\ttotal: 33.6s\tremaining: 3.9s\n",
      "896:\tlearn: 0.5411793\ttotal: 33.7s\tremaining: 3.86s\n",
      "897:\tlearn: 0.5411742\ttotal: 33.7s\tremaining: 3.83s\n",
      "898:\tlearn: 0.5411603\ttotal: 33.7s\tremaining: 3.79s\n",
      "899:\tlearn: 0.5411485\ttotal: 33.8s\tremaining: 3.75s\n",
      "900:\tlearn: 0.5411370\ttotal: 33.8s\tremaining: 3.71s\n",
      "901:\tlearn: 0.5411244\ttotal: 33.9s\tremaining: 3.68s\n",
      "902:\tlearn: 0.5411006\ttotal: 33.9s\tremaining: 3.64s\n",
      "903:\tlearn: 0.5410933\ttotal: 33.9s\tremaining: 3.6s\n",
      "904:\tlearn: 0.5410858\ttotal: 34s\tremaining: 3.57s\n",
      "905:\tlearn: 0.5410762\ttotal: 34s\tremaining: 3.53s\n",
      "906:\tlearn: 0.5410572\ttotal: 34.1s\tremaining: 3.49s\n",
      "907:\tlearn: 0.5410529\ttotal: 34.1s\tremaining: 3.45s\n",
      "908:\tlearn: 0.5410399\ttotal: 34.1s\tremaining: 3.42s\n",
      "909:\tlearn: 0.5410269\ttotal: 34.2s\tremaining: 3.38s\n",
      "910:\tlearn: 0.5410161\ttotal: 34.2s\tremaining: 3.34s\n",
      "911:\tlearn: 0.5410050\ttotal: 34.3s\tremaining: 3.31s\n",
      "912:\tlearn: 0.5409904\ttotal: 34.3s\tremaining: 3.27s\n",
      "913:\tlearn: 0.5409821\ttotal: 34.3s\tremaining: 3.23s\n",
      "914:\tlearn: 0.5409699\ttotal: 34.4s\tremaining: 3.19s\n",
      "915:\tlearn: 0.5409602\ttotal: 34.4s\tremaining: 3.15s\n",
      "916:\tlearn: 0.5409459\ttotal: 34.5s\tremaining: 3.12s\n",
      "917:\tlearn: 0.5409398\ttotal: 34.5s\tremaining: 3.08s\n",
      "918:\tlearn: 0.5409296\ttotal: 34.5s\tremaining: 3.04s\n",
      "919:\tlearn: 0.5409179\ttotal: 34.6s\tremaining: 3s\n",
      "920:\tlearn: 0.5409080\ttotal: 34.6s\tremaining: 2.97s\n",
      "921:\tlearn: 0.5408911\ttotal: 34.6s\tremaining: 2.93s\n",
      "922:\tlearn: 0.5408867\ttotal: 34.7s\tremaining: 2.89s\n",
      "923:\tlearn: 0.5408763\ttotal: 34.7s\tremaining: 2.85s\n",
      "924:\tlearn: 0.5408684\ttotal: 34.8s\tremaining: 2.82s\n",
      "925:\tlearn: 0.5408511\ttotal: 34.8s\tremaining: 2.78s\n",
      "926:\tlearn: 0.5408444\ttotal: 34.8s\tremaining: 2.74s\n",
      "927:\tlearn: 0.5408313\ttotal: 34.9s\tremaining: 2.71s\n",
      "928:\tlearn: 0.5408189\ttotal: 34.9s\tremaining: 2.67s\n",
      "929:\tlearn: 0.5408067\ttotal: 35s\tremaining: 2.63s\n",
      "930:\tlearn: 0.5407991\ttotal: 35s\tremaining: 2.59s\n",
      "931:\tlearn: 0.5407952\ttotal: 35s\tremaining: 2.56s\n",
      "932:\tlearn: 0.5407818\ttotal: 35.1s\tremaining: 2.52s\n",
      "933:\tlearn: 0.5407735\ttotal: 35.1s\tremaining: 2.48s\n",
      "934:\tlearn: 0.5407596\ttotal: 35.2s\tremaining: 2.44s\n",
      "935:\tlearn: 0.5407497\ttotal: 35.2s\tremaining: 2.41s\n",
      "936:\tlearn: 0.5407403\ttotal: 35.2s\tremaining: 2.37s\n",
      "937:\tlearn: 0.5407253\ttotal: 35.3s\tremaining: 2.33s\n",
      "938:\tlearn: 0.5407144\ttotal: 35.3s\tremaining: 2.29s\n",
      "939:\tlearn: 0.5407072\ttotal: 35.3s\tremaining: 2.26s\n",
      "940:\tlearn: 0.5406998\ttotal: 35.4s\tremaining: 2.22s\n",
      "941:\tlearn: 0.5406828\ttotal: 35.4s\tremaining: 2.18s\n",
      "942:\tlearn: 0.5406758\ttotal: 35.5s\tremaining: 2.14s\n",
      "943:\tlearn: 0.5406630\ttotal: 35.5s\tremaining: 2.1s\n",
      "944:\tlearn: 0.5406525\ttotal: 35.5s\tremaining: 2.07s\n",
      "945:\tlearn: 0.5406432\ttotal: 35.6s\tremaining: 2.03s\n",
      "946:\tlearn: 0.5406328\ttotal: 35.6s\tremaining: 1.99s\n",
      "947:\tlearn: 0.5406271\ttotal: 35.6s\tremaining: 1.96s\n",
      "948:\tlearn: 0.5406216\ttotal: 35.7s\tremaining: 1.92s\n",
      "949:\tlearn: 0.5406162\ttotal: 35.7s\tremaining: 1.88s\n",
      "950:\tlearn: 0.5405957\ttotal: 35.8s\tremaining: 1.84s\n",
      "951:\tlearn: 0.5405864\ttotal: 35.8s\tremaining: 1.8s\n",
      "952:\tlearn: 0.5405741\ttotal: 35.8s\tremaining: 1.77s\n",
      "953:\tlearn: 0.5405631\ttotal: 35.9s\tremaining: 1.73s\n",
      "954:\tlearn: 0.5405529\ttotal: 35.9s\tremaining: 1.69s\n",
      "955:\tlearn: 0.5405419\ttotal: 36s\tremaining: 1.65s\n",
      "956:\tlearn: 0.5405235\ttotal: 36s\tremaining: 1.62s\n",
      "957:\tlearn: 0.5405075\ttotal: 36s\tremaining: 1.58s\n",
      "958:\tlearn: 0.5404955\ttotal: 36.1s\tremaining: 1.54s\n",
      "959:\tlearn: 0.5404836\ttotal: 36.1s\tremaining: 1.5s\n",
      "960:\tlearn: 0.5404692\ttotal: 36.1s\tremaining: 1.47s\n",
      "961:\tlearn: 0.5404589\ttotal: 36.2s\tremaining: 1.43s\n",
      "962:\tlearn: 0.5404472\ttotal: 36.2s\tremaining: 1.39s\n",
      "963:\tlearn: 0.5404380\ttotal: 36.3s\tremaining: 1.35s\n",
      "964:\tlearn: 0.5404255\ttotal: 36.3s\tremaining: 1.32s\n"
     ]
    },
    {
     "name": "stdout",
     "output_type": "stream",
     "text": [
      "965:\tlearn: 0.5404113\ttotal: 36.3s\tremaining: 1.28s\n",
      "966:\tlearn: 0.5403921\ttotal: 36.4s\tremaining: 1.24s\n",
      "967:\tlearn: 0.5403831\ttotal: 36.4s\tremaining: 1.2s\n",
      "968:\tlearn: 0.5403702\ttotal: 36.4s\tremaining: 1.17s\n",
      "969:\tlearn: 0.5403610\ttotal: 36.5s\tremaining: 1.13s\n",
      "970:\tlearn: 0.5403483\ttotal: 36.5s\tremaining: 1.09s\n",
      "971:\tlearn: 0.5403436\ttotal: 36.6s\tremaining: 1.05s\n",
      "972:\tlearn: 0.5403328\ttotal: 36.6s\tremaining: 1.01s\n",
      "973:\tlearn: 0.5403218\ttotal: 36.6s\tremaining: 978ms\n",
      "974:\tlearn: 0.5403132\ttotal: 36.7s\tremaining: 940ms\n",
      "975:\tlearn: 0.5402943\ttotal: 36.7s\tremaining: 903ms\n",
      "976:\tlearn: 0.5402797\ttotal: 36.7s\tremaining: 865ms\n",
      "977:\tlearn: 0.5402674\ttotal: 36.8s\tremaining: 827ms\n",
      "978:\tlearn: 0.5402500\ttotal: 36.8s\tremaining: 790ms\n",
      "979:\tlearn: 0.5402420\ttotal: 36.9s\tremaining: 752ms\n",
      "980:\tlearn: 0.5402235\ttotal: 36.9s\tremaining: 714ms\n",
      "981:\tlearn: 0.5402117\ttotal: 36.9s\tremaining: 677ms\n",
      "982:\tlearn: 0.5401984\ttotal: 37s\tremaining: 639ms\n",
      "983:\tlearn: 0.5401920\ttotal: 37s\tremaining: 602ms\n",
      "984:\tlearn: 0.5401853\ttotal: 37s\tremaining: 564ms\n",
      "985:\tlearn: 0.5401660\ttotal: 37.1s\tremaining: 527ms\n",
      "986:\tlearn: 0.5401535\ttotal: 37.1s\tremaining: 489ms\n",
      "987:\tlearn: 0.5401448\ttotal: 37.2s\tremaining: 451ms\n",
      "988:\tlearn: 0.5401264\ttotal: 37.2s\tremaining: 414ms\n",
      "989:\tlearn: 0.5401191\ttotal: 37.2s\tremaining: 376ms\n",
      "990:\tlearn: 0.5401080\ttotal: 37.3s\tremaining: 339ms\n",
      "991:\tlearn: 0.5400961\ttotal: 37.3s\tremaining: 301ms\n",
      "992:\tlearn: 0.5400775\ttotal: 37.3s\tremaining: 263ms\n",
      "993:\tlearn: 0.5400734\ttotal: 37.4s\tremaining: 226ms\n",
      "994:\tlearn: 0.5400634\ttotal: 37.4s\tremaining: 188ms\n",
      "995:\tlearn: 0.5400547\ttotal: 37.5s\tremaining: 150ms\n",
      "996:\tlearn: 0.5400385\ttotal: 37.5s\tremaining: 113ms\n",
      "997:\tlearn: 0.5400274\ttotal: 37.5s\tremaining: 75.2ms\n",
      "998:\tlearn: 0.5400209\ttotal: 37.6s\tremaining: 37.6ms\n",
      "999:\tlearn: 0.5400102\ttotal: 37.6s\tremaining: 0us\n"
     ]
    },
    {
     "data": {
      "text/plain": [
       "<catboost.core.CatBoostClassifier at 0x2233768a4e0>"
      ]
     },
     "execution_count": 35,
     "metadata": {},
     "output_type": "execute_result"
    }
   ],
   "source": [
    "# Labelling the categorical features\n",
    "cat_features= [0,1,2,3]\n",
    "\n",
    "cb_clf.fit(x_train, y_train, cat_features)"
   ]
  },
  {
   "cell_type": "code",
   "execution_count": 36,
   "metadata": {
    "hideCode": true,
    "hidePrompt": true
   },
   "outputs": [],
   "source": [
    "y_pred = cb_clf.predict(x_test)"
   ]
  }
 ],
 "metadata": {
  "accelerator": "GPU",
  "celltoolbar": "Hide code",
  "colab": {
   "collapsed_sections": [],
   "name": "NLP Model.ipynb",
   "provenance": []
  },
  "kernelspec": {
   "display_name": "Python 3",
   "language": "python",
   "name": "python3"
  },
  "language_info": {
   "codemirror_mode": {
    "name": "ipython",
    "version": 3
   },
   "file_extension": ".py",
   "mimetype": "text/x-python",
   "name": "python",
   "nbconvert_exporter": "python",
   "pygments_lexer": "ipython3",
   "version": "3.7.3"
  }
 },
 "nbformat": 4,
 "nbformat_minor": 1
}
